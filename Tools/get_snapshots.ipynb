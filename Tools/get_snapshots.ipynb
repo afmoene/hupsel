{
 "cells": [
  {
   "cell_type": "markdown",
   "metadata": {
    "hideCode": false,
    "hidePrompt": false
   },
   "source": [
    "# How to retrieve a file from the Cocalc backup \n",
    "Cocalc frequently makes a backup of your work. In case something went terribly wrong with the files you were working on, you can retrieve a previous version of that file. \n",
    "\n",
    "As usual, first load some Python stuff"
   ]
  },
  {
   "cell_type": "code",
   "execution_count": null,
   "metadata": {
    "hideCode": false,
    "hidePrompt": false
   },
   "outputs": [],
   "source": [
    "from snapshot_retrieve import *"
   ]
  },
  {
   "cell_type": "markdown",
   "metadata": {
    "hideCode": false,
    "hidePrompt": false
   },
   "source": [
    "To see which snapshots are available, run the command list_snapshots()"
   ]
  },
  {
   "cell_type": "code",
   "execution_count": null,
   "metadata": {
    "hideCode": false,
    "hidePrompt": false
   },
   "outputs": [],
   "source": [
    "# List the available snapshots\n",
    "list_snapshots()"
   ]
  },
  {
   "cell_type": "markdown",
   "metadata": {
    "hideCode": false,
    "hidePrompt": false
   },
   "source": [
    "Now that you more or less know which snapshots are available, it is time to select one of those. For this you can use the command `retrieve`.\n",
    "\n",
    "`retrieve(fname, around_time, relative=before_or_after)`\n",
    "    \n",
    "This function retrieves a file from a snapshot and copies it to it's original location. Before copying, it makes a backup of the file that was currently in that original location. The name of that backup file is appended with the date/time at which the retrieval takes place.\n",
    "\n",
    "The arguments to the function are:\n",
    "\n",
    "* `fname`: the name (including path) of the file to be retrieved, starting in your home directory                 (e.g. `'hupsel/Step-1/Practical-1.ipynb'`)\n",
    "* `around_time`: time around which we should search for a snapshot. The format of this string is: `'2023-05-31 17:00:00'` where the time is in UTC\n",
    "* `relative`: this optional argument indicates if we should retrieve from a snapshot before (`relative='before'`) or after (`relative='after'`) the indicated time. When this argument is left out, the function will list which two snapshots could be useful."
   ]
  },
  {
   "cell_type": "code",
   "execution_count": null,
   "metadata": {
    "hideCode": false,
    "hidePrompt": false
   },
   "outputs": [],
   "source": [
    "# Check which snapshots could be relevant\n",
    "# Change the filename to the name you would like to retrieve, e.g. 'hupsel/Step-1/Practical-1.ipynb'\n",
    "retrieve('hupsel/Tools/snapshot_test_file.txt', '2023-06-01 08:05:00')"
   ]
  },
  {
   "cell_type": "code",
   "execution_count": null,
   "metadata": {
    "hideCode": false,
    "hidePrompt": false
   },
   "outputs": [],
   "source": [
    "# Now actually retrieve one of those two\n",
    "# Change the filename to the name you would like to retrieve, e.g. 'hupsel/Step-1/Practical-1.ipynb'\n",
    "retrieve('hupsel/Tools/snapshot_test_file.txt', '2023-06-01 08:05:00', relative='before')"
   ]
  },
  {
   "cell_type": "code",
   "execution_count": null,
   "metadata": {
    "hideCode": false,
    "hidePrompt": false
   },
   "outputs": [],
   "source": []
  }
 ],
 "metadata": {
  "hide_code_all_hidden": false,
  "kernelspec": {
   "display_name": "Python 3 (system-wide)",
   "language": "python",
   "name": "python3"
  },
  "language_info": {
   "codemirror_mode": {
    "name": "ipython",
    "version": 3
   },
   "file_extension": ".py",
   "mimetype": "text/x-python",
   "name": "python",
   "nbconvert_exporter": "python",
   "pygments_lexer": "ipython3",
   "version": "3.8.10"
  },
  "toc": {
   "base_numbering": 1,
   "nav_menu": {},
   "number_sections": false,
   "sideBar": true,
   "skip_h1_title": true,
   "title_cell": "Table of Contents",
   "title_sidebar": "Contents",
   "toc_cell": false,
   "toc_position": {},
   "toc_section_display": true,
   "toc_window_display": false
  }
 },
 "nbformat": 4,
 "nbformat_minor": 4
}
