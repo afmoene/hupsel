{
 "cells": [
  {
   "cell_type": "markdown",
   "metadata": {},
   "source": [
    "# Determination of actual evapotranspiration Hupsel 2021 (step 3 and 4)"
   ]
  },
  {
   "cell_type": "markdown",
   "metadata": {},
   "source": [
    "## Intro\n",
    "The first exercise of today complets the steps you made before: here you are going to  determine the actual evapotranspiration of the Hupsel catchment in the first weeks of May 2021. A subset of this result will be used in the determination of the Hupsel water balance (for May 5-18).  \n",
    "\n",
    "Today you will use the  process understanding that you obtained in step 1 and 2 to make the best possible estimate of the ET of the Hupsel catchment.\n",
    "\n",
    "#### NB: the answer sheet is still under construction\n",
    "Collect your answers in the [answer sheet](Actual_ET_1-answer-sheet.docx)."
   ]
  },
  {
   "cell_type": "markdown",
   "metadata": {},
   "source": [
    "<img src=\"analysis-overview.png\" width=\"80%\">"
   ]
  },
  {
   "cell_type": "markdown",
   "metadata": {},
   "source": [
    "## The method\n",
    "In the first two steps you have investigated how the actual evapo(transpi)ration of grass and bare soil reacts to the weather. In this we condensed 'the weather' into a single variable: the reference evapotranspiration according to the Makkink method.\n",
    "\n",
    "Your conclusion was that for some weather conditions and surface types ET<sub>act</sub> was larger than ET<sub>ref</sub>, for other moments it was lower. So a fixed 'crop factor' for a given surface is not enough to come to a good estimate of ET<sub>act</sub>. But based on the work you did before, you should be able to translate your knowledge about the variation of the crop factor into a new dataset: the data of May 2021.\n",
    "\n",
    "The steps to take are:\n",
    "* Determine ET<sub>ref</sub> for May 2021\n",
    "* Determine appropriate day-to-day 'crop factors' (based on your insights from step 1 and 2) for\n",
    "  * grass\n",
    "  * bare soil\n",
    "* Apply those crop factors to determine a time series of ET<sub>act</sub> for the dominant land use in the Hupsel catchment for May 2021\n",
    "  * grass\n",
    "  * bare soil\n",
    "* Determine the day-to-day values for the catchment-mean ET<sub>act</sub>\n",
    "\n",
    "As before, in these final steps we will focus on daily mean data (i.e. data that have been averaged over 24 hours).\n",
    "As a final reminder, supporting documentation i"
   ]
  },
  {
   "cell_type": "markdown",
   "metadata": {},
   "source": [
    "## The data\n",
    "The 2021 contains similar data as the 2014 data from Hupsel that you analyzed in step 1. However, the MAQ observations (radiation and turbulent fluxes) are missing."
   ]
  },
  {
   "cell_type": "markdown",
   "metadata": {},
   "source": [
    "## Initialize Python stuff and read the data\n",
    "Please run the cell below by selecting it and pressing Shift+Enter. Or Press the Run button in the toolbar at the top of the screen (with the right pointing triangle)."
   ]
  },
  {
   "cell_type": "code",
   "execution_count": 1,
   "metadata": {
    "scrolled": true
   },
   "outputs": [],
   "source": [
    "# Load some necessary Python modules\n",
    "import pandas as pd # Pandas is a library for data analysis\n",
    "pd.set_option(\"mode.chained_assignment\", None)\n",
    "import numpy as np # Numpy is a library for processing multi-dimensional datasets\n",
    "from hupsel_helper import myplot, myreadfile\n",
    "from hupsel_helper import f_Lv, f_esat, f_s, f_gamma, f_makkink, check_crop_factor, check_ET"
   ]
  },
  {
   "cell_type": "markdown",
   "metadata": {},
   "source": [
    "Now read the data for the current year from the Excel file."
   ]
  },
  {
   "cell_type": "code",
   "execution_count": 2,
   "metadata": {
    "scrolled": true
   },
   "outputs": [],
   "source": [
    "# File name: this is a different file that you worked on before\n",
    "fname='Hupsel2021_MeteoData.xlsx'\n",
    "\n",
    "# Get the data\n",
    "df = myreadfile(fname)"
   ]
  },
  {
   "cell_type": "markdown",
   "metadata": {},
   "source": [
    "## Explore the data\n",
    "### Information available in the dataframe\n",
    "Before you start making computations with the data it is wise to first explore the data.\n",
    "\n",
    "Just as in the previous notebooks you can obtain additiona information\n",
    "* `df.keys()` gives the available variables\n",
    "* `df.attrs['units']` gives information about the units\n",
    "* `df.attrs['description']` gives more a complete description of the variables: .\n",
    "\n",
    "### Inspect the data\n",
    "Just as in the previous notebooks there are various ways to explore the data: print the data frame, print a single variable, plot a combination of variables with `myplot` (see previous notebook for documentation).\n",
    "There are a number of ways to inspect the data:\n",
    "* print the full dataframe in a cell (simply type `df` and run the cell)\n",
    "* print a single variable from the dataframe (type for instance `df['K_in']` to show the values of global radiation)\n",
    "* plot the data with the plot command `myplot` (for documentation of the function: type `help(myplot)`\n",
    "       \n",
    "\n",
    "### <span style='background:lightblue'>Question 1</span>\n",
    "Characterize the weather conditions during the period in which the data were gathered. Now do this on a day-to-day based. Your analysis should be sufficiently detailed so that you will be able to assign an appropriate 'crop factor' for grass and bare soil for each day."
   ]
  },
  {
   "cell_type": "code",
   "execution_count": null,
   "metadata": {},
   "outputs": [],
   "source": []
  },
  {
   "cell_type": "markdown",
   "metadata": {
    "scrolled": false
   },
   "source": [
    "## Determine the reference evapotranspiration\n",
    "By now, this step should be relatively straightforward. Just as in the previous steps -for consistency- we use  the Makkink equation to determine the reference ET. The essential equations can be found in the [Formularium of Atmosphere-Vegetation-Soil Interactions](Forumularium_AVSI_2021.pdf). \n",
    "\n",
    "In the practical for step 1 you developed a number of functions. Those are now directly available to you:\n",
    "* `f_Lv(T)`: compte latent heat of vapourization from temperature (in K)\n",
    "* `f_esat(T)`: compute saturated vapour pressure from temperature (in K)\n",
    "* `f_s(T)`: compute the slope of the saturated vapour pressure as a function of temperature (in K)\n",
    "* `f_gamma(T, p, q)`: compute the psychrometer constant from temperature (K), pressure (Pa) and specific humidity (kg/kg)\n",
    "* `f_makkink(Kin, T, p, q)`: compute reference evapotranspiration according to the Makkink equation.\n",
    "\n",
    "### <span style='background:lightblue'>Question 2</span>\n",
    "Determine the reference evapotranspiration for the 2021 dataset in mm/day (as always: check units of your data). Explore its variation with time, and link that to the variations you observe in the meteorological conditions (discussed in question 1)."
   ]
  },
  {
   "cell_type": "code",
   "execution_count": null,
   "metadata": {},
   "outputs": [],
   "source": []
  },
  {
   "cell_type": "markdown",
   "metadata": {},
   "source": [
    "Since we are going to make many more new variables, it would be nice to collect them in a new data frame.\n",
    "\n",
    "### Python: construct a new data frame\n",
    "You are going to store your results in a new dataframe (to keep the original data and your results separate). A new dataframe can be constructed as follows: \n",
    "```\n",
    "df_out = pd.DataFrame()\n",
    "``` \n",
    "(of course you can use any name on the left-hand-side). Next, copy the Date column from the original data frame to your own, so that it relates to the same dates (and has the same length: \n",
    "```\n",
    "df_out['Date'] = df['Date']\n",
    "``` \n",
    "(the name of the column containing the date is arbitrary, but for consistency I propose to use 'Date'). Make these steps in the cell below, and check your result with `print(df_out)`. It should roughly look like this:\n",
    "\n",
    "```\n",
    "                 Date\n",
    "Date                 \n",
    "2021-05-01 2021-05-01\n",
    "2021-05-02 2021-05-02\n",
    "2021-05-03 2021-05-03\n",
    "2021-05-04 2021-05-04\n",
    "....\n",
    "```\n",
    "In the cell below, construct a new dataframe, and add the column 'Date'. Subsequently, add the reference evapotranspiration you just calculated (e.g. name it 'ET_ref')."
   ]
  },
  {
   "cell_type": "code",
   "execution_count": null,
   "metadata": {},
   "outputs": [],
   "source": []
  },
  {
   "cell_type": "markdown",
   "metadata": {
    "scrolled": true
   },
   "source": [
    "## Determine appropriate day-to-day 'crop factors'  for grass and bare soil\n",
    "\n",
    "The next step is to define time series for the 'crop factors' for grass and bare soil. For this it is useful to first add eom empty variables to the dataframe.\n",
    "\n",
    "### Python: Define empty variables\n",
    "Now you can add two columns to your output data frame, one for each 'crop factor'. Those columns will automatically get the same length. You can freely choose the name of that column. For the moment, just put a not-a-number code in there (defined in the library numpy), later on you will add correct values: \n",
    "```\n",
    "df_out['k_grass'] = np.nan\n",
    "```` \n",
    "In the cell below add columns for the 'crop factors' for grass and bare soil."
   ]
  },
  {
   "cell_type": "code",
   "execution_count": null,
   "metadata": {},
   "outputs": [],
   "source": []
  },
  {
   "cell_type": "markdown",
   "metadata": {},
   "source": [
    "### Python: fill the new variables, possibly based on existing ones\n",
    "There are a number of ways in which you can fill the newly constructed columns for the 'crop factor'. For this it may be helpful to know that there is a short-hand way to address a column in a dataframe. You were used to write `df['K_in']` to get the global radiation from the data frame. But `df.K_in` also works. In the examples below we will mostly use that notation.\n",
    "\n",
    "#### Assign the values day-by-day\n",
    "You can access a certain row in the variable directly. You can select the row by adding `.iloc[row_number]`, e.g. `df_out.k_soil.loc[2] = 1.2`. But you can also access it by the date as in this dataframe the date is used as the row-lavel: `df_out.k_soil.loc['2021-05-03'] = 1.2` (note that we use `.loc` here, rather than `.iloc`).\n",
    "\n",
    "#### Assign values based on conditions on other variables\n",
    "Suppose that you want to make your 'crop factor' dependent on the air temperature, you could fill it with the `np.where` function (the logic of `where` is: `where(condition, if_true, if_false)` returns a new series filled with `if_true` for those locations where the `condition` is true, and with `if_false` if the `condition` is false. The following expression would fill `df.k_soil` with a value `1.0` for those days that the temperature is above 10 degree Celcius, and otherwise use `0.8`.\n",
    "```\n",
    "df_out.k_soil = np.where( (df.T_1_5 > 10.0), 9.0, 10.0)\n",
    "```\n",
    "You can also combine conditions:\n",
    "* if both conditions should be true: condition1 & condition2\n",
    "* if one of both conditions should be true: condition | condition2\n",
    "\n",
    "E.g. you could required that the temperature should be above 10 degree Celcius, and the relative humidity should be below 80%:\n",
    "```\n",
    "df_out.k_soil = np.where( ( (df.T_1_5 > 10.0) & (df.RH_1_5 < 80.0) ), 1.0, 0.3)\n",
    "```\n",
    "In the cell below you can test some conditions (use a dummy dataframe for this so that you do not cause any damage)."
   ]
  },
  {
   "cell_type": "code",
   "execution_count": 3,
   "metadata": {},
   "outputs": [],
   "source": [
    "# Test with filling the dataframe point-by-point\n",
    "df_test = pd.DataFrame()\n",
    "df_test['Date'] = df['Date']\n",
    "df_test['var1'] = np.nan\n",
    "df_test.var1.iloc[1] = 1.2\n",
    "df_test['var1']['2021-05-03'] = 2.4\n",
    "\n",
    "# Test with filling the dataframe using a condition\n",
    "## One condition\n",
    "df_test['var2'] = np.nan\n",
    "df_test.var2 = np.where( (df.T_1_5 > 10.0), 9.0, 10.0)\n",
    "## Two conditions\n",
    "df_test['var3'] = np.nan\n",
    "df_test.var3 = np.where( ( (df.T_1_5 > 10.0) & (df.RH_1_5 < 80.0) ), 1.0, 0.3)\n",
    "## One condition, and if false, keep the old value\n",
    "df_test['var4'] = np.nan\n",
    "df_test.var4 = np.where( (df.T_1_5 > 10.0), 9.0, df_test.var4)\n",
    "\n",
    "# print (df_test)"
   ]
  },
  {
   "cell_type": "markdown",
   "metadata": {
    "scrolled": true
   },
   "source": [
    "### Back to the exercise: construct the day-to-day cropfactor for grass\n",
    "Now construct a time series of the 'crop factor' for grass for the time period of the current dataset. You should base that on the work you've done in Step 1 (last week) and your insights on the weather in the current dataset (based on your exploration at the start of this notebook).\n",
    "\n",
    "### <span style='background:lightblue'>Question 3</span>\n",
    "Construct a time series of the 'crop factor' for grass and store it in your dataframe. Check that the numbers that you constructed make sense. With the function `check_crop_factor(cf)` you can check your constructed crop factor for common errors (replace 'cf' by your variable containing the crop factor)"
   ]
  },
  {
   "cell_type": "code",
   "execution_count": 15,
   "metadata": {},
   "outputs": [],
   "source": [
    "# Use this cell to construct your crop factor\n"
   ]
  },
  {
   "cell_type": "code",
   "execution_count": 5,
   "metadata": {},
   "outputs": [],
   "source": [
    "# Check your crop factor\n",
    "# check_crop_factor( )"
   ]
  },
  {
   "cell_type": "markdown",
   "metadata": {},
   "source": [
    "### Construct the day-to-day cropfactor for bare soil\n",
    "\n",
    "Next,  construct a time series of the 'crop factor' for bare soil for the current dataset. For this, use your work of  Step 2 (last week) and your insights on the weather in the current dataset (based on your exploration at the start of this notebook).\n",
    "\n",
    "### <span style='background:lightblue'>Question 4</span>\n",
    "Construct a time series of the 'crop factor' for bare soil and store it in your dataframe.  Check that the numbers that you constructed make sense."
   ]
  },
  {
   "cell_type": "code",
   "execution_count": 6,
   "metadata": {
    "scrolled": true
   },
   "outputs": [],
   "source": [
    "# Use this cell to construct your crop factor\n"
   ]
  },
  {
   "cell_type": "code",
   "execution_count": 7,
   "metadata": {},
   "outputs": [],
   "source": [
    "# Check your crop factor\n",
    "# check_crop_factor( )"
   ]
  },
  {
   "cell_type": "markdown",
   "metadata": {
    "scrolled": true
   },
   "source": [
    "By now your output dataframe should at least contain columns for the date, the reference evapotranspiration and two 'crop factors'.\n",
    "\n",
    "## Apply the 'crop factors' to obtain estimates of ET<sub>act</sub>\n",
    "Now combine the reference evapotranspiration with the two crop factors to obtain estimates of the actual evapotranspiration of grass, and the actual evaporation from bare soil. \n",
    "\n",
    "### <span style='background:lightblue'>Question 5</span>\n",
    "Construct a time series of actual evapotranspiration of grass and bare soil and store both series in your dataframe. Check whether the computed ET values are reasonable."
   ]
  },
  {
   "cell_type": "code",
   "execution_count": null,
   "metadata": {},
   "outputs": [],
   "source": [
    "# Use this cell to construct your ET_act for grass and bare soil\n"
   ]
  },
  {
   "cell_type": "code",
   "execution_count": null,
   "metadata": {},
   "outputs": [],
   "source": [
    "# Check your ET values\n",
    "# check_ET( )"
   ]
  },
  {
   "cell_type": "markdown",
   "metadata": {},
   "source": [
    "## Determine the actual evapotranspiration for the full catchment\n",
    "Now that you gave estimate of the actual evapotranspiration of both dominant land-use types, you can combine them into an estimate for the entire catchment. For this, use you knowledge about the catchment in terms of the relative contribution of the various land-use types.\n",
    "\n",
    "### <span style='background:lightblue'>Question 6</span>\n",
    "Compute the actual evapotranspiration in mm/day for the entire catchment, for each day in the dataset. Store this as a new variable in your dataframe."
   ]
  },
  {
   "cell_type": "code",
   "execution_count": null,
   "metadata": {
    "scrolled": true
   },
   "outputs": [],
   "source": [
    "# Use this cell to construct your ET_act for grass and bare soil\n"
   ]
  },
  {
   "cell_type": "code",
   "execution_count": null,
   "metadata": {},
   "outputs": [],
   "source": [
    "# Check your ET values\n",
    "# check_ET( )"
   ]
  },
  {
   "cell_type": "markdown",
   "metadata": {},
   "source": [
    "## Conclusion\n",
    "With this, you've come to the end of the 4-step process to determine the actual evapotranspiration of the Hupsel catchment for May 2021. \n",
    "### <span style='background:lightblue'>Question 7</span>\n",
    "Now that you have your final results, there are two things to do:\n",
    "* save the values for May 5 until May 18 (inclusive) so that you can use them as part of the overall water balance you're going to make for the catchment\n",
    "* upload your values for the full dataseries via the Microsoft Forms (NB: needs to be constructed still).\n",
    "\n",
    "\n",
    "## Up to the next exercise\n",
    "In the next exercise for this morning you are going to extend your expertise on reference evapotranspiration methods to the methods of Penman-Monteith and Priestley-Taylor."
   ]
  }
 ],
 "metadata": {
  "kernelspec": {
   "display_name": "Python 3",
   "language": "python",
   "name": "python3"
  },
  "language_info": {
   "codemirror_mode": {
    "name": "ipython",
    "version": 3
   },
   "file_extension": ".py",
   "mimetype": "text/x-python",
   "name": "python",
   "nbconvert_exporter": "python",
   "pygments_lexer": "ipython3",
   "version": "3.8.2"
  }
 },
 "nbformat": 4,
 "nbformat_minor": 4
}
