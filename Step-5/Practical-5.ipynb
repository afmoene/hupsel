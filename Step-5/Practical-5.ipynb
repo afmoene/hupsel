{
 "cells": [
  {
   "cell_type": "markdown",
   "metadata": {},
   "source": [
    "# More methods for reference ET: Hupsel 2011 data \\(step 5\\)\n",
    "\n"
   ]
  },
  {
   "cell_type": "markdown",
   "metadata": {
    "editable": false
   },
   "source": [
    "## Intro\n",
    "Until now you have solely used the Makkink method to determine the reference evapotranspiration. Although the methods originates in the Netherlands, it is gaining traction in scientific literature in the past 20 years. Methods that are internationally more commonly used are Priestley-Taylor and Penman-Monteith. In particular the latter, as it forms the basis for the standard method of the FAO to determine crop evapotranspiration (FAO: Food and Agriculture Organization of the UN). \n",
    "\n",
    "Some additional information about the various reference ET methods, and in particular the details on how to apply the Penman-Monteith equation in the context of the FAO guidelines, is given in this [overview](reference_ET_concept.pdf). \n",
    "\n",
    "In this exercise you will compute the reference ET with three methods (Makkink, Priestley-Taylor and Penman-Monteith), and compare those to the actual evapotranspiration. For this you will use the 2011 Hupsel data (daily means) again. Furthermore, we will have a look at the effect of averaging (for which we will use the 30-minute data from 2011).\n",
    "\n",
    "Collect your answers in the <a href=\"Actual_ET_5-answer-sheet.docx\" download>answer sheet</a>.\n",
    "\n",
    "Note: if you want to know all the nitty-gritty details of the FAO-method (not needed for this practical): you find them here at [FAO](http://www.fao.org/3/x0490e/x0490e00.htm)."
   ]
  },
  {
   "cell_type": "markdown",
   "metadata": {
    "editable": false
   },
   "source": [
    "## The method\n",
    "The main steps of the analysis of this exercise are:\n",
    "1. Compute the reference ET with three methods, based on daily mean data\n",
    "2. Compare the results of those three methods between each other\n",
    "3. Compare the results of the three methods with the actual evapotranspiration\n",
    "In the last two steps you will certainly find differences. Those difference may well be related to the specific weather conditions or surface conditions. Hence, your analysis of the weather conditions during May 2011, which you made in Step-1, will come in handy.\n",
    "\n",
    "Some of the steps you have done in Practical-1 already, namely computing ET<sub>ref</sub> with Makkink and computing ET<sub>act</sub> from the eddycovariance data. There is no need to copy over the results from Step-1 as you will easily reproduce them here. \n",
    "\n",
    "Hence the main tasks will be to \n",
    "* implement functions for the Priestley-Taylor and Penman-Monteith method\n",
    "* do the comparison\n",
    "\n"
   ]
  },
  {
   "cell_type": "markdown",
   "metadata": {
    "editable": false
   },
   "source": [
    "## The data\n",
    "The data that you will use here are identical to the data you used in Step-1. In this practical we will start again using the daily mean data (i.e. data that have been averaged over 24 hours). But at the end there are also a number of questions where you will use the 30-minute averaged data (this will be come clear once you get there)."
   ]
  },
  {
   "cell_type": "markdown",
   "metadata": {},
   "source": [
    "## Initialize Python stuff and read the data\n",
    "Please run the cell below by selecting it and pressing Shift+Enter. Or Press the Run button in the toolbar at the top of the screen (with the right pointing triangle)."
   ]
  },
  {
   "cell_type": "code",
   "execution_count": null,
   "metadata": {
    "scrolled": true
   },
   "outputs": [],
   "source": [
    "# Load some necessary Python modules\n",
    "import pandas as pd # Pandas is a library for data analysis\n",
    "import numpy as np\n",
    "pd.set_option(\"mode.chained_assignment\", None)\n",
    "import numpy as np # Numpy is a library for processing multi-dimensional datasets\n",
    "from hupsel_helper import myplot, myreadfile\n",
    "from hupsel_helper import f_Lv, f_esat, f_s, f_gamma, f_cp, f_makkink, check_v_ET, check_f_PT, check_f_ra, check_f_PM"
   ]
  },
  {
   "cell_type": "markdown",
   "metadata": {
    "editable": false
   },
   "source": [
    "With the commands above, the following functions have become available (only `f_cp` is new):\n",
    "* `f_Lv(T)`: compte latent heat of vapourization from temperature (in K)\n",
    "* `f_esat(T)`: compute saturated vapour pressure from temperature (in K)\n",
    "* `f_s(T)`: compute the slope of the saturated vapour pressure as a function of temperature (in K)\n",
    "* `f_gamma(T, p, q)`: compute the psychrometer constant from temperature (K), pressure (Pa) and specific humidity (kg/kg)\n",
    "* `f_cp(q)`: compute the specific heat of air (in J/kg/K) using specific humidity (in kg/kg)\n",
    "* `f_makkink(Kin, T, p, q)`: compute reference evapotranspiration according to the Makkink equation.\n",
    "\n",
    "Furthermore, we will need some new check functions here (`check_f` to check functions, `check_v` to check values):\n",
    "* `check_v_ET`: check plausibility of your ET values (in mm/day)\n",
    "* `check_f_ra`: check plausibility of your aerodynamic resistance function\n",
    "* `check_f_PT`: check the correctness of your Priestley-Taylor function\n",
    "* `check_f_PM`: check the correctness of your Penman-Monteith function\n",
    "\n",
    "Now read the data for the current year from the Excel file."
   ]
  },
  {
   "cell_type": "code",
   "execution_count": null,
   "metadata": {
    "scrolled": true
   },
   "outputs": [],
   "source": [
    "# File name: this is a different file that you worked on before\n",
    "fname='Hupsel2011_MeteoData.xlsx'\n",
    "\n",
    "# Get the data\n",
    "df = myreadfile(fname)"
   ]
  },
  {
   "cell_type": "markdown",
   "metadata": {
    "editable": false
   },
   "source": [
    "## Prepare the functions to compute ET<sub>ref</sub>\n",
    "       \n",
    "\n",
    "### <span style='background:lightblue'>Question 1a</span>\n",
    "Construct your function to compute ET<sub>ref</sub> according to **Priestley-Taylor**. This method is quite close to the Makkink method, so the function you make here will look similar to the one you made for the Makkink method in practical 1. Once you wrote your function, do not forget to press Shift+Enter to run the code. "
   ]
  },
  {
   "cell_type": "code",
   "execution_count": null,
   "metadata": {},
   "outputs": [],
   "source": [
    "# Function to compute reference evapotranspiration according to Priestley-Taylor\n",
    "# Input\n",
    "#    Q_net : net radiation (W/m2)\n",
    "#    G     : soil heat flux (W/m2)\n",
    "#    T     : temperature (Kelvin)\n",
    "#    p     : pressure (Pa)\n",
    "#    q     : specific humidity (kg/kg)\n",
    "# Output\n",
    "#    LvEref: reference evapotranspiration according to Priestley-Taylor (W/m2)\n",
    "#\n",
    "# See secton 7.7 of the AVSI formularium, chapter 7 in Moene & van Dam (2014), \n",
    "# or the supporting document linked to at the intro of this exercise.\n",
    "# Please note what is the unit of the resulting number !\n",
    "def f_PT(Q_net, G, T, p, q):\n",
    "    # First compute s and gamma from the data (those functions have already been defined)\n",
    "    gamma = f_gamma(T, p, q)\n",
    "    s = f_s(T)\n",
    "    \n",
    "    # Now construct the Priestley-Taylor equation (i.e. replace the '0' by the correct equation)\n",
    "    # What is the unit?\n",
    "    result  = 0\n",
    "    \n",
    "    return result"
   ]
  },
  {
   "cell_type": "markdown",
   "metadata": {
    "editable": false
   },
   "source": [
    "Now test the function in the cell below. Both test the structure of your function with the function `check_f_PT(f_PT)`, and check the resulting values (do they make physical sense?)."
   ]
  },
  {
   "cell_type": "code",
   "execution_count": null,
   "metadata": {},
   "outputs": [],
   "source": [
    "# Check the structure of the function (uncomment the next line: remove to '#' in front of it to run it)\n",
    "# check_f_PT(f_PT)\n",
    "#\n",
    "# Check whether the resulting values make sense: pass the data of the current dataset to the function\n",
    "# (e.g. df['Q_net_m']; make sure that the units of the variables are the units that the function expects!)\n",
    "# Complete the line of code below and uncomment it.\n",
    "#test_data = f_PT(df['Q_net_m'],... )\n",
    "#print(test_data)"
   ]
  },
  {
   "cell_type": "markdown",
   "metadata": {
    "editable": false
   },
   "source": [
    "### <span style='background:lightblue'>Question 1b</span>\n",
    "\n",
    "Next, construct the function to compute ET<sub>ref</sub> according to **Penman-Monteith**. This function is somewhat more complex than what you did before. In particular, you will need a function that determines the aerodynamic resistance from wind speed."
   ]
  },
  {
   "cell_type": "code",
   "execution_count": null,
   "metadata": {},
   "outputs": [],
   "source": [
    "# Function to compute aerodynamic resistance for neutral conditions (consistent with the \n",
    "# FAO method)\n",
    "# Input\n",
    "#    u     : wind speed (m/s)\n",
    "#    zu    : height at which wind speed was measured (m)\n",
    "#    zT    : height at which temperature and humidity was measured (m)\n",
    "#    d     : displacement height (m)\n",
    "#    z0    : roughness length for momentum\n",
    "#    z0h   : roughness length for heat\n",
    "# Output\n",
    "#    ra    : aerodynamic resistance (s/m)\n",
    "#\n",
    "# See he supporting document linked to at the intro of this exercise.\n",
    "# See secton 7.3 of the AVSI formularium, chapter 7 in Moene & van Dam (2014), \n",
    "def f_ra(u, zu, zT, d, z0, z0h):\n",
    "    # Note: you will need the natural logarithm (which we write in math as ln(x)).\n",
    "    # In Python this is a function from the numpy library (imported as np: it is called log. Hence\n",
    "    # the natural log of x would be computed as: answer = np.log(x)\n",
    "    \n",
    "    # Compute the aerodynamic resistance (i.e. replace the zero by an appropriate expression)    \n",
    "    result = 1\n",
    "    \n",
    "    return result"
   ]
  },
  {
   "cell_type": "code",
   "execution_count": null,
   "metadata": {},
   "outputs": [],
   "source": [
    "# Check the structure of the function (uncomment the next line: remove to '#' in front of it to run it)\n",
    "# check_f_ra(f_ra)\n",
    "#\n",
    "# Check whether the resulting values make sense: pass the data of the current dataset to the function\n",
    "# (e.g. df['u']; make sure that the units of the variables are the units that the function expects!)\n",
    "# Complete the line of code below and uncomment it. The different heights you can enter as a single number.\n",
    "#test_data = f_ra(df['u_10'], ... )\n",
    "#print(test_data)"
   ]
  },
  {
   "cell_type": "code",
   "execution_count": null,
   "metadata": {},
   "outputs": [],
   "source": [
    "# Function to compute reference evapotranspiration according to Penman-Monteith\n",
    "# Input\n",
    "#    Q_net : net radiation (W/m2)\n",
    "#    G     : soil heat flux (W/m2)\n",
    "#    T     : temperature (Kelvin)\n",
    "#    p     : pressure (Pa)\n",
    "#    q     : specific humidity (kg/kg)\n",
    "#    ra    : aerodynamic resistance (s/m)\n",
    "#    rc    : canopy resistance (s/m)\n",
    "# Output\n",
    "#    LvEref: reference evapotranspiration according to Penman-Monteith (W/m2)\n",
    "#\n",
    "# See secton 7.7 of the AVSI formularium, chapter 7 in Moene & van Dam (2014), \n",
    "# or the supporting document linked to at the intro of this exercise.\n",
    "# Please note what is the unit of the resulting number !\n",
    "def f_PM(Q_net, G, T, p, q, ra, rc):\n",
    "    # First compute s, gamma and cp from the data \n",
    "    # (those functions have already been defined, f_cp is new, but we made it for you)\n",
    "    gamma = f_gamma(T, p, q)\n",
    "    s = f_s(T)\n",
    "    cp = f_cp(q)\n",
    "    \n",
    "    # In Penman-Monteith we use vapour pressure (e_a) as the variable for water vapour\n",
    "    # content. We already have specific humidity (q) available within the function, \n",
    "    # so e_a can be determined to a reasonable approximation from q = (Rd/Rv) * (e_a/p)\n",
    "    # (check the formularium how to do this)\n",
    "    e_a = 0\n",
    "    \n",
    "    # In Penman-Monteith we need the air density (rho_a). Using the gas law we can determine\n",
    "    # rho_a using pressure, temperature: p = rho_a * R * T (where R is the gas constant for humid\n",
    "    # air)\n",
    "    # again: see the formularium)\n",
    "    rho_a = 0\n",
    "       \n",
    "    # Now construct the Penman-Monteith equation (i.e. replace the '0' by the correct equation)\n",
    "    # It can be helpful to split the equation in a number of chunks (e.g. compute the denominator \n",
    "    # first) combine those chunks at the end\n",
    "    # What is the unit?\n",
    "    result  = 0\n",
    "    \n",
    "    return result"
   ]
  },
  {
   "cell_type": "code",
   "execution_count": null,
   "metadata": {},
   "outputs": [],
   "source": [
    "# Check the structure of the function (uncomment the next line: remove to '#' in front of it to run it)\n",
    "# check_f_PM(f_PM)\n",
    "#\n",
    "# Check whether the resulting values make sense: pass the data of the current dataset to the function\n",
    "# (e.g. df['Q_net_m']).\n",
    "# For the test you also need to provide values for the resistances ra and rc. \n",
    "# * For rc, use the value(s) that is/are prescribed in the FAO method (see the overview document linked to in \n",
    "#   the introduction) \n",
    "# * For ra, use your function and run it with data from the current dataset and pass that array to the PM function\n",
    "#\n",
    "# Complete the lines of code below and uncomment it.\n",
    "#rc = ..\n",
    "#ra = f_ra(df['u'], ....)\n",
    "#test_data = f_PM(df['Q_net_m'], ..., ra, rc)\n",
    "#print(test_data)"
   ]
  },
  {
   "cell_type": "markdown",
   "metadata": {
    "editable": false
   },
   "source": [
    "## Determine the reference evapotranspiration with the different methods\n",
    "\n",
    "\n",
    "### <span style='background:lightblue'>Question 2</span>\n",
    "Determine the reference evapotranspiration for the 2014 dataset in mm/day using the three methods that are available:\n",
    "* Makkink (use the function that we provide)\n",
    "* Priestley-Taylor (using the function you just made)\n",
    "* Penman-Monteith **according to the FAO method** (using the function you just made). Note that for PM you need to provide the two resistances (canopy resistance and aerodynamic resistance) as well.\n",
    "\n",
    "Note that here the Penman-Monteith method is used as a method for *reference* ET, so it is intended to describe a *hypothetical* surface (in the same way as that Makkink describes ET of a hypothetical surface). In the FAO method very specific requirements are given with respect to:\n",
    "\n",
    "* roughness length for momentum\n",
    "* roughness length for heat\n",
    "* displacement height\n",
    "* aerodynamic resistance\n",
    "* canopy resistance\n",
    "\n",
    "Please check Table 1 in this [background document](reference_ET_concept.pdf) to see how you should deal with roughness length and canopy resistance. In addition, the FAO method also prescribes how net radiation and soil heat should be estimated (in general those fluxes are not measured, so can at most be *estimated*). However, here you can use the *observed* values (to reduce the amount of work needed to estimated net radiation and soil heat flux)."
   ]
  },
  {
   "cell_type": "code",
   "execution_count": null,
   "metadata": {},
   "outputs": [],
   "source": [
    "# Use this cell to compute the three time series (including the unit conversion)\n",
    "# Check your results with the check_ET( ) function; and also use your own insights to see if the values are reasonable.\n"
   ]
  },
  {
   "cell_type": "markdown",
   "metadata": {
    "editable": false,
    "scrolled": true
   },
   "source": [
    "### <span style='background:lightblue'>Question 3</span>\n",
    "Explore the variation of the ET values of all methods in time (e.g. plot all three methods in one graph). Focus on:\n",
    "* how do each of the methods vary, and can you link those variations to the  meteorological conditions (discussed in the first practical, last week).\n",
    "* how do the three methods differ (in which direction, at which moments) and which properties of the different methods could explain those difference?"
   ]
  },
  {
   "cell_type": "code",
   "execution_count": null,
   "metadata": {},
   "outputs": [],
   "source": []
  },
  {
   "cell_type": "markdown",
   "metadata": {
    "editable": false
   },
   "source": [
    "## Compare the different ET<sub>ref</sub>  methods to the actual ET\n",
    "Reference ET methods are often 'sold' as giving a good estimate of the actual evapotranspiration of well-watered short vegetation. For the Makkink method we've already seen that this is not always the case for the dataset under investigation. Now it is time to see how the other methods are doing.\n",
    "\n",
    "### <span style='background:lightblue'>Question 4</span>\n",
    "Determine (again) the actual evapotranspiration in mm/day for the Hupsel data set from the eddy-covariance data (variable `LvE_m`). Now compare the ET<sub>ref</sub> given by the three methods to the actual ET of the grass. \n",
    "* Are the results of Priestley-Taylor or Penman-Monteith closer to the actual ET? \n",
    "* On which moments?\n",
    "* What could be the explanation?\n",
    "\n",
    "Again, take into account both the structure of the various methods and the meteorological conditions."
   ]
  },
  {
   "cell_type": "code",
   "execution_count": null,
   "metadata": {},
   "outputs": [],
   "source": []
  },
  {
   "cell_type": "markdown",
   "metadata": {
    "editable": false
   },
   "source": [
    "## What do the fluxes look like when computed with 30-minute average data?\n",
    "\n",
    "Until now all analyses were done based on 24-hour mean data. Hence we ignored the dirunal cycle. Now we're going derive reference ET with a 30-minute temporal resolution and  compare the three methods (Makkink, Priestly-Taylor and Penman-Monteith) again.\n",
    "\n",
    "First load the data:"
   ]
  },
  {
   "cell_type": "code",
   "execution_count": null,
   "metadata": {},
   "outputs": [],
   "source": [
    "# File name: this is a different file that you worked on before\n",
    "fname='Hupsel2011_MeteoData.xlsx'\n",
    "\n",
    "# Get the 30-minute data\n",
    "df30min = myreadfile(fname, type='30min')"
   ]
  },
  {
   "cell_type": "markdown",
   "metadata": {
    "editable": false
   },
   "source": [
    "Now compute the reference ET again using those data. For most methods this is a straightforward exercise: simply rerun use your functions `f_makkink`, `f_PT` and `f_PM` in the same way as you did before.\n",
    "\n",
    "\n",
    "### FIrst get variable canopy resistance for Penman-Monteith\n",
    "However, for the FAO-version of the Penman-Monteith method there is one complexity: you have to use a different canopy resistance for daytime and nighttime, see [overview](reference_ET_concept.pdf). To construct a time series with for each 30-minute interval the correct canopy resistance, you can use the same method as we used earlier in step-4: the `np.where` function. Think of a variable that you could use to indicate whether it is day or night: use that variable for your condition."
   ]
  },
  {
   "cell_type": "code",
   "execution_count": null,
   "metadata": {},
   "outputs": [],
   "source": [
    "# What are the day/night values:\n",
    "# rc_night = ...\n",
    "# rc_day = ...\n",
    "\n",
    "# construct a condition based on one or more appropriate variables\n",
    "# my_condition = (df30min['....'] > ....)    # based on a single variable, you can also use <, or <=, >=, ==\n",
    "# my_condition = (df30min['....'] > ....) & (df30min['....'] > ....) # both conditions must be true\n",
    "# my_condition = (df30min['....'] > ....) | (df30min['....'] > ....) # one of the conditions must be true\n",
    "\n",
    "# rc30min = np.where(my_condition, rc_night, rc_day)  # depending on how you constructed your condition, you may need to swap rc_night and rc_day"
   ]
  },
  {
   "cell_type": "markdown",
   "metadata": {
    "editable": false
   },
   "source": [
    "### Now compute the reference latent heat fluxes\n",
    "At this point we don't need to invest time in converting latent heat fluxes to evapotranspiration in mm/day.  So simply work with the fluxes in Wm<sup>-2</sup> "
   ]
  },
  {
   "cell_type": "code",
   "execution_count": null,
   "metadata": {},
   "outputs": [],
   "source": [
    "# LE_M_30min = ....\n",
    "\n",
    "# LE_PT_30min = ....\n",
    "\n",
    "# Note for Penman-Monteith \n",
    "# * you also need to make a new time series for the aerodynamic resistance, based on 30-minute data\n",
    "# * you need to use your time series for rc that you constructed above (rc30min)\n",
    "# LE_PM_30min = ....\n"
   ]
  },
  {
   "cell_type": "markdown",
   "metadata": {},
   "source": [
    "### Compare the reference methods, between each other, and with the actual latent heat flux -  for 30-minute average data\n",
    "\n",
    "### <span style='background:lightblue'>Question 5</span>\n",
    "Determine the reference LvE with the three methods. Now compare the LvE<sub>ref</sub> given by the three methods to the actual LvE (`LvE_m`) of the grass. \n",
    "* How do the three reference methods mutually compare (is one consistently higher than another, does the difference between two methods differ from day-to-day, or between different moments on the day)?\n",
    "* What could be the explanation for the differences/correspondences?\n",
    "* How does each of the methods compare to the actual latent heat flux?\n",
    "\n",
    "Again, take into account both the structure of the various methods and the meteorological conditions. Probably, it is easiest to make time series plot with the reference methods and actual latent heat flux to study the differences and correspondences."
   ]
  },
  {
   "cell_type": "code",
   "execution_count": null,
   "metadata": {},
   "outputs": [],
   "source": []
  },
  {
   "cell_type": "markdown",
   "metadata": {
    "editable": false
   },
   "source": [
    "## Does the order of averaging matter ?\n",
    "\n",
    "In Step 1 to 4, and at the top of Step 5 we computed fluxes based on daily mean data: we we first averaged the data, and then computed the reference ET/LE. But that is not how physics works: you should rather compute the reference ET/LE based on data that resolved the diurnal cycle (e.g. 30-minute data) and then average the resulting flux.\n",
    "\n",
    "Below we're going to check whether this matters for one method, the Penman-Monteith method. To prevent that the variable `rc` value that we introduced above (following the FAO method) impacts this comparison, we will -for this exercise- work with a constant `rc`.\n",
    "\n",
    "Steps to take:\n",
    "* (re-)compute the latent heat flux with Penman-Monteith with daily mean data (the `df` you imported at the start of this notebook)\n",
    "* compute the latent heat flux Penman-Monteith with 30-minute mean data (`df30min`)\n",
    "* average those 30-minute fluxes to a daily mean\n",
    "* compare these two daily means"
   ]
  },
  {
   "cell_type": "code",
   "execution_count": null,
   "metadata": {},
   "outputs": [],
   "source": [
    "# Use the same canopy resistance throughout\n",
    "rc_24mean = 70 # s/m\n",
    "\n",
    "# Compute PM latent heat flux from daily mean data (check that your ra time series is still OK)\n",
    "# LE_PM_24 = f_PM(df['Qnet_m'],..., rc_24mean)\n",
    "\n",
    "# Compute PM latent heat flux from 30-minute mean data (check that your ra time series is still OK)\n",
    "# LE_PM_30min = f_PM(df30min['Qnet_m'],..., rc_24mean)\n",
    "\n",
    "# Determine the daily mean of the 30-minute fluxes (this is simply a clever Python trick).\n",
    "# It resamples the data of the original series at daily time steps and aggregates that data from one day by taking the mean.\n",
    "# LE_PM_30min_24 = LE_PM_30min.resample('D').mean()"
   ]
  },
  {
   "cell_type": "markdown",
   "metadata": {
    "editable": false
   },
   "source": [
    "### <span style='background:lightblue'>Question 6</span>\n",
    "You now have two series of daily mean latent heat flux, based on the same method, but only differing in the order of averaging (first average and then compute flux, or first compute flux and then average).\n",
    "\n",
    "Compare the outcomes of both averaing methods.\n",
    "* How do the two averaging methods mutually compare: is one consistently higher than another, does the difference between the  methods differ from day-to-day?\n",
    "* What could be the explanation for the differences/correspondences? In particular consider various parts of the Penman-Monteith equation that could be positively or negatively correlated during the day (see also [section 3.6.5 in  Moene and van Dam (2014)](https://www-cambridge-org.ezproxy.library.wur.nl/core/books/transport-in-the-atmospherevegetationsoil-continuum/turbulent-transport-in-the-atmospheric-surface-layer/9450009EC382622AFCA79BCE05AEA3BA#)).\n",
    "\n",
    "Again, take into account both the structure of the two averaging methods and the meteorological conditions."
   ]
  },
  {
   "cell_type": "code",
   "execution_count": null,
   "metadata": {},
   "outputs": [],
   "source": [
    "# Use this cell to compare the two daily means LE_PM_24 and LE_PM_30min_24 for the above question.\n",
    "# e.g. using a time series plot, or a scatter plot\n"
   ]
  },
  {
   "cell_type": "markdown",
   "metadata": {
    "editable": false
   },
   "source": [
    "### <span style='background:lightblue'>Question 7 (sort of)</span>\n",
    "Now upload your answer document(Word file) to Brightspace.\n",
    "\n",
    "\n",
    "## Conclusion\n",
    "With this, you've come to the end of the exercises for today. You now have a solid overview of how various reference ET methods work and how they compare to the actual evapotranspiration of well-watered short grass.\n",
    "\n",
    "## Up to the next exercise\n",
    "In the next practical session  we will shift from daily mean data to half-hourly data. With those data we will focus on a number of the parameters occurring in Penman-Monteith that for you took for granted: albedo, roughness length and canopy resistance."
   ]
  }
 ],
 "metadata": {
  "kernelspec": {
   "display_name": "Python 3 (system-wide)",
   "language": "python",
   "name": "python3"
  },
  "language_info": {
   "codemirror_mode": {
    "name": "ipython",
    "version": 3
   },
   "file_extension": ".py",
   "mimetype": "text/x-python",
   "name": "python",
   "nbconvert_exporter": "python",
   "pygments_lexer": "ipython3",
   "version": "3.10.12"
  },
  "toc": {
   "base_numbering": 1,
   "nav_menu": {},
   "number_sections": false,
   "sideBar": true,
   "skip_h1_title": true,
   "title_cell": "Table of Contents",
   "title_sidebar": "Contents",
   "toc_cell": false,
   "toc_position": {},
   "toc_section_display": true,
   "toc_window_display": false
  }
 },
 "nbformat": 4,
 "nbformat_minor": 4
}
