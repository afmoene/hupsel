{
 "cells": [
  {
   "cell_type": "markdown",
   "metadata": {
    "deletable": false,
    "editable": false
   },
   "source": [
    "# Analysis of observed evapotranspiration TransRegio 2009  (step 2)"
   ]
  },
  {
   "cell_type": "markdown",
   "metadata": {
    "deletable": false,
    "editable": false,
    "heading_collapsed": true
   },
   "source": [
    "## Intro"
   ]
  },
  {
   "cell_type": "markdown",
   "metadata": {
    "deletable": false
   },
   "source": [
    "The exercise of today is the second step in a series of three. The logic of this step is very similar to that of the first step. \n",
    "\n",
    "The final objective is to determine the actual evapotranspiration of the Hupsel catchment in the first weeks of May 2025. Since we do not have direct observations of the current surface fluxes \\(either eddy\\-covariance, lysimeters or through scintillometry\\) we split the process in two major steps \\(left and right in the figure below\\):\n",
    "a. understand how the ET in Hupsel catchment responds to external forcings, based on historical data from Hupsel and elswhere\n",
    "b. use that process understanding to make the best possible estimate of the ET of the Hupsel catchment in the past weeks.\n",
    "\n",
    "The current land-use in the Hupsel catchment can be simplified as a mixture of grass and bare soil (the maize is just emerging). In the previous session we focussed on understanding the response of grass ET to external forcings (step 1). Now  we will study bare soil evaporation (step 2). In the next practical we will finish step 3 and 4.\n",
    "\n",
    "The concept of reference evapotranspiration is dealt with extensively in the [book used for Atmosphere Vegetation Soil Interactions](https://www-cambridge-org.ezproxy.library.wur.nl/core/books/transport-in-the-atmospherevegetationsoil-continuum/5944F8B7ADAC6409AD4575642431B2DC) (chapter 7 and 8). A summary of the [most essential concepts](reference_ET_concept.pdf) is also available.\n",
    "\n",
    "Collect your answers in the <a href=\"Actual_ET_2-answer-sheet.docx\" download>answer sheet</a>."
   ]
  },
  {
   "cell_type": "markdown",
   "metadata": {
    "editable": false
   },
   "source": [
    "<img src=\"analysis-overview.png\" width=\"80%\">"
   ]
  },
  {
   "cell_type": "markdown",
   "metadata": {
    "deletable": false,
    "editable": false,
    "heading_collapsed": true
   },
   "source": [
    "## The method"
   ]
  },
  {
   "cell_type": "markdown",
   "metadata": {
    "deletable": false,
    "editable": false,
    "hidden": true
   },
   "source": [
    "The logic of today's practical is that reference ET is supposed to contain all main meteorological drivers of evapotranspiration. By comparing the reference ET with the observed actual ET (based on eddy-covariance measurements) we can find out if there are additional external factors that need to be taken into account. \n",
    "\n",
    "If all relevant information would be contained in reference ET, the crop-stress-method (CSM) factor (or crop factor) (ET<sub>act</sub> / ET<sub>ref</sub>) would be constant. If it varies in time, that is an indication that additional factors play a role.\n",
    "\n",
    "In the four steps sketched above we will focus on daily mean data (i.e. data that have been averaged over 24 hours)."
   ]
  },
  {
   "cell_type": "markdown",
   "metadata": {
    "deletable": false,
    "editable": false,
    "heading_collapsed": true
   },
   "source": [
    "## The data"
   ]
  },
  {
   "cell_type": "markdown",
   "metadata": {
    "deletable": false,
    "editable": false,
    "hidden": true
   },
   "source": [
    "To understand the response of bare soil evaporation to external forcings we will make use of flux observations obtained in August 2009 near [Merken, Germany](https://goo.gl/maps/qCNqUPkaDWbZVQhT7)  (see [Van Kesteren et al. (2013)](https://doi.org/10.1016/j.agrformet.2013.10.010). We choose this data set since it combines simultaneous flux observations over bare soil and sugar beet, over a period that contains a number of dry days, a rain event and the dry-down after that rain event.  \n",
    "\n",
    "In the figure below you see the energy balance terms for the bare soil plot (left) and the sugar beet plot (right) for the same seven days. In the night between DOY 219 and 220 a significant amount of precipitation occurred.\n",
    "\n",
    "<img src=\"EB_baresoil.png\" width=\"100%\">"
   ]
  },
  {
   "cell_type": "markdown",
   "metadata": {
    "deletable": false,
    "editable": false,
    "heading_collapsed": true
   },
   "source": [
    "## Initialize Python stuff and read the data"
   ]
  },
  {
   "cell_type": "markdown",
   "metadata": {
    "deletable": false,
    "editable": false
   },
   "source": [
    "Please run the cell below by selecting it and pressing Shift+Enter. Or Press the Run button in the toolbar at the top of the screen (with the right pointing triangle)."
   ]
  },
  {
   "cell_type": "code",
   "execution_count": null,
   "metadata": {
    "hidden": true
   },
   "outputs": [],
   "source": [
    "# Load some necessary Python modules\n",
    "import pandas as pd # Pandas is a library for data analysis\n",
    "import numpy as np # Numpy is a library for processing multi-dimensional datasets\n",
    "from hupsel_helper import myplot, myreadfile\n",
    "from hupsel_helper import f_Lv, f_esat, f_s, f_makkink"
   ]
  },
  {
   "cell_type": "markdown",
   "metadata": {
    "deletable": false,
    "editable": false,
    "hidden": true
   },
   "source": [
    "Now read the data from the Excel file."
   ]
  },
  {
   "cell_type": "code",
   "execution_count": null,
   "metadata": {
    "hidden": true
   },
   "outputs": [],
   "source": [
    "# File name\n",
    "fname='TR32_WetDry_dataset.xlsx'\n",
    "\n",
    "# Get the data (the argument 'site=' is added because the structure of this file is \n",
    "# slightly different than that of the Hupsel data)\n",
    "df = myreadfile(fname, site='Merken')"
   ]
  },
  {
   "cell_type": "markdown",
   "metadata": {
    "deletable": false,
    "editable": false
   },
   "source": [
    "## Explore the data: understand the conditions during the field campaign"
   ]
  },
  {
   "cell_type": "markdown",
   "metadata": {
    "deletable": false,
    "editable": false
   },
   "source": [
    "Before you start *using* your data set for analysis and computations, it is wise to first obtain an idea about the weather conditions during the field campaign (in particular, if you were not in the field yourself). This description will also help you later on when you interpret your results: 'ah, I understand why the reference ET is so low on that day: it is because it was a cloudy period'."
   ]
  },
  {
   "cell_type": "markdown",
   "metadata": {
    "deletable": false,
    "editable": false
   },
   "source": [
    "### What is contained in the data?"
   ]
  },
  {
   "cell_type": "markdown",
   "metadata": {
    "deletable": false,
    "editable": false
   },
   "source": [
    "To show the names of the available variables, type `df.keys()` in the cell below (and run, or press Shift+Enter). Based on the names you can also make the distinction between the two parts of the dataset:\n",
    "* Bare soil data: variables with a subscript `_b`.\n",
    "* Sugarbeet data: variables with a subscript `_s`.\n",
    "\n",
    "Two remarks:\n",
    "* the precipitation (`prec_b` and `prec_s`) took place at the end of the day on August 7 (from 15:50 until 23:00)\n",
    "* air pressure data were nog available: we assume standard pressure in the dataset (`p_b` and `p_s`)\n",
    "\n",
    "The dataframe also contains information about the units of the variables: type `df.attrs['units']` in the cell below. You can also access the units of an individual variable as follows: `df.attrs['units']['u_10']` should give `[m/s]`. Finally, the dataframe also contains a more complete description of the variables: `df.attrs['description']`."
   ]
  },
  {
   "cell_type": "markdown",
   "metadata": {
    "deletable": false,
    "editable": false
   },
   "source": [
    "### Inspect the data\n",
    "There are a number of ways to inspect the data (same info as in notebook for step 1):\n",
    "* print the full dataframe in a cell (simply type `df` and run the cell)\n",
    "* print a single (or a few) variable(s) from the dataframe (type for instance `df[['K_in_b']]` or `df[['K_in_b','T_b']]` to show the values of global radiation and temperature. Note the **double square** brackets which ensure a nicely printed table.\n",
    "* plot the data with the plot command `myplot` (see Step 0 and your first experiences in Step 1)"
   ]
  },
  {
   "cell_type": "markdown",
   "metadata": {
    "deletable": false,
    "editable": false
   },
   "source": [
    "### <span style='background:lightblue'>Question 1</span>\n",
    "Characterize the weather conditions during the period in which the data were gathered. Since the dataset is rather short, and things change fast around the rainfall event, you should do this day-by-day. Use this to get an idea of the conditions during the 7 days of observations."
   ]
  },
  {
   "cell_type": "code",
   "execution_count": null,
   "metadata": {},
   "outputs": [],
   "source": [
    "myplot([df['Date'],df['K_in_s'],'-o','bar'], [df['Date'],df['K_in_b'],'-','foo'])"
   ]
  },
  {
   "cell_type": "markdown",
   "metadata": {
    "deletable": false,
    "editable": false
   },
   "source": [
    "### <span style='background:lightblue'>Question 2</span>\n",
    "The next steps is to look at the fluxes. The time series shown above (section 'The data') already give you an indication how the fluxes differ between the two surfaces (note: those show 30 minute averages while here you use daily means).\n",
    "\n",
    "Now for yourself explore: \n",
    "* how the daily mean fluxes differ between the bare soil plot and the vegetated plot (e.g. plot the time series of a given flux for both surfaces in one graph);\n",
    "*  how the rainfall event affects the fluxes and how that response differs between the surfaces. \n",
    "\n",
    "Rather than looking at fluxes alone, it can also be helpful to focus on the partitioning between sensible and latent heat flux. For this you could look at variables like available energy (Q\\*-G), Bowen ratio (H/L<sub>v</sub>E) and evaporative fraction (L<sub>v</sub>E/(Q\\*-G)). For the period after the rain pay attention to how the partitioning changes between just after the rain and a few days after the rain. "
   ]
  },
  {
   "cell_type": "code",
   "execution_count": null,
   "metadata": {},
   "outputs": [],
   "source": []
  },
  {
   "cell_type": "markdown",
   "metadata": {
    "deletable": false,
    "editable": false,
    "heading_collapsed": true
   },
   "source": [
    "## Determine the reference evapotranspiration"
   ]
  },
  {
   "cell_type": "markdown",
   "metadata": {
    "deletable": false,
    "editable": false
   },
   "source": [
    "For reasons of simplicity and robstness, we will use the Makkink equation to determine the reference ET. The essential equations can be found in the [Formularium of Atmosphere-Vegetation-Soil Interactions](Formularium_AVSI_2024.pdf). \n",
    "\n",
    "###  Your functions: now you can use the functions we made for you\n",
    "In practical for step 1 you developed a number of functions. To reduce errors, you can now the versions that we made for you (note: they have the same name as the functions that you made):\n",
    "* `f_Lv(T)`: compute latent heat of vapourization from temperature (in K)\n",
    "* `f_esat(T)`: compute saturated vapour pressure from temperature (in K)\n",
    "* `f_s(T)`: compute the slope of the saturated vapour pressure as a function of temperature (in K)\n",
    "* `f_gamma(T, p, q)`: compute the psychrometer constant from temperature (K), pressure (Pa) and specific humidity (kg/kg)\n",
    "* `f_makkink(Kin, T, p, q)`: compute reference evapotranspiration according to the Makkink equation"
   ]
  },
  {
   "cell_type": "markdown",
   "metadata": {
    "deletable": false,
    "editable": false,
    "hidden": true
   },
   "source": [
    "### Determine the reference evapotranspiration\n",
    "As in the first step, we will use the Makkink reference ET as a starting point for quantifying the meteorological drivers for evapotranspiration.\n",
    "\n",
    "### <span style='background:lightblue'>Question 3</span>\n",
    "Compute the reference evapotranspiration in mm/day based on the current data set. Check what is the unit of the flux you computed with your `f_makkink` function. Furthermore, check that the values that you compute make sense."
   ]
  },
  {
   "cell_type": "code",
   "execution_count": null,
   "metadata": {
    "hidden": true
   },
   "outputs": [],
   "source": []
  },
  {
   "cell_type": "markdown",
   "metadata": {
    "deletable": false,
    "editable": false
   },
   "source": [
    "## Determine the actual evapotranspiraton"
   ]
  },
  {
   "cell_type": "markdown",
   "metadata": {
    "deletable": false,
    "editable": false
   },
   "source": [
    "The actual evapotranspiration has been measured using the eddy-covariance technique. It is available in the data set in the variable named `LvE_b`for the bare soil plot.\n",
    "\n",
    "### <span style='background:lightblue'>Question 4</span>\n",
    "Compute the actual evapotranspiration in mm/day based on the eddy-covariance fluxes."
   ]
  },
  {
   "cell_type": "code",
   "execution_count": null,
   "metadata": {},
   "outputs": [],
   "source": []
  },
  {
   "cell_type": "markdown",
   "metadata": {
    "deletable": false,
    "editable": false
   },
   "source": [
    "## Compare actual and reference evapotranspiration for bare soil"
   ]
  },
  {
   "cell_type": "markdown",
   "metadata": {
    "deletable": false,
    "editable": false
   },
   "source": [
    "Now that you have both actual and reference evapotranspiration available, it is time to compare them. The first step would be to plot both in one graph\n",
    "\n",
    "### <span style='background:lightblue'>Question 5</span>\n",
    "How do actual and reference evapotranspiration compare? Are they identical, is there a fixed offset, or is the difference variable over time. If so, can you related those differences to specific conditions?"
   ]
  },
  {
   "cell_type": "code",
   "execution_count": null,
   "metadata": {},
   "outputs": [],
   "source": []
  },
  {
   "cell_type": "markdown",
   "metadata": {
    "deletable": false,
    "editable": false
   },
   "source": [
    "Part of the variability in the actual evapotranspiration is related to variations in meteorological conditions. Those variations are supposed be captured by the reference evapotranspiration. A straightforward way to see to what extent the reference evapotranspiration captures the variability of the actual evapotranspiration is to compute the CSM (or crop) factor (ET<sub>act</sub> / ET<sub>ref</sub>). \n",
    "\n",
    "Note that it does not matter here whether you use the latent heat flux (in Wm<sup>-2</sup>) or the evapotranspiration (in mm/day), as long as the units in the numerator and denominator are the same!\n",
    "\n",
    "### <span style='background:lightblue'>Question 6</span>\n",
    "Compute the CSM factor for the current data. What is the overall magnitude the CSM factor? Is the CSM factor constant over time, and if not, can you explain the variations (or at least bring forward a hypothesis)? It may also be interesting to look at the CSM factor of sugarbeet (even though that surface is not our main interest now)."
   ]
  },
  {
   "cell_type": "code",
   "execution_count": null,
   "metadata": {
    "scrolled": true
   },
   "outputs": [],
   "source": []
  },
  {
   "cell_type": "markdown",
   "metadata": {
    "deletable": false,
    "editable": false
   },
   "source": [
    "### <span style='background:lightblue'>Question 7</span>\n",
    "Summarize your findings regarding the CSM (or crop) factor for bare soil in such a way that you could use it as simple model to derive bare soil evaporation from the reference ET, based on a limited number of variables (e.g. rainfall history, air humidity, temperature). There is no need to come with a model in the form of an equation, a look-up table is sufficient."
   ]
  },
  {
   "cell_type": "code",
   "execution_count": null,
   "metadata": {},
   "outputs": [],
   "source": []
  },
  {
   "cell_type": "markdown",
   "metadata": {
    "deletable": false,
    "editable": false
   },
   "source": [
    "## Conclusion"
   ]
  },
  {
   "cell_type": "markdown",
   "metadata": {
    "deletable": false
   },
   "source": [
    "You have made your second step to come to an estimation of the actual evapotranspiration of the Hupsel catchment in May 2025: you now know how the bare in the catchment might react to the external meteorological forcings (expressed in the reference evapotranspiration).\n",
    "\n",
    "## Up to the next exercise\n",
    "You have explored and quantified how the actual evapo(transpi)ration of grass and bare soil compare to the reference evapotranspiration. This information will help you to estimate the actual evapotranspiration of the Hupsel catchment for the current conditions (without having eddy-covariance measurements for this year)."
   ]
  },
  {
   "cell_type": "code",
   "execution_count": null,
   "metadata": {},
   "outputs": [],
   "source": []
  }
 ],
 "metadata": {
  "kernelspec": {
   "display_name": "Python 3 (system-wide)",
   "language": "python",
   "name": "python3"
  },
  "language_info": {
   "codemirror_mode": {
    "name": "ipython",
    "version": 3
   },
   "file_extension": ".py",
   "mimetype": "text/x-python",
   "name": "python",
   "nbconvert_exporter": "python",
   "pygments_lexer": "ipython3",
   "version": "3.10.12"
  },
  "toc": {
   "base_numbering": 1,
   "nav_menu": {},
   "number_sections": false,
   "sideBar": true,
   "skip_h1_title": true,
   "title_cell": "Table of Contents",
   "title_sidebar": "Contents",
   "toc_cell": false,
   "toc_position": {},
   "toc_section_display": true,
   "toc_window_display": true
  }
 },
 "nbformat": 4,
 "nbformat_minor": 4
}
