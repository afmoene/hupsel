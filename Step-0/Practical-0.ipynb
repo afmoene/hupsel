{
 "cells": [
  {
   "cell_type": "markdown",
   "metadata": {},
   "source": [
    "# Quick intro to basic plotting and Python functions (step 0)"
   ]
  },
  {
   "cell_type": "markdown",
   "metadata": {
    "deletable": false,
    "editable": false,
    "heading_collapsed": true
   },
   "source": [
    "## Intro"
   ]
  },
  {
   "cell_type": "markdown",
   "metadata": {
    "deletable": false,
    "editable": false,
    "hidden": true
   },
   "source": [
    "<img align=\"right\" src=\"meme.jpeg\" width=\"30%\">\n",
    "\n",
    "\n",
    "In the coming practicals you use some basic Python commands and a dedicated plotting function (different from the plotting function used in the practical of week 1). In this workbook we will briefly introduce those topics.\n",
    "\n",
    "(please, do not spend too much time on this, at most 15-20 minutes)\n",
    "\n",
    "(source of the meme: [Pinterest](https://pin.it/3Lp3Iwb))"
   ]
  },
  {
   "cell_type": "markdown",
   "metadata": {
    "deletable": false,
    "editable": false,
    "heading_collapsed": true
   },
   "source": [
    "## Initialize Python stuff"
   ]
  },
  {
   "cell_type": "markdown",
   "metadata": {
    "deletable": false,
    "editable": false,
    "hidden": true
   },
   "source": [
    "Please run the cell below by selecting it and pressing Shift+Enter. Or Press the Run button in the toolbar at the top of the screen (with the right pointing triangle)."
   ]
  },
  {
   "cell_type": "code",
   "execution_count": null,
   "metadata": {
    "hidden": true
   },
   "outputs": [],
   "source": [
    "# Load some necessary Python modules\n",
    "import pandas as pd # Pandas is a library for data analysis\n",
    "import numpy as np # Numpy is a library for processing multi-dimensional datasets\n",
    "from hupsel_helper import myplot, myreadfile"
   ]
  },
  {
   "cell_type": "markdown",
   "metadata": {
    "deletable": false,
    "editable": false,
    "heading_collapsed": true
   },
   "source": [
    "## The data: dataframes"
   ]
  },
  {
   "cell_type": "markdown",
   "metadata": {
    "deletable": false,
    "editable": false,
    "hidden": true
   },
   "source": [
    "First read some data from the Excel file (for now, we're not really interested in the data, we just need some numbers to play with)."
   ]
  },
  {
   "cell_type": "code",
   "execution_count": null,
   "metadata": {
    "hidden": true
   },
   "outputs": [],
   "source": [
    "# File name\n",
    "fname='Hupsel2011_MeteoData.xlsx'\n",
    "\n",
    "# Get the data\n",
    "df = myreadfile(fname)"
   ]
  },
  {
   "cell_type": "markdown",
   "metadata": {
    "deletable": false,
    "editable": false,
    "hidden": true
   },
   "source": [
    "The data you just read are contained in a so-called dataframe. You could think of it as a kind of spreadsheet, where each variables occupies a column, and each row is a point in time (our data are time series). To show the data (and recognize that it is like a spreadsheet, just execute the cell below (Ctrl-Enter)."
   ]
  },
  {
   "cell_type": "code",
   "execution_count": null,
   "metadata": {},
   "outputs": [],
   "source": [
    "df"
   ]
  },
  {
   "cell_type": "markdown",
   "metadata": {
    "deletable": false,
    "editable": false,
    "hidden": true
   },
   "source": [
    "To show only the names of the available variables, type `df.keys()` in the cell below (and run, or press Shift+Enter)."
   ]
  },
  {
   "cell_type": "code",
   "execution_count": null,
   "metadata": {
    "hidden": true
   },
   "outputs": [],
   "source": [
    "df.keys()"
   ]
  },
  {
   "cell_type": "markdown",
   "metadata": {
    "deletable": false,
    "editable": false,
    "hidden": true
   },
   "source": [
    "The dataframe also contains information about the units of the variables: type `df.attrs['units']` in the cell below. You can also access the units of an individual variable as follows: `df.attrs['units']['u_10']` should give `[m/s]`. Finally, the dataframe also contains a more complete description of the variables: `df.attrs['description']`.\n",
    "\n",
    "(note that these attributes are not standard attributes of any dataframe: we constructed these attributes in the `myread` function)."
   ]
  },
  {
   "cell_type": "code",
   "execution_count": null,
   "metadata": {
    "hidden": true
   },
   "outputs": [],
   "source": [
    "df.attrs['units']"
   ]
  },
  {
   "cell_type": "code",
   "execution_count": null,
   "metadata": {
    "hidden": true
   },
   "outputs": [],
   "source": [
    "df.attrs['units']['K_in']"
   ]
  },
  {
   "cell_type": "code",
   "execution_count": null,
   "metadata": {
    "hidden": true
   },
   "outputs": [],
   "source": [
    "df.attrs['description']"
   ]
  },
  {
   "cell_type": "markdown",
   "metadata": {
    "deletable": false,
    "editable": false,
    "hidden": true
   },
   "source": [
    "If you're not interested in the full data frame, but in a single variable only, you can address it by it's name: type for instance `df['K_in']` to show the values of global radiation. Try this in the cell below."
   ]
  },
  {
   "cell_type": "code",
   "execution_count": null,
   "metadata": {
    "hidden": true
   },
   "outputs": [],
   "source": [
    "# Print a single variable from the dataframe\n"
   ]
  },
  {
   "cell_type": "markdown",
   "metadata": {
    "deletable": false,
    "editable": false,
    "hidden": true
   },
   "source": [
    "If you're tired of always having to type the brackets and quotes, you can also simply assign a time series to a new variable (e.g. `my_K_in = df['K_in']`. Try it below:"
   ]
  },
  {
   "cell_type": "code",
   "execution_count": null,
   "metadata": {},
   "outputs": [],
   "source": [
    "# Make a new variable from a single variable from the dataframe\n"
   ]
  },
  {
   "cell_type": "markdown",
   "metadata": {
    "deletable": false,
    "editable": false,
    "hidden": true
   },
   "source": [
    "Apart from showing the contents of variables you can also use them to compute things. For instance, the albedo for each point in time can be computed as \n",
    "`my_albedo = df['K_out_m']/df['K_in_m']`. \n",
    "\n",
    "Try it below:"
   ]
  },
  {
   "cell_type": "code",
   "execution_count": null,
   "metadata": {
    "hidden": true
   },
   "outputs": [],
   "source": [
    "# Enter some computation in this cell, using one or more variables\n",
    "# For example, you could compute the evaporative fraction:\n",
    "my_EF = df['LvE_m'] / (df['Q_net_m'] - df['G_0_m'])\n",
    "\n",
    "# You could also do it like this by first defining new variables and use those in the computation:\n",
    "my_LvE = df['LvE_m']\n",
    "my_Qnet = df['Q_net_m']\n",
    "my_G = df['G_0_m']\n",
    "my_EF_new = my_LvE/(my_Qnet - my_G)\n",
    "\n",
    "# If you want to see what your produced, print it\n",
    "# print(my_EF)"
   ]
  },
  {
   "cell_type": "markdown",
   "metadata": {
    "deletable": false,
    "editable": false,
    "heading_collapsed": true
   },
   "source": [
    "## Plotting the data in the dataframe"
   ]
  },
  {
   "cell_type": "markdown",
   "metadata": {
    "deletable": false,
    "editable": false,
    "hidden": true
   },
   "source": [
    "### Basic plotting"
   ]
  },
  {
   "cell_type": "markdown",
   "metadata": {
    "deletable": false,
    "hidden": true
   },
   "source": [
    "The simplify your work, we have made a dedicated plotting command. \n",
    "\n",
    "`myplot([x,y])`\n",
    "\n",
    "Here `[x,y]` is a so-called list that contains the variables to be plotted (in Excel-speak this is called a 'data series').\n",
    "\n",
    "Examples of usage:\n",
    "* `myplot([ df['Date'] , df['p'] ])` \n",
    "    * You give the actual variables from the dataframe as a list (e.g. `x` could be `df['Date']` and `y` could be `df['p']`. \n",
    "* `myplot([ df['Date'] , my_albedo ])`\n",
    "    * You use your own variables (e.g. result of a computation, like the albedo above, `my_albedo`) in the list `[x,y]`"
   ]
  },
  {
   "cell_type": "code",
   "execution_count": null,
   "metadata": {
    "hidden": true
   },
   "outputs": [],
   "source": [
    "# Make a plot with myplot([]) \n",
    "# (remove the hashtags to execute the commands and make the plot)\n",
    "# foo = df['Date']\n",
    "# bar = df['p'] * 100\n",
    "# myplot([foo,bar,'-','pressure'])"
   ]
  },
  {
   "cell_type": "markdown",
   "metadata": {
    "deletable": false,
    "editable": false,
    "hidden": true
   },
   "source": [
    "### Multiple variables"
   ]
  },
  {
   "cell_type": "markdown",
   "metadata": {
    "deletable": false,
    "editable": false,
    "hidden": true
   },
   "source": [
    "If you want to plot multiple variables in a graph, you can provide multiplt lists as an argument, one list for each series to be plotted. So this becomes:\n",
    "* `myplot([x, y], [x,z])`: plot both `y` and `z` as a function of `x` (where the variables `x`, `y` and `z` have been defined before.\n",
    "\n",
    "But if you plot multiple variables, how can you distingish them? Well, in two ways:\n",
    "* the plotting routine will automatically assign a new colour to the next plot\n",
    "* you can select the plotting type:\n",
    "  * `myplot( [df['Date'], df['K_in'],'-'])` : plot a line\n",
    "  * `myplot( [df['Date'], df['K_in'],'o'])` : plot dots\n",
    "  * `myplot( [df['Date'], df['K_in'],'o-'])`: plot a line with dots combined\n",
    "  * `myplot( [df['Date'], df['prec'],'#'])` : bar graph (only one series per graph)"
   ]
  },
  {
   "cell_type": "code",
   "execution_count": null,
   "metadata": {
    "hidden": true
   },
   "outputs": [],
   "source": [
    "# Compare two independent observations of global radiation (remove the hashtag to make the plot)\n",
    "# myplot( [df['Date'],df['K_in'],'-','KNMI'], [df['Date'], df['K_in_m'],'o', 'MAQ'])"
   ]
  },
  {
   "cell_type": "markdown",
   "metadata": {
    "deletable": false,
    "editable": false,
    "hidden": true
   },
   "source": [
    "### Further tweaking of your plots"
   ]
  },
  {
   "cell_type": "markdown",
   "metadata": {
    "deletable": false,
    "editable": false,
    "hidden": true
   },
   "source": [
    "Now that you know how to make basic plots, it is time to add some extra options. The main message here: it is good to know that these things are possible. Use them when you need them (we here only give examples using the standard plot method).\n",
    "\n",
    "#### Axis-labals\n",
    "Set the label text on the x-axis and y-axis: \n",
    "* `myplot( [x, y], xlabel='quantity (unit)', ylabel='quantity (unit)')`\n",
    "* example `myplot( [ df['u_10'], df['T_1_5'] ], xlabel='wind speed at 10m (m/s)', ylabel='temperature at 1.5m (K)')`\n",
    "\n",
    "#### Name of series in legend\n",
    "You can now manually set the name of a series, to be used in the legend: \n",
    "* `myplot( [x, y, 'o', 'my specially constructed variable'] )`. \n",
    "* example `myplot( [ df['Date'], EF, 'o', 'evaporative fraction' ] )`. \n",
    "\n",
    "Note that in this case you *should* specify the type of plotting symbol (here a dot: `'o'`, could also be `'-'` for line and `'#'` for a bar graph).\n",
    "\n",
    "#### Color dots in scatter plot with 3rd variables (color_by and colormap)\n",
    "You can now color dots in a scatter plot with the values of a third variable (say `x`, `y` and `c`):\n",
    "* `myplot([x, y, 'o'], color_by = c)`\n",
    "* example `myplot( [ df['Date'], df['u_10'], 'o' ], color_by = df['u_dir'])`\n",
    "\n",
    "You can choose the pallette used to color the dots. \n",
    "* `myplot([x, y, 'o'], color_by = c, colormap=cmap_name)`\n",
    "* example `myplot([x, y, 'o'], color_by = df['K_in_m'] , colormap='colorblind')`\n",
    "\n",
    "The options for the colormap are:\n",
    "* `'turbo'` (red - green - blue) (default)\n",
    "* `'plasma'` (blue - purple - yellow)\n",
    "* `'viridis'` (purple - green - yellow)\n",
    "* `'colorblind'` (colormap with 8 colors, optimized for people with colour blindness)\n",
    "\n",
    "#### Log axis and linear axis\n",
    "You can specify if an axis should be linear or logarithmic, separately for the x-axis and the y-axis. You do this with the keywords `x_axis_type` and `y_axis_type`:\n",
    "* `myplot([x, y, 'o'], x_axis_type = 'linear', y_axis_type = 'log')`\n",
    "* example `myplot( [ df['Date'], df['u_10'], 'o' ], y_axis_type = 'log')`\n",
    "\n",
    "#### Axis limits\n",
    "You can specify axis limits for both axis (rather than the plot command using auto-scaling). You can also only defined limits for one of the axes. The keywords are `xlim` and `ylim` and both require a list (2 numbers between square brackets):\n",
    "* `myplot([x, y, 'o'], xlim = [0,10])`\n",
    "* example `myplot( [ df['Date'], df['u_10'], 'o' ], ylim = [0,10])`\n",
    "  \n",
    "  \n",
    "#### More help\n",
    "To learn more about the plotting function you can type `help(myplot)`. This will actually work for any Python function (e.g. `help(np.sin)`)."
   ]
  },
  {
   "cell_type": "code",
   "execution_count": null,
   "metadata": {
    "hidden": true
   },
   "outputs": [],
   "source": [
    "# Do some experimens with the more advanced plotting options (remove hash tags to execute commands and make plot)\n",
    "# x = df['u_10']\n",
    "# y = df['T_1_5']\n",
    "# z = df['K_in']\n",
    "# myplot([x,y,'o','my special correlation'], color_by=z, xlabel='wind speed (m/s)', ylabel='temperature (K)')"
   ]
  },
  {
   "cell_type": "markdown",
   "metadata": {
    "deletable": false,
    "editable": false,
    "heading_collapsed": true
   },
   "source": [
    "## Functions in Python"
   ]
  },
  {
   "cell_type": "markdown",
   "metadata": {
    "deletable": false,
    "editable": false,
    "hidden": true
   },
   "source": [
    "There are roughly two reasons to use so-called *functions* in Python:\n",
    "* When you apply a **complex operation** on one or more variables, your Python code can become unclear -> replacing the complex operation by a simple function call will clarifiy your code\n",
    "* When you apply a certain operation **repeatedly** to different datasets you easily make errors when copying code -> only defining the function once, ensures that your operation is done in the same way\n",
    "\n",
    "You could consider a *function* as a way to hide the complexity of certain operations. It is like a black box: some variables are thrown into the function, inside the box something is happening, and the black box gives you back some results (see the conceptual figure to the below).\n",
    "\n",
    "The definition of a function conceptually consists of four parts:\n",
    "* the *name* of the function\n",
    "* the *interface* of the function: the variables that will be use inside the function for the computations, and that come from outside the function\n",
    "* the actual *operations* \n",
    "* a *return* command that gives back the result to the outside world. \n",
    "\n",
    "<img align=\"right\" src=\"concept_function.png\" width=\"40%\">\n",
    "\n",
    "Let's assume that we need to compute the evaporative fraction repeatedly: $L_vE/(Q^*-G)$. The four parts defined above then would be (see also the conceptual figure to the right):\n",
    "* name: `evap_frac`\n",
    "* interface: `(LvE, Qnet, G)`\n",
    "* operations: `EF = LvE/(Qnet - G)`\n",
    "* return: `return EF`\n",
    "\n",
    "\n",
    "\n",
    "Putting all of this together gives:\n",
    "```\n",
    "# The function definition starts with the word 'def',\n",
    "# followed by the name and the interface, and ends with a colon (':')\n",
    "def evap_frac(LvE, Qnet, G):\n",
    "    # The actual calculation\n",
    "    EF = LvE / (Qnet - G)\n",
    "    # Return the outcome to the outside world\n",
    "    return EF\n",
    "```        \n",
    "There are a few important things to realize:\n",
    "* A function is just a **recipe**: it does not do anything by itself (once it has been defined, it's like a cookbook on the shelf). Only when you 'call' a function, with variables as it arguments (you give it milk, eggs and flour), it will actually become active and give you back results (a cake).\n",
    "* The **names of variables** inside the function are only known there: they have no relation to the name of variables outside of the functions (so what is called `T` inside a function, migh be called `T_air_1_5` or `df['T_1_5']` outside the function). \n",
    "* The function **does not know about the properties or units of the data it receives** through it's interface. So if you design a function based on the assumption that the temperature it receives is in Kelvin, it is up to the user of the function to ensure that the provided data are *indeed* temperatures in Kelvin (and not e.g. degrees Celcius).\n",
    "\n",
    "Once you have defined the function (written the recipe), you can use it. Let's try this in the cell below."
   ]
  },
  {
   "cell_type": "code",
   "execution_count": null,
   "metadata": {
    "hidden": true
   },
   "outputs": [],
   "source": [
    "# Define the function\n",
    "def evap_frac(LvE, Qnet, G):\n",
    "    # The actual calculation\n",
    "    EF = LvE / (Qnet - G)\n",
    "    # Return the outcome to the outside world\n",
    "    return EF\n",
    "\n",
    "# Now use it with the data\n",
    "# Note that the name of the variables that go into the function have no connection to the\n",
    "# names of the variables inside the function (we could also invoke the function with evap_frac(x,y,z))\n",
    "my_EF = evap_frac(df['LvE_m'],df['Q_net_m'], df['G_0_m'])\n",
    "\n",
    "# Print it to show that we did something useful\n",
    "print(my_EF)"
   ]
  },
  {
   "cell_type": "markdown",
   "metadata": {
    "hidden": true
   },
   "source": [
    "The calculation in the example function above was rather simple. However, you can make functions as complex as you like. Calculations in Python are quite straightforward: +, -, \\*, / and \\*\\*  indicate addition, subtraction, multiplications, division and exponentiation (... to the power ...). For more complex operations, we can use functions defined in the `numpy` library (which we imported as `np`). For instance,  for the exponential (exp) we use `np.exp`."
   ]
  },
  {
   "cell_type": "markdown",
   "metadata": {
    "heading_collapsed": true
   },
   "source": [
    "## Up to the next exercise\n",
    "Now that you finished this brief intro, it is time to start with the real work. Continue to Step 1."
   ]
  }
 ],
 "metadata": {
  "kernelspec": {
   "display_name": "Python 3 (system-wide)",
   "language": "python",
   "name": "python3"
  },
  "language_info": {
   "codemirror_mode": {
    "name": "ipython",
    "version": 3
   },
   "file_extension": ".py",
   "mimetype": "text/x-python",
   "name": "python",
   "nbconvert_exporter": "python",
   "pygments_lexer": "ipython3",
   "version": "3.10.12"
  },
  "toc": {
   "base_numbering": 1,
   "nav_menu": {},
   "number_sections": false,
   "sideBar": true,
   "skip_h1_title": true,
   "title_cell": "Table of Contents",
   "title_sidebar": "Contents",
   "toc_cell": false,
   "toc_position": {},
   "toc_section_display": true,
   "toc_window_display": false
  }
 },
 "nbformat": 4,
 "nbformat_minor": 4
}
