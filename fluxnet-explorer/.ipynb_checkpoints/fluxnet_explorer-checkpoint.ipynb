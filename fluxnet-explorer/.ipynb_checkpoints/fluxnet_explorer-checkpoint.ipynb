{
 "cells": [
  {
   "cell_type": "code",
   "execution_count": 6,
   "metadata": {},
   "outputs": [],
   "source": [
    "# Load some needed Python stuff\n",
    "from plot_fluxnet import fluxplot, varnames, units, esat, sites, esat_slope"
   ]
  },
  {
   "cell_type": "markdown",
   "metadata": {},
   "source": [
    "Understanding land-atmosphere interactions on multiple time scales  \n",
    "The Fluxnet explorer\n",
    "</h1>\n",
    "<hr>\n",
    "\n",
    "# Introduction\n",
    "## Context\n",
    "During most of the practical you will work with observations that were gathered over a limited amount of time (a few weeks at most) and only one area (the Hupsel catchment). However, in order to understand how land-atmosphere processes work on larger time scales and other locations we need additional data. Those are available through [FluxNet](https://fluxnet.fluxdata.org/): a collection of flux data from hundreds of sites world-wide. The map below shows the location of sites from which data are available in Fluxnet (including the length of the timeseries).\n",
    "\n",
    "<img src=\"https://fluxnet.fluxdata.org/wp-content/uploads/sites/3/2015-10-19_Global_Site_Year_2015-v2.jpg\" width=\"60%\">\n",
    "\n",
    "We will use data from three Fluxnet stations (in and close to the Netherlands) to address the following questions:\n",
    "  * What kind of variations during the year and between years can be observed? \n",
    "  * How different are the surface fluxes between sites? \n",
    "  * What are the responses of the different surfaces (‘how do they work’?)?\n",
    "  \n",
    "## Data and visualization\n",
    "### Data\n",
    "Data are available for three sites (each site has different periods, the 30-minute data only cover one year):\n",
    "\n",
    "|Site name|Country|Surface type|Years of data<br>monthly data|Years of data<br>daily data|Years of data<br>30 min. data|\n",
    "|:--------|:------|:-----------|:------------|:---------|:-------------|\n",
    "|[Loobos](http://sites.fluxdata.org/NL-Loo/)|NL|pine forest (Veluwe)|1996-2013|1996-2013|2011| \n",
    "|[Horstermeer](http://sites.fluxdata.org/NL-Hor/)|NL|grasss in peat area (between Hilversum and Amsterdam)| 2004-2011|2004-2011|2005| \n",
    "|[Rollesbroich](http://sites.fluxdata.org/DE-RuR/)|Germany|grass on medium textured soil near Aachen|2011-2014|2011-2014|2012|\n",
    "\n",
    "Available variables are:\n",
    "  * Timestamp (continuous), year, month, hour\n",
    "  * components of net radiation (K_in, K_out, L_in, L_out) and  net radiation (Q*)\n",
    "  * turbulent fluxes energy: sensible and latent heat flux: H and LvE\n",
    "  * CO2-related variables: NEE,  GPP, ecosystem respiration + [CO2] (concentration)\n",
    "  * wind-related: u* and wind speed\n",
    "  * standard meteo: temperature and relative humidity (RH), precipitation\n",
    "  * derived variables: albedo + reference ET from Makkink (ET_Makkink)\n",
    "  \n",
    "### Visualization\n",
    "Within this notebook you will be able to plot a wide range of variables using a simple plotting command. Any variable can be used on the x-axis, the y-axis and to stratify the data. So our focus is on the qualitative  visualization of relationships, rather than additional computations with the data.\n",
    "\n",
    "The way this notebook works is that you can enter a Python command in the cell below. Subsequently, you press __Shift+Enter__ to execute the code. To get you started: let us first get a list of the variable names available in the notebook.\n",
    "\n",
    "So enter the followin command: `print(varnames.keys())` in the cell below and press __Shift+Enter__ in the cell."
   ]
  },
  {
   "cell_type": "code",
   "execution_count": null,
   "metadata": {
    "scrolled": false
   },
   "outputs": [],
   "source": []
  },
  {
   "cell_type": "markdown",
   "metadata": {},
   "source": [
    "If all went well the outcome should be:\n",
    "\n",
    "`dict_keys(['timestamp', 'hour', 'month', 'year', 'air temperature', 'K_in', 'K_out', 'L_in', 'L_out', 'Q*', 'VPD', 'RH', 'preciptation', 'u*', 'wind speed', 'LE', 'H', '[CO2]', 'NEE', 'respiration', 'GPP', 'albedo', 'ET_Makkink'])`\n",
    "\n",
    "These are the names that you can use to access the different variables in the dataset.\n",
    "\n",
    "Now also try to find out what are the available sites: type `print(sites)` in the notebook cell above.\n",
    "\n",
    "### Your first graph\n",
    "Now let's make a first plot. Simply enter: `fluxplot()` in the cell below and press __Shift+Enter__ "
   ]
  },
  {
   "cell_type": "code",
   "execution_count": null,
   "metadata": {
    "scrolled": false
   },
   "outputs": [],
   "source": []
  },
  {
   "cell_type": "markdown",
   "metadata": {},
   "source": [
    "What you see in the figure above is the timeseries of daily mean temperature for the Loobos site, colored by month. \n",
    "\n",
    "The plots can be refined by the following arguments that can be passed to `fluxplot`:\n",
    "  * site='site name': name of site to plot data from  (example `fluxplot(site='Loobos')`)\n",
    "  * x_var='var name': name of variable to plot on x-axis (example `fluxplot(x_var='K_in')`)\n",
    "  * y_var='var name': name of variable to plot on y-axis (example `fluxplot(y_var='GPP')`)\n",
    "  * color_by='var name': name of variable to color dots with (example `fluxplot(color_by='air_temperature')`)\n",
    "  * averaging='averaging period': averaging period of data (example `fluxplot(averaging='30min')`) (can be `'30min'`, `'day'`, `'month'`)\n",
    "  * plot_lines=True/False: fit line to x-y scatter plot (example `fluxplot(plot_lines=True)`)\n",
    "  * n_lines=n: number of lines fitted to xy-scatter plot, where the `color_by` variable is used to group the data per fit line (example `fluxplot(n_lines=5)`)\n",
    "  * connect_points=True/False: connect the points in a scatter plot, mainly relevant when making a time series (example `fluxplot(connect_points=True)`)\n",
    "\n",
    "\n",
    "Apart from looking at the contents, you can do more with the graph (using the small icons below the graph)\n",
    "  * Zoom (magnifying glass): click in the graph, keep you mouse button down, drag a square and release your mouse).\n",
    "  * Pan (arrows): drag the plot around.\n",
    "  * Save the graph (3rd icon, a floppy disk, quite old-fashioned ;)\n",
    "  * Reset your zoom/pan actions (button with the two round arrows)\n",
    "  \n",
    "To get all information about the plotting command, you can ask for help: `help(fluxplot)`"
   ]
  },
  {
   "cell_type": "markdown",
   "metadata": {},
   "source": [
    "# Intro to the exercises\n",
    "\n",
    "This practical comes with an answer sheet:\n",
    "  * Download it [here](./Fluxnet-analysis-answer-sheet.docx).\n",
    "  * Save it to your computer and use it to gather your answers\n",
    "  * Submit it through Brightspace at the end of the practical\n",
    "  \n",
    "When answering the questions, please fill out the answer sheet. Where you find it helpful, you could include a graph that supports your argument.\n",
    "\n",
    "\n",
    "First we will explore the general conditions at the sites. Consider the following variables \n",
    "  * Air temperature\n",
    "  * Relative humidity (RH)\n",
    "  * Vapour pressure deficit (VPD)\n",
    "  * Wind speed\n",
    "  * Precipitation\n",
    "  * CO2 concentration ([CO2])\n",
    "  \n",
    "# Part I - Characterization of the climate at the sites\n",
    "## Question 1: Yearly cycle\n",
    "Choose three variables for which you describe the typical yearly cycle (variation between summer and winter) and compare that between the three sites.\n",
    "\n",
    "Hints:\n",
    "  * make sure that you choose a logical averaging period\n",
    "\n",
    "Use the notebook cell below to produce your graphs."
   ]
  },
  {
   "cell_type": "code",
   "execution_count": null,
   "metadata": {
    "scrolled": false
   },
   "outputs": [],
   "source": []
  },
  {
   "cell_type": "markdown",
   "metadata": {},
   "source": [
    "## Question 2: Energy balance terms, typical daytime values\n",
    "Next we will explore the terms of the surface energy balance. Determine typical values for daily mean surface energy balance terms Q*, H and LvE  (e.g. ‘summer’ means roughly the average value for all summers in the plot). Note them down in the answer document.\n",
    "\n",
    "Use the notebook cell below to produce your graphs."
   ]
  },
  {
   "cell_type": "code",
   "execution_count": null,
   "metadata": {},
   "outputs": [],
   "source": []
  },
  {
   "cell_type": "markdown",
   "metadata": {},
   "source": [
    "## Question 3: Variation between years \n",
    "\n",
    "For each site you see that the typical summer and winter values vary somewhat between years. \n",
    "\n",
    "Try to find out for at least three situations what could be the explanation for the difference (i.e. choose three combination of a site with a variation of a flux, e.g. variation in winter values for sensible heat flux for Horstermeer). You can make use of all variables that are available to you to support your argument. Note down your findings in the answer document.\n",
    "\n",
    "Use the notebook cell below to produce your graphs."
   ]
  },
  {
   "cell_type": "code",
   "execution_count": null,
   "metadata": {},
   "outputs": [],
   "source": []
  },
  {
   "cell_type": "markdown",
   "metadata": {},
   "source": [
    "# Part II - Evapotranspiraton\n",
    "\n",
    "## Question 4: Partitioning between $H$ and $L_v E$\n",
    "\n",
    "When considering the surface energy balance, one important aspect is the partitioning of available energy between sensible and latent heat flux. There are various ways to quantify that: e.g. using the Bowen ratio ($H/L_v E$)  or using the evaporative fraction ($L_v E/(Q^*-G)$). The latter could be simplified to $L_v E/Q^*$.\n",
    "\n",
    "Describe the partitioning for each surface type and how it varies through the year.\n",
    "\n",
    "Hints:\n",
    "  1. the ratios you need can be inferred by cleverly choosing the variables on the x-axis and the y-axis and looking at the slope;\n",
    "  2. to infer the variation through the year you could color the points with the variable ‘month’).\n",
    "\n",
    "Use the notebook cell below to produce your graphs."
   ]
  },
  {
   "cell_type": "code",
   "execution_count": null,
   "metadata": {},
   "outputs": [],
   "source": []
  },
  {
   "cell_type": "markdown",
   "metadata": {},
   "source": [
    "## Question 5: Crop factors and reference evapotranspiration\n",
    "\n",
    "Estimates of actual evapotranspiration are often based on reference evapotranspiration values, with or without the application of crop factors.\n",
    "\n",
    "Compare for each site the actual evapotranspiration to the Makkink reference evapotranspiration (ET_Makkink). Discuss your findings.\n",
    "\n",
    "Use the notebook cell below to produce your graphs."
   ]
  },
  {
   "cell_type": "code",
   "execution_count": null,
   "metadata": {},
   "outputs": [],
   "source": []
  },
  {
   "cell_type": "markdown",
   "metadata": {},
   "source": [
    "# Part III - Carbon-related fluxes\n",
    "\n",
    "Here we will consider the carbon-related fluxes. All three sites are vegetated surfaces with vegetation cover through the year. Still, the CO2 fluxes vary strongly between summer and winter.\n",
    "\n",
    "## Question 6: typical yearly cycle of NEE and GPP\n",
    "\n",
    "Describe the typical yearly cycle for NEE (net ecosystem exchange), GPP (gross primary production, taken positive when CO2 is taken up) and respiration. Consider the variation between summer and winter and compare the magnitude of the fluxes between the three sites. Finally, compare the values for GPP and NEE explicitly. \n",
    "\n",
    "Use the notebook cell below to produce your graphs."
   ]
  },
  {
   "cell_type": "code",
   "execution_count": null,
   "metadata": {},
   "outputs": [],
   "source": []
  },
  {
   "cell_type": "markdown",
   "metadata": {},
   "source": [
    "Plants perform photosynthesis under the influence of sunlight. One essential characteristic of plants is their light-response curve. This shows the amount of CO2 taken up by the plants per unit amount of intercepted photosynthetically active radiation (or PAR). \n",
    "\n",
    "Here we cannot determine the light-response curve at leaf level (or even stomatal level), but we can determine it at the level of an entire canopy. Furthermore, we do not have PAR for all sites, so you need to use a variable that comes close.\n",
    "\n",
    "\n",
    "## Question 7: light response curve\n",
    "Plot for each site the light-response curve (based on 30-minute data) and determine both the initial light-use efficiency (the slope of the curve at the origin) and the maximum CO2 uptake at maximum light input. The data may be a bit messy, but then it helps to consider which part of the year is the actual growing season (color your points e.g. by month or temperature). \n",
    "\n",
    "Use the notebook cell below to produce your graphs.\n"
   ]
  },
  {
   "cell_type": "code",
   "execution_count": null,
   "metadata": {},
   "outputs": [],
   "source": []
  },
  {
   "cell_type": "markdown",
   "metadata": {},
   "source": [
    "While performing photosynthesis, plants also loose water through transpiration.  From the observed fluxes we cannot determine which part of the moisture flux is transpiration and which part is soil evaporation or evaporation from interception. So lets us for simplicity assume that all measured evapotranspiration is transpiration. A key variable when comparing assimilation and transpiration is the water-use efficiency: the amount of carbon dioxide take up by the plants per amount water lost by transpiration (here we express that amount of water as an energy flux).\n",
    "\n",
    "## Question 8: water-use efficiency\n",
    "\n",
    "Plot for each site the relation between transpiration and carbon uptake and determine the WUE both for low fluxes  (where the WUE tends to be largest) and around the maximum flux amounts (where assimilation tends to level off whereas transpiration continues). Compare the sites.\n",
    "\n",
    "Use the notebook cell below to produce your graphs."
   ]
  },
  {
   "cell_type": "code",
   "execution_count": null,
   "metadata": {},
   "outputs": [],
   "source": []
  },
  {
   "cell_type": "markdown",
   "metadata": {},
   "source": [
    "# Conclusion\n",
    "\n",
    "You have now completed the exercise. Complete your answer document and submit it on Brightspace."
   ]
  }
 ],
 "metadata": {
  "kernelspec": {
   "display_name": "Python 3",
   "language": "python",
   "name": "python3"
  },
  "language_info": {
   "codemirror_mode": {
    "name": "ipython",
    "version": 3
   },
   "file_extension": ".py",
   "mimetype": "text/x-python",
   "name": "python",
   "nbconvert_exporter": "python",
   "pygments_lexer": "ipython3",
   "version": "3.7.3"
  }
 },
 "nbformat": 4,
 "nbformat_minor": 2
}
