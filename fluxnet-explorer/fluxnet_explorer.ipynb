{
 "cells": [
  {
   "cell_type": "markdown",
   "metadata": {
    "deletable": false,
    "editable": false
   },
   "source": [
    "# Understanding land-atmosphere interactions on multiple time scales  "
   ]
  },
  {
   "cell_type": "markdown",
   "metadata": {
    "deletable": false,
    "editable": false,
    "heading_collapsed": true
   },
   "source": [
    "## Introduction"
   ]
  },
  {
   "cell_type": "markdown",
   "metadata": {
    "deletable": false,
    "editable": false,
    "heading_collapsed": true,
    "hidden": true
   },
   "source": [
    "### Context"
   ]
  },
  {
   "cell_type": "markdown",
   "metadata": {
    "deletable": false,
    "editable": false,
    "hidden": true
   },
   "source": [
    "Most of the data on land-atmosphere interactions you will be working with in this course will be observations that were gathered over a limited amount of time (a few weeks at most) and only one area (the Hupsel catchment). \n",
    "\n",
    "However, in order to understand how land-atmosphere processes work on larger time scales and other locations, we need additional data. Those are available through [FluxNet](https://fluxnet.org/): a collection of flux data from hundreds of sites world-wide (also discussed during the lecture in Tuesday). The map below shows the location of sites from which data are available in Fluxnet (including the length of the timeseries).\n",
    "\n",
    "<img src=\"https://fluxnet.fluxdata.org/wp-content/uploads/sites/3/2015-10-19_Global_Site_Year_2015-v2.jpg\" width=\"60%\">\n",
    "\n",
    "In this exercise, you will use data from three Fluxnet stations (in and close to the Netherlands) to address the following questions:\n",
    "  * What kind of variations during the year and between years can be observed? \n",
    "  * How different are the surface fluxes between sites? \n",
    "  * What are the responses of the different surfaces (‘how do they work’?)?\n",
    "  \n"
   ]
  },
  {
   "cell_type": "markdown",
   "metadata": {
    "deletable": false,
    "editable": false,
    "hidden": true
   },
   "source": [
    "### Data and visualization"
   ]
  },
  {
   "cell_type": "markdown",
   "metadata": {
    "deletable": false,
    "hidden": true
   },
   "source": [
    "#### Data\n",
    "To be able to address the above questions, we need data from different sites (differing in location and vegetation type), and on different time scales (from 30 minute averages up to monthly averages). \n",
    "\n",
    "Data are available for three sites: two grass sites and a forest site. For each site data are available with averaging periods of 30 minutes, 1 day and 1 month. The years for which data are available differ between the sites. The table below summarizes the available data. The hyperlink in the name brings you to the corresponding page on the Fluxnet website where additional information on the site is available.\n",
    "\n",
    "|Site name|Country|Surface type|Years of data<br>monthly data|Years of data<br>daily data|Years of data<br>30 min. data|\n",
    "|:--------|:------|:-----------|:------------|:---------|:-------------|\n",
    "|[Loobos](https://fluxnet.org/sites/siteinfo/NL-Loo/)|NL|everygreen needleleaf forest ([Veluwe](https://www.openstreetmap.org/?mlat=52.1666&mlon=5.7436#map=8/52.167/5.744))|1996-2013|1996-2013|2011| \n",
    "|[Horstermeer](https://fluxnet.org/sites/siteinfo/NL-Hor/)|NL|grasss in peat area ([between Hilversum and Amsterdam](https://www.openstreetmap.org/?mlat=52.2403&mlon=5.0713#map=8/52.2403/5.0713))| 2004-2011|2004-2011|2005| \n",
    "|[Rollesbroich](https://fluxnet.org/sites/siteinfo/DE-RuR/)|Germany|grass on medium textured soil [near Aachen](https://www.openstreetmap.org/?mlat=50.6219&mlon=6.3041#map=8/50.6219/6.3041)|2011<sup>[1](#note_rollesbroich)</sup>-2014|2011<sup>[1](#note_rollesbroich)</sup>-2014|2012|\n",
    "|||||||\n",
    "|Additional sites|||||| \n",
    "|[Hyytiala](https://fluxnet.org/sites/siteinfo/FI-Hyy/)|Finland|everygreen needleleaf forest in [Finland](https://www.openstreetmap.org/?mlat=61.8474&mlon=24.2948#map=8/61.8474/24.2948)|1996-2014|1996-2014|2005| \n",
    "|[Le Bray](https://fluxnet.org/sites/siteinfo/FR-LBr/)|France|everygreen needleleaf forest in [South-West France](https://www.openstreetmap.org/?mlat=44.7171&mlon=-0.7693#map=8/44.7171/-0.7693)|1996-2008|1996-2008|2005| \n",
    "|[Walnut Creek](https://fluxnet.org/sites/siteinfo/US-Wkg/)|US|grass in [Arizona](https://www.openstreetmap.org/?mlat=31.7365&mlon=-109.9419#map=8/31.7365/-109.9419)|2004-2014|2004-2014|2005|\n",
    "<sup><a name=\"note_rollesbroich\">1</a>: The turbulent fluxes for the start of 2011 are erroneous.</sup>\n",
    "\n",
    "Available variables are:\n",
    "  * Time: `timestamp` (continuous), `DOY`, `year`, `month`, `hour`\n",
    "  * Components of net radiation (`K_in`, `K_out`, `L_in`, `L_out`) and  net radiation (`Q*`)\n",
    "  * Turbulent fluxes energy: sensible and latent heat flux: `H` and `LE`\n",
    "  * CO2-related variables: `NEE`,  `GPP`, ecosystem `respiration`, `[CO2]` concentration, photo-synthetically active radiation (`PAR`) (not available for Horstermeer)\n",
    "  * Wind-related: `u*` and `wind speed`\n",
    "  * Standard meteo: `air temperature` and relative humidity (`RH`), `precipitation`\n",
    "  * Derived variables: `albedo`, evaporative fraction (`EF`), reference ET from Makkink (`ET_Makkink`), Bowen ratio (`bowen`)\n",
    "  \n",
    "#### Visualization\n",
    "Within this notebook you will be able to plot a wide range of variables using a simple plotting command. Any variable can be used on the x-axis, the y-axis and to stratify the data (color the data). So our focus is on the qualitative  visualization of relationships, rather than that you need to make additional computations with the data.\n",
    "\n",
    "The way this notebook works is that you can enter a Python command in the cell below. Subsequently, you press __Shift+Enter__ to execute the code.\n",
    "\n",
    "To get you started, you first need to load some necessary Python modules. Put your cursor in the cell below and press __Shift+Enter__. First you will see a star \\* between the brackets '[\\*]'. Once the command has completed, this star will turn into a number."
   ]
  },
  {
   "cell_type": "code",
   "execution_count": null,
   "metadata": {
    "hidden": true,
    "scrolled": true
   },
   "outputs": [],
   "source": [
    "# Load some needed Python stuff\n",
    "from plot_fluxnet import fluxplot, varnames, units, sites, var_avail, aggr_units"
   ]
  },
  {
   "cell_type": "markdown",
   "metadata": {
    "deletable": false,
    "editable": false,
    "hidden": true
   },
   "source": [
    "Now enter the following command: `print(varnames)` in the cell below and press __Shift+Enter__ in the cell to get the names of the available variables."
   ]
  },
  {
   "cell_type": "code",
   "execution_count": null,
   "metadata": {
    "hidden": true
   },
   "outputs": [],
   "source": [
    "print(varnames)"
   ]
  },
  {
   "cell_type": "markdown",
   "metadata": {
    "deletable": false,
    "editable": false,
    "hidden": true
   },
   "source": [
    "If all went well the outcome should look like:\n",
    "\n",
    "`dict_keys(['timestamp', 'hour', 'month', 'year', 'air temperature', 'K_in', 'K_out', 'L_in', 'L_out', 'PAR', 'Q*', 'VPD', 'RH', 'precipitation', 'u*', 'wind speed', 'LE', 'H', '[CO2]', 'NEE', 'respiration', 'GPP', 'albedo', 'bowen', 'EF', 'ET_Makkink'])`\n",
    "\n",
    "These are the names that you can use to access the different variables in the dataset. \n",
    "\n",
    "Now also try to find out what are the available sites: type `print(sites)` in the notebook cell above."
   ]
  },
  {
   "cell_type": "markdown",
   "metadata": {
    "deletable": false,
    "editable": false,
    "hidden": true
   },
   "source": [
    "### Your first graph"
   ]
  },
  {
   "cell_type": "markdown",
   "metadata": {
    "deletable": false,
    "editable": false,
    "hidden": true
   },
   "source": [
    "Now let's make a first plot. Simply enter: fluxplot() in the cell below and press Shift+Enter "
   ]
  },
  {
   "cell_type": "code",
   "execution_count": null,
   "metadata": {
    "hidden": true,
    "scrolled": false
   },
   "outputs": [],
   "source": [
    "fluxplot()"
   ]
  },
  {
   "cell_type": "markdown",
   "metadata": {
    "deletable": false,
    "editable": false,
    "hidden": true
   },
   "source": [
    "What you see in the figure above is the timeseries of daily mean temperature for the Loobos site, colored by month. \n",
    "\n",
    "The plots can be refined by the following arguments that can be passed to `fluxplot`:\n",
    "  * `site='site name'`: name of site to plot data from  (example `fluxplot(site='Loobos')`)\n",
    "  * `x_var='var name'`: name of variable to plot on x-axis (example `fluxplot(x_var='K_in')`)\n",
    "  * `y_var='var name'`: name of variable to plot on y-axis (example `fluxplot(y_var='GPP')`)\n",
    "  * `color_by='var name'`: name of variable to color dots with (example `fluxplot(color_by='air temperature')`)\n",
    "  * `averaging='averaging period'`: averaging period of data (example `fluxplot(averaging='30min')`) (can be `'30min'`, `'day'`, `'month'`)\n",
    "  * `plot_lines=True/False`: fit line to x-y scatter plot (example `fluxplot(plot_lines=True)`)\n",
    "  * `n_lines=n`: if plot_lines == True -> number of lines fitted to xy-scatter plot, where the `color_by` variable is used to group the data per fit line (example `fluxplot(n_lines=5)`)\n",
    "  * `plot_quant=True/False`: if plot_lines == True -> show a band around the plotted line, ranging from a given `quantile` to `1 - quantile` \n",
    "  * `quantile=q`: if plot_lines == True and plot_quant == True -> the quantile that defines the width of the band; q should be between 0 and 0.5; e.g. a value of 0.1 means that the range between 10% and 90% is shaded \n",
    "  * `connect_points=True/False`: connect the points in a scatter plot, mainly relevant when making a time series (example `fluxplot(connect_points=True)`)\n",
    "  * `export_data=True/False`: the the function returns a Pandas dataframe that you can further use for computation, plotting or inspection.\n",
    "\n",
    "\n",
    "Apart from looking at the contents, you can do more with the graph (using the small icons below the graph)\n",
    "  * Zoom (magnifying glass): click in the graph, keep you mouse button down, drag a square and release your mouse).\n",
    "  * Pan (arrows): drag the plot around.\n",
    "  * Save the graph (3rd icon, a floppy disk, quite old-fashioned ;)\n",
    "  * Reset your zoom/pan actions (button with the two round arrows)\n",
    "  \n",
    "To get all information about the plotting command, you can ask for help: `help(fluxplot)`"
   ]
  },
  {
   "cell_type": "markdown",
   "metadata": {
    "deletable": false,
    "editable": false,
    "heading_collapsed": true,
    "hidden": true
   },
   "source": [
    "### Intro to the exercises"
   ]
  },
  {
   "cell_type": "markdown",
   "metadata": {
    "hidden": true
   },
   "source": [
    "This practical comes with an answer sheet:\n",
    "  * Download it [here](./Fluxnet-analysis-answer-sheet.docx).\n",
    "  * Save it to your computer and use it to gather your answers.\n",
    "  * Submit it through Brightspace at the end of the practical.\n",
    "  \n",
    "When answering the questions, please fill out the answer sheet. Where you find it helpful, you could include a graph that supports your argument."
   ]
  },
  {
   "cell_type": "markdown",
   "metadata": {
    "deletable": false,
    "editable": false,
    "heading_collapsed": true
   },
   "source": [
    "## Part I - Characterization of the climate at the sites"
   ]
  },
  {
   "cell_type": "markdown",
   "metadata": {
    "deletable": false,
    "editable": false,
    "heading_collapsed": true,
    "hidden": true
   },
   "source": [
    "### Question 1: Yearly cycle"
   ]
  },
  {
   "cell_type": "markdown",
   "metadata": {
    "deletable": false,
    "editable": false,
    "hidden": true
   },
   "source": [
    "First we will explore the general conditions at the sites. Consider the following variables \n",
    "  * Air temperature\n",
    "  * Relative humidity (RH)\n",
    "  * Vapour pressure deficit (VPD)\n",
    "  * Wind speed\n",
    "  * Precipitation\n",
    "  * CO2 concentration ([CO2])\n",
    "  \n",
    "__Question__: Choose three variables for which you describe the typical yearly cycle. Focus on the variation of the variable between summer and winter: magnitude of yearly variation, when do maxima and minima occur. Furthermore, explore to what extent the characteristics of that yearly cycle differe between the three sites. In this way you get a feel for how the climatology of sites can vary. \n",
    "\n",
    "Hints:\n",
    "  * Make sure that you choose a logical averaging period: `30min`, `day` or `month`. This may vary between variables: some variables are well-defined for every day, whereas for instance rainfall is not meaningful when you consider daily values.\n",
    "  * Consider which time variable to put on the x-axis. E.g. `timestamp` will give you a continues time axis, whereas `DOY` or `month` will plot data from the same date at the same horizontal location (shows the variation through the year).\n",
    "\n",
    "Use the notebook cell below to produce your graphs. You can write multiple plot commands in one cell: all plots will be shown, below each other.\n",
    "\n",
    "To get you started: try `fluxplot(site='Loobos', x_var='DOY', y_var='[CO2]', color_by='year')` or `fluxplot(site='Loobos',x_var='DOY',y_var='[CO2]', color_by='year', plot_lines=True, plot_quant=True, quantile=0.1)`"
   ]
  },
  {
   "cell_type": "code",
   "execution_count": null,
   "metadata": {
    "hidden": true,
    "scrolled": true
   },
   "outputs": [],
   "source": [
    "fluxplot(site='Rollesbroich', averaging='30min',x_var='PAR',y_var='GPP', color_by='DOY', plot_lines=True, plot_quant=True, quantile=0.1)"
   ]
  },
  {
   "cell_type": "markdown",
   "metadata": {
    "deletable": false,
    "editable": false,
    "heading_collapsed": true,
    "hidden": true
   },
   "source": [
    "### Question 2: Energy balance terms, typical daytime values"
   ]
  },
  {
   "cell_type": "markdown",
   "metadata": {
    "deletable": false,
    "editable": false,
    "hidden": true
   },
   "source": [
    "Next we will explore how the terms of the surface energy balance vary through the year. \n",
    "\n",
    "__Question__: Determine typical values for __daily mean__ (i.e. 24-hour mean) surface energy balance terms $Q^*$, $H$ and $L_vE$. In the answer sheet we ask for typical 'summer' and 'winter' values. For those, focus on the period in the middle of the given season. Note them down in the answer document. Furthermore, once you collected the values, comment on them: \n",
    " * by comparing summer versus winter\n",
    " * comparing the sites\n",
    " * considering the variation around the mean (how large is the variability as compared tho the typical value that you wrote down in the answer sheet)\n",
    "\n",
    "Hints:\n",
    "  * make sure that you choose the correct averaging period for the given variable\n",
    "  * consider which time variable you would like to put on the x-axis (considering that you want to study the different between summer and winter)\n",
    "\n",
    "Use the notebook cell below to produce your graphs (you can enter multiple plot commands in one cell)."
   ]
  },
  {
   "cell_type": "code",
   "execution_count": null,
   "metadata": {
    "hidden": true
   },
   "outputs": [],
   "source": []
  },
  {
   "cell_type": "markdown",
   "metadata": {
    "deletable": false,
    "editable": false,
    "heading_collapsed": true
   },
   "source": [
    "## Part II - Evapotranspiration"
   ]
  },
  {
   "cell_type": "markdown",
   "metadata": {
    "deletable": false,
    "editable": false,
    "heading_collapsed": true,
    "hidden": true
   },
   "source": [
    "### Question 3: Partitioning between $H$ and $L_v E$"
   ]
  },
  {
   "cell_type": "markdown",
   "metadata": {
    "deletable": false,
    "editable": false,
    "hidden": true
   },
   "source": [
    "When considering the surface energy balance, one important aspect is the partitioning of available energy between sensible and latent heat flux. There are various ways to quantify that: \n",
    "  * using the evaporative fraction ($L_v E/(Q^*-G)$)\n",
    "  * using the Bowen ratio ($H/L_v E$)\n",
    "  \n",
    "Both variables are available in the data (as `EF` and `bowen`). \n",
    "\n",
    "__Question__: Describe the partitioning for each surface type and how it varies through the year.\n",
    "\n",
    "Rather than plotting the time series of `EF` or `bowen`, you could also study them by plotting the numerator and denominator of these ratios on the y-axis and x-axis respectively. The slope of the scatter cloud then is in indication of the ratio you consider (e.g.: $H$ on y-axis and $L_v E$ on x-axis: the slope is the Bowen ratio).\n",
    "In that case, you can infer the variation through the yearby colouring the points with the variable `'month'` (and add fit-lines based on that stratification (`plot_lines = True`)\n",
    "\n",
    "Use the notebook cell below to produce your graphs."
   ]
  },
  {
   "cell_type": "code",
   "execution_count": null,
   "metadata": {
    "hidden": true
   },
   "outputs": [],
   "source": []
  },
  {
   "cell_type": "markdown",
   "metadata": {
    "deletable": false,
    "editable": false,
    "heading_collapsed": true,
    "hidden": true
   },
   "source": [
    "### Question 4: Crop factors and reference evapotranspiration"
   ]
  },
  {
   "cell_type": "markdown",
   "metadata": {
    "deletable": false,
    "editable": false,
    "hidden": true
   },
   "source": [
    "In practice, estimates of actual evapotranspiration are often based on reference evapotranspiration values in combination with a crop factors. By comparing the actual evapotranspiration to a reference evapotranspiration (here according to Makkink) one could determine the crop factor.\n",
    "\n",
    "__Question__: Compare for each site the actual evapotranspiration to the Makkink reference evapotranspiration (ET_Makkink) and make an estimate of the crop factor that connects the two. Discuss your findings.\n",
    "\n",
    "Hint:\n",
    "\n",
    "* To compare two variables (i.c. actual and reference evapotranspiration), you can use a scatterplot. If both variables have the same magnitude, the slope of the scatter cloud is about 1.\n",
    "* Make a clever choice which of the two you plot on the x-axis and which on the y-axis.\n",
    "* To see how the crop factor varies with other external variables (temperature, RH, time-of-year), choose clever variables to colour your points with.\n",
    "\n",
    "Use the notebook cell below to produce your graphs."
   ]
  },
  {
   "cell_type": "markdown",
   "metadata": {
    "deletable": false,
    "editable": false,
    "heading_collapsed": true
   },
   "source": [
    "## Part III - Carbon-related fluxes"
   ]
  },
  {
   "cell_type": "markdown",
   "metadata": {
    "deletable": false,
    "editable": false,
    "heading_collapsed": true,
    "hidden": true
   },
   "source": [
    "### Question 5: typical yearly cycle of NEE and GPP"
   ]
  },
  {
   "cell_type": "markdown",
   "metadata": {
    "deletable": false,
    "editable": false,
    "hidden": true
   },
   "source": [
    "In practice, estimates of actual evapotranspiration are often based on reference evapotranspiration values in combination with a crop factors. By comparing the actual evapotranspiration to a reference evapotranspiration (here according to Makkink) one could determine the crop factor.\n",
    "\n",
    "__Question__: Compare for each site the actual evapotranspiration to the Makkink reference evapotranspiration (ET_Makkink) and make an estimate of the crop factor that connects the two. Discuss your findings. \n",
    "\n",
    "Hint:\n",
    "  * To compare two variables (i.c. actual and reference evapotranspiration), you can use a scatterplot. If both variables have the same magnitude, the slope of the scatter cloud is about 1. \n",
    "  * Make a clever choice which of the two you plot on the x-axis and which on the y-axis.\n",
    "  * To see how the crop factor varies with other external variables (temperature, RH, time-of-year), choose clever variables to colour your points with.\n",
    "\n",
    "Use the notebook cell below to produce your graphs."
   ]
  },
  {
   "cell_type": "code",
   "execution_count": null,
   "metadata": {
    "hidden": true
   },
   "outputs": [],
   "source": []
  },
  {
   "cell_type": "markdown",
   "metadata": {
    "deletable": false,
    "editable": false,
    "hidden": true
   },
   "source": [
    "Here we will consider the carbon-related fluxes. All three sites are vegetated surfaces with vegetation cover through the year.One of the challenges in this type of research is that using the eddy-covariance technique only the the net-ecosystem exchange can be determined (the net-uptake or release of CO2 by the entire ecosystem). \n",
    "\n",
    "However, if we want to understnad how such an ecosystem works we would like to distinguish between the carbon uptake due to photosynthesis (GPP, gross primary production) and soil respiration. In this data set NEE has been decomposed into GPP and respiration (the details of how this was done do not matter now).\n",
    "\n",
    "__Question__: Describe the typical yearly cycle for \n",
    "* NEE (net ecosystem exchange)\n",
    "* GPP (gross primary production, taken positive when CO2 is taken up) \n",
    "* respiration. \n",
    "\n",
    "Consider the variation between summer and winter and compare the magnitude of the fluxes between the three sites. Furthermore, compare for each site the values of GPP, respiration and NEE. Show how NEE is the net effect of GPP (carbon uptake due to photosynthesis) and soil respiration.\n",
    "\n",
    "Hint:\n",
    "  * To focus on the yearly cycle, it is best to combine all years and use 'DOY' for the x-axis.\n",
    "  * Which variables might explain the variation between points for a given DOY? Experiment to find the best explanatory variable.\n",
    "\n",
    "Use the notebook cell below to produce your graphs."
   ]
  },
  {
   "cell_type": "code",
   "execution_count": null,
   "metadata": {
    "hidden": true
   },
   "outputs": [],
   "source": []
  },
  {
   "cell_type": "markdown",
   "metadata": {
    "deletable": false,
    "editable": false,
    "heading_collapsed": true,
    "hidden": true
   },
   "source": [
    "### Question 6: light-response curve"
   ]
  },
  {
   "cell_type": "markdown",
   "metadata": {
    "deletable": false,
    "editable": false,
    "hidden": true
   },
   "source": [
    "Plants perform photosynthesis under the influence of sunlight. One essential characteristic of plants is their light-response curve. This shows the amount of CO2 taken up by the plants per unit amount of intercepted photosynthetically active radiation (or PAR).  The figure below sketches the light response curve on leaf level (from Moene and van Dam (2014), Copyright Cambridge University Press).\n",
    "\n",
    "<img src=\"./light_response_curve.png\" width=\"40%\">\n",
    "\n",
    "Here we cannot determine the light-response curve at leaf level (or even stomatal level), but we can determine it at the level of an entire canopy. Furthermore, we do not have PAR for all sites, so you need to use a variable that comes close.\n",
    "\n",
    "__Question__: Plot for each site the light-response curve (based on __30-minute data__) and determine both the initial light-use efficiency (the slope of the curve at the origin) and the maximum CO2 uptake at maximum light input. \n",
    "\n",
    "Hints:\n",
    " * The data may be a bit messy (in particular to determine the initial slope). Then it helps to focus on the growing season only.\n",
    " * You could focus on the actual growing season e.g. by coloring your points by month or temperature. \n",
    "\n",
    "Use the notebook cell below to produce your graphs."
   ]
  },
  {
   "cell_type": "code",
   "execution_count": null,
   "metadata": {
    "hidden": true
   },
   "outputs": [],
   "source": []
  },
  {
   "cell_type": "markdown",
   "metadata": {
    "deletable": false,
    "editable": false,
    "heading_collapsed": true,
    "hidden": true
   },
   "source": [
    "### Question 7: water-use efficiency"
   ]
  },
  {
   "cell_type": "markdown",
   "metadata": {
    "deletable": false,
    "editable": false,
    "hidden": true
   },
   "source": [
    "While performing photosynthesis, plants also lose water through transpiration (sse figure below, from Moene and van Dam (2014), Copyright Cambridge University Press).  \n",
    "\n",
    "<img src=\"./pathways_CO2_H2O.png\" width=\"40%\">\n",
    "\n",
    "From the observed fluxes we cannot determine which part of the moisture flux is transpiration and which part is soil evaporation or evaporation from interception. So lets us for simplicity assume that all measured evapotranspiration is transpiration. A key variable when comparing assimilation and transpiration is the water-use efficiency: the amount of carbon dioxide take up by the plants per amount water lost by transpiration (here we express that amount of water as an energy flux).\n",
    "\n",
    "\n",
    "__Question__: Plot for each site the relation between transpiration and carbon uptake and determine the WUE both for low fluxes  (where the WUE tends to be largest) and around the maximum flux amounts (where assimilation tends to level off whereas transpiration continues). Compare the sites.\n",
    "\n",
    "Hints:\n",
    "\n",
    "  * The data may be a bit messy (in particular to determine the initial slope). Then it helps to focus on the growing season only.\n",
    "  * You could focus on the actual growing season e.g. by coloring your points by month or temperature.\n",
    "\n",
    "\n",
    "Use the notebook cell below to produce your graphs."
   ]
  },
  {
   "cell_type": "code",
   "execution_count": null,
   "metadata": {
    "hidden": true
   },
   "outputs": [],
   "source": []
  },
  {
   "cell_type": "markdown",
   "metadata": {
    "deletable": false,
    "editable": false,
    "heading_collapsed": true
   },
   "source": [
    "## Wrap-up"
   ]
  },
  {
   "cell_type": "markdown",
   "metadata": {
    "deletable": false,
    "editable": false,
    "hidden": true
   },
   "source": [
    "You have now completed the exercise. Complete your answer document and submit it on Brightspace.\n",
    "\n",
    "Your notebook will remain on CoCalc.com. However, if you want to easily reference it later on your own computer, you can download it as follows.\n",
    "\n",
    "### 1. Go to the file menu\n",
    "<img src=\"./notebook_file_menu.png\" width=\"60%\">\n",
    "\n",
    "### 2. Select 'Download as'\n",
    "<img src=\"./notebook_download_as.png\" width=\"20%\">\n",
    "\n",
    "### 2. Select the file type you want\n",
    "  * HTML: you can view the contents of your notebook but you cannot edit it\n",
    "  * (PDF: this does not work at the moment, unfortunately)\n",
    "  * Notebook (\\*.ipynb): you can continue to use the notebook. For this you need to instal Python and [Jupyter](https://jupyter.org/install) on your computer. The easiest way to do that is to use [Miniconda](https://docs.conda.io/en/latest/miniconda.html)\n",
    "  \n",
    "<img src=\"./notebook_download_as.png\" width=\"20%\">\n",
    "\n"
   ]
  }
 ],
 "metadata": {
  "kernelspec": {
   "display_name": "Python 3 (system-wide)",
   "language": "python",
   "name": "python3"
  },
  "language_info": {
   "codemirror_mode": {
    "name": "ipython",
    "version": 3
   },
   "file_extension": ".py",
   "mimetype": "text/x-python",
   "name": "python",
   "nbconvert_exporter": "python",
   "pygments_lexer": "ipython3",
   "version": "3.8.10"
  },
  "toc": {
   "base_numbering": 1,
   "nav_menu": {
    "height": "337px",
    "width": "233.6px"
   },
   "number_sections": true,
   "sideBar": true,
   "skip_h1_title": true,
   "title_cell": "Table of Contents",
   "title_sidebar": "Contents",
   "toc_cell": false,
   "toc_position": {},
   "toc_section_display": true,
   "toc_window_display": true
  },
  "toc-autonumbering": true,
  "toc-showtags": false
 },
 "nbformat": 4,
 "nbformat_minor": 4
}
