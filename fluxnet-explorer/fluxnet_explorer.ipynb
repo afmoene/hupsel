{
 "cells": [
  {
   "cell_type": "markdown",
   "metadata": {
    "deletable": false,
    "editable": false
   },
   "source": [
    "# Understanding land-atmosphere interactions on multiple time scales  "
   ]
  },
  {
   "cell_type": "markdown",
   "metadata": {
    "deletable": false,
    "editable": false,
    "heading_collapsed": true
   },
   "source": [
    "## Introduction"
   ]
  },
  {
   "cell_type": "markdown",
   "metadata": {
    "deletable": false,
    "editable": false,
    "heading_collapsed": true
   },
   "source": [
    "This practical comes with an **answer sheet**:\n",
    "  * Download it **[here](./Fluxnet-analysis-answer-sheet.docx)**.\n",
    "  * Save it to your computer and use it to gather your answers.\n",
    "  * Submit it through Brightspace at the end of the practical."
   ]
  },
  {
   "cell_type": "markdown",
   "metadata": {
    "deletable": false,
    "editable": false,
    "hidden": true
   },
   "source": [
    "### Context"
   ]
  },
  {
   "cell_type": "markdown",
   "metadata": {
    "deletable": false,
    "editable": false,
    "hidden": true
   },
   "source": [
    "Most of the data on land-atmosphere interactions you will be working with in this course will be observations that were gathered over a limited amount of time (a few weeks at most) and only one area (the Hupsel catchment). \n",
    "\n",
    "However, in order to understand how land-atmosphere processes work on larger time scales and other locations, we need additional data. Those are available through [FluxNet](https://fluxnet.org/): a collection of flux data from hundreds of sites world-wide (also discussed during the lecture in Tuesday). The map below shows the location of sites from which data are available in Fluxnet (including the length of the timeseries).\n",
    "\n",
    "<img src=\"https://fluxnet.fluxdata.org/wp-content/uploads/sites/3/2015-10-19_Global_Site_Year_2015-v2.jpg\" width=\"60%\">\n",
    "\n",
    "In this exercise, you will use data from three Fluxnet stations (in and close to the Netherlands) to address the following questions:\n",
    "  * What kind of variations during the year and between years can be observed? \n",
    "  * How different are the surface fluxes between sites? \n",
    "  * What are the responses of the different surfaces (‘how do they work’?)?\n",
    "  \n"
   ]
  },
  {
   "cell_type": "markdown",
   "metadata": {
    "deletable": false,
    "editable": false,
    "hidden": true
   },
   "source": [
    "### Data and visualization"
   ]
  },
  {
   "cell_type": "markdown",
   "metadata": {
    "deletable": false,
    "editable": false,
    "hidden": true
   },
   "source": [
    "#### Data\n",
    "To be able to address the above questions, we need data from different sites (differing in location and vegetation type), and on different time scales (from 30 minute averages up to monthly averages). \n",
    "\n",
    "Data are available for three sites: two grass sites and a forest site. For each site data are available with averaging periods of 30 minutes, 1 day and 1 month. The years for which data are available differ between the sites. The table below summarizes the available data. The hyperlink in the name brings you to the corresponding page on the Fluxnet website where additional information on the site is available.\n",
    "\n",
    "|Site name|Country|Surface type|Years of data<br>monthly data|Years of data<br>daily data|Years of data<br>30 min. data|\n",
    "|:--------|:------|:-----------|:------------|:---------|:-------------|\n",
    "|[Loobos](https://fluxnet.org/sites/siteinfo/NL-Loo/) (also info from chair group [MAQ](https://maq-observations.nl/loobos/))|NL|everygreen needleleaf forest ([Veluwe](https://www.openstreetmap.org/?mlat=52.1666&mlon=5.7436#map=8/52.167/5.744))|1996-2013|1996-2013|2011| \n",
    "|[Horstermeer](https://fluxnet.org/sites/siteinfo/NL-Hor/)|NL|grasss in peat area ([between Hilversum and Amsterdam](https://www.openstreetmap.org/?mlat=52.2403&mlon=5.0713#map=8/52.2403/5.0713))| 2004-2011|2004-2011|2005| \n",
    "|[Rollesbroich](https://fluxnet.org/sites/siteinfo/DE-RuR/)|Germany|grass on medium textured soil [near Aachen](https://www.openstreetmap.org/?mlat=50.6219&mlon=6.3041#map=8/50.6219/6.3041)|2011<sup>[1](#note_rollesbroich)</sup>-2014|2011<sup>[1](#note_rollesbroich)</sup>-2014|2012|\n",
    "|||||||\n",
    "|Additional sites|||||| \n",
    "|[Hyytiala](https://fluxnet.org/sites/siteinfo/FI-Hyy/)|Finland|everygreen needleleaf forest in [Finland](https://www.openstreetmap.org/?mlat=61.8474&mlon=24.2948#map=8/61.8474/24.2948)|1996-2014|1996-2014|2005| \n",
    "|[LeBray](https://fluxnet.org/sites/siteinfo/FR-LBr/)|France|everygreen needleleaf forest in [South-West France](https://www.openstreetmap.org/?mlat=44.7171&mlon=-0.7693#map=8/44.7171/-0.7693)|1996-2008|1996-2008|2005| \n",
    "|[WalnutCreek](https://fluxnet.org/sites/siteinfo/US-Wkg/)|US|grass in [Arizona](https://www.openstreetmap.org/?mlat=31.7365&mlon=-109.9419#map=8/31.7365/-109.9419)|2004-2014|2004-2014|2005|\n",
    "<sup><a name=\"note_rollesbroich\">1</a>: The data for the first 5 months are missing (were corrupt).</sup>\n",
    "\n",
    "Available variables are:\n",
    "  * **Time**: `timestamp` (continuous), `DOY`, `year`, `month`, `hour`\n",
    "  * **Net radiation**: components (`K_in`, `K_out`, `L_in`, `L_out`) and  net radiation (`Q*`)\n",
    "  * **Energy fluxes**: sensible and latent heat flux: `H` and `LE`\n",
    "  * **CO2-related**: net ecosystem exchange `NEE`, gross primary production `GPP`, ecosystem respiration `Reco`,  CO2-concentration `[CO2]`, photo-synthetically active radiation `PAR` (not available for Horstermeer)\n",
    "  * **Wind-related**: friction velocity `u*` and wind speed `u_speed`\n",
    "  * **Standard meteo**: temperature `T_a`, relative humidity `RH`, `precipitation`\n",
    "  * **Derived**: `albedo`, evaporative fraction (`EF`), reference ET using Makkink (`LE_Makkink`), Bowen ratio (`bowen`)\n",
    "  \n",
    "#### Visualization\n",
    "Within this notebook you will be able to plot a wide range of variables using a simple plotting command. Any variable can be used on the x-axis, the y-axis and to stratify the data (color the data). So our focus is on the qualitative  visualization of relationships, rather than that you need to make additional computations with the data.\n",
    "\n",
    "The way this notebook works is that you can enter a Python command in the cell below. Subsequently, you press __Shift+Enter__ to execute the code.\n",
    "\n",
    "To get you started, you first need to load some necessary Python modules. Put your cursor in the cell below and press __Shift+Enter__. First you will see a star \\* between the brackets '[\\*]'. Once the command has completed, this star will turn into a number."
   ]
  },
  {
   "cell_type": "code",
   "execution_count": 1,
   "metadata": {
    "deletable": false,
    "editable": false,
    "heading_collapsed": true,
    "scrolled": true
   },
   "outputs": [
    {
     "data": {
      "text/html": [
       "    <style>\n",
       "        .bk-notebook-logo {\n",
       "            display: block;\n",
       "            width: 20px;\n",
       "            height: 20px;\n",
       "            background-image: url(data:image/png;base64,iVBORw0KGgoAAAANSUhEUgAAABQAAAAUCAYAAACNiR0NAAAABHNCSVQICAgIfAhkiAAAAAlwSFlzAAALEgAACxIB0t1+/AAAABx0RVh0U29mdHdhcmUAQWRvYmUgRmlyZXdvcmtzIENTNui8sowAAAOkSURBVDiNjZRtaJVlGMd/1/08zzln5zjP1LWcU9N0NkN8m2CYjpgQYQXqSs0I84OLIC0hkEKoPtiH3gmKoiJDU7QpLgoLjLIQCpEsNJ1vqUOdO7ppbuec5+V+rj4ctwzd8IIbbi6u+8f1539dt3A78eXC7QizUF7gyV1fD1Yqg4JWz84yffhm0qkFqBogB9rM8tZdtwVsPUhWhGcFJngGeWrPzHm5oaMmkfEg1usvLFyc8jLRqDOMru7AyC8saQr7GG7f5fvDeH7Ej8CM66nIF+8yngt6HWaKh7k49Soy9nXurCi1o3qUbS3zWfrYeQDTB/Qj6kX6Ybhw4B+bOYoLKCC9H3Nu/leUTZ1JdRWkkn2ldcCamzrcf47KKXdAJllSlxAOkRgyHsGC/zRday5Qld9DyoM4/q/rUoy/CXh3jzOu3bHUVZeU+DEn8FInkPBFlu3+nW3Nw0mk6vCDiWg8CeJaxEwuHS3+z5RgY+YBR6V1Z1nxSOfoaPa4LASWxxdNp+VWTk7+4vzaou8v8PN+xo+KY2xsw6une2frhw05CTYOmQvsEhjhWjn0bmXPjpE1+kplmmkP3suftwTubK9Vq22qKmrBhpY4jvd5afdRA3wGjFAgcnTK2s4hY0/GPNIb0nErGMCRxWOOX64Z8RAC4oCXdklmEvcL8o0BfkNK4lUg9HTl+oPlQxdNo3Mg4Nv175e/1LDGzZen30MEjRUtmXSfiTVu1kK8W4txyV6BMKlbgk3lMwYCiusNy9fVfvvwMxv8Ynl6vxoByANLTWplvuj/nF9m2+PDtt1eiHPBr1oIfhCChQMBw6Aw0UulqTKZdfVvfG7VcfIqLG9bcldL/+pdWTLxLUy8Qq38heUIjh4XlzZxzQm19lLFlr8vdQ97rjZVOLf8nclzckbcD4wxXMidpX30sFd37Fv/GtwwhzhxGVAprjbg0gCAEeIgwCZyTV2Z1REEW8O4py0wsjeloKoMr6iCY6dP92H6Vw/oTyICIthibxjm/DfN9lVz8IqtqKYLUXfoKVMVQVVJOElGjrnnUt9T9wbgp8AyYKaGlqingHZU/uG2NTZSVqwHQTWkx9hxjkpWDaCg6Ckj5qebgBVbT3V3NNXMSiWSDdGV3hrtzla7J+duwPOToIg42ChPQOQjspnSlp1V+Gjdged7+8UN5CRAV7a5EdFNwCjEaBR27b3W890TE7g24NAP/mMDXRWrGoFPQI9ls/MWO2dWFAar/xcOIImbbpA3zgAAAABJRU5ErkJggg==);\n",
       "        }\n",
       "    </style>\n",
       "    <div>\n",
       "        <a href=\"https://bokeh.org\" target=\"_blank\" class=\"bk-notebook-logo\"></a>\n",
       "        <span id=\"f53c55ab-4c24-4baa-a2a8-ff5dcca77470\">Loading BokehJS ...</span>\n",
       "    </div>\n"
      ]
     },
     "metadata": {},
     "output_type": "display_data"
    },
    {
     "data": {
      "application/javascript": [
       "(function(root) {\n",
       "  function now() {\n",
       "    return new Date();\n",
       "  }\n",
       "\n",
       "  const force = true;\n",
       "\n",
       "  if (typeof root._bokeh_onload_callbacks === \"undefined\" || force === true) {\n",
       "    root._bokeh_onload_callbacks = [];\n",
       "    root._bokeh_is_loading = undefined;\n",
       "  }\n",
       "\n",
       "const JS_MIME_TYPE = 'application/javascript';\n",
       "  const HTML_MIME_TYPE = 'text/html';\n",
       "  const EXEC_MIME_TYPE = 'application/vnd.bokehjs_exec.v0+json';\n",
       "  const CLASS_NAME = 'output_bokeh rendered_html';\n",
       "\n",
       "  /**\n",
       "   * Render data to the DOM node\n",
       "   */\n",
       "  function render(props, node) {\n",
       "    const script = document.createElement(\"script\");\n",
       "    node.appendChild(script);\n",
       "  }\n",
       "\n",
       "  /**\n",
       "   * Handle when an output is cleared or removed\n",
       "   */\n",
       "  function handleClearOutput(event, handle) {\n",
       "    function drop(id) {\n",
       "      const view = Bokeh.index.get_by_id(id)\n",
       "      if (view != null) {\n",
       "        view.model.document.clear()\n",
       "        Bokeh.index.delete(view)\n",
       "      }\n",
       "    }\n",
       "\n",
       "    const cell = handle.cell;\n",
       "\n",
       "    const id = cell.output_area._bokeh_element_id;\n",
       "    const server_id = cell.output_area._bokeh_server_id;\n",
       "\n",
       "    // Clean up Bokeh references\n",
       "    if (id != null) {\n",
       "      drop(id)\n",
       "    }\n",
       "\n",
       "    if (server_id !== undefined) {\n",
       "      // Clean up Bokeh references\n",
       "      const cmd_clean = \"from bokeh.io.state import curstate; print(curstate().uuid_to_server['\" + server_id + \"'].get_sessions()[0].document.roots[0]._id)\";\n",
       "      cell.notebook.kernel.execute(cmd_clean, {\n",
       "        iopub: {\n",
       "          output: function(msg) {\n",
       "            const id = msg.content.text.trim()\n",
       "            drop(id)\n",
       "          }\n",
       "        }\n",
       "      });\n",
       "      // Destroy server and session\n",
       "      const cmd_destroy = \"import bokeh.io.notebook as ion; ion.destroy_server('\" + server_id + \"')\";\n",
       "      cell.notebook.kernel.execute(cmd_destroy);\n",
       "    }\n",
       "  }\n",
       "\n",
       "  /**\n",
       "   * Handle when a new output is added\n",
       "   */\n",
       "  function handleAddOutput(event, handle) {\n",
       "    const output_area = handle.output_area;\n",
       "    const output = handle.output;\n",
       "\n",
       "    // limit handleAddOutput to display_data with EXEC_MIME_TYPE content only\n",
       "    if ((output.output_type != \"display_data\") || (!Object.prototype.hasOwnProperty.call(output.data, EXEC_MIME_TYPE))) {\n",
       "      return\n",
       "    }\n",
       "\n",
       "    const toinsert = output_area.element.find(\".\" + CLASS_NAME.split(' ')[0]);\n",
       "\n",
       "    if (output.metadata[EXEC_MIME_TYPE][\"id\"] !== undefined) {\n",
       "      toinsert[toinsert.length - 1].firstChild.textContent = output.data[JS_MIME_TYPE];\n",
       "      // store reference to embed id on output_area\n",
       "      output_area._bokeh_element_id = output.metadata[EXEC_MIME_TYPE][\"id\"];\n",
       "    }\n",
       "    if (output.metadata[EXEC_MIME_TYPE][\"server_id\"] !== undefined) {\n",
       "      const bk_div = document.createElement(\"div\");\n",
       "      bk_div.innerHTML = output.data[HTML_MIME_TYPE];\n",
       "      const script_attrs = bk_div.children[0].attributes;\n",
       "      for (let i = 0; i < script_attrs.length; i++) {\n",
       "        toinsert[toinsert.length - 1].firstChild.setAttribute(script_attrs[i].name, script_attrs[i].value);\n",
       "        toinsert[toinsert.length - 1].firstChild.textContent = bk_div.children[0].textContent\n",
       "      }\n",
       "      // store reference to server id on output_area\n",
       "      output_area._bokeh_server_id = output.metadata[EXEC_MIME_TYPE][\"server_id\"];\n",
       "    }\n",
       "  }\n",
       "\n",
       "  function register_renderer(events, OutputArea) {\n",
       "\n",
       "    function append_mime(data, metadata, element) {\n",
       "      // create a DOM node to render to\n",
       "      const toinsert = this.create_output_subarea(\n",
       "        metadata,\n",
       "        CLASS_NAME,\n",
       "        EXEC_MIME_TYPE\n",
       "      );\n",
       "      this.keyboard_manager.register_events(toinsert);\n",
       "      // Render to node\n",
       "      const props = {data: data, metadata: metadata[EXEC_MIME_TYPE]};\n",
       "      render(props, toinsert[toinsert.length - 1]);\n",
       "      element.append(toinsert);\n",
       "      return toinsert\n",
       "    }\n",
       "\n",
       "    /* Handle when an output is cleared or removed */\n",
       "    events.on('clear_output.CodeCell', handleClearOutput);\n",
       "    events.on('delete.Cell', handleClearOutput);\n",
       "\n",
       "    /* Handle when a new output is added */\n",
       "    events.on('output_added.OutputArea', handleAddOutput);\n",
       "\n",
       "    /**\n",
       "     * Register the mime type and append_mime function with output_area\n",
       "     */\n",
       "    OutputArea.prototype.register_mime_type(EXEC_MIME_TYPE, append_mime, {\n",
       "      /* Is output safe? */\n",
       "      safe: true,\n",
       "      /* Index of renderer in `output_area.display_order` */\n",
       "      index: 0\n",
       "    });\n",
       "  }\n",
       "\n",
       "  // register the mime type if in Jupyter Notebook environment and previously unregistered\n",
       "  if (root.Jupyter !== undefined) {\n",
       "    const events = require('base/js/events');\n",
       "    const OutputArea = require('notebook/js/outputarea').OutputArea;\n",
       "\n",
       "    if (OutputArea.prototype.mime_types().indexOf(EXEC_MIME_TYPE) == -1) {\n",
       "      register_renderer(events, OutputArea);\n",
       "    }\n",
       "  }\n",
       "  if (typeof (root._bokeh_timeout) === \"undefined\" || force === true) {\n",
       "    root._bokeh_timeout = Date.now() + 5000;\n",
       "    root._bokeh_failed_load = false;\n",
       "  }\n",
       "\n",
       "  const NB_LOAD_WARNING = {'data': {'text/html':\n",
       "     \"<div style='background-color: #fdd'>\\n\"+\n",
       "     \"<p>\\n\"+\n",
       "     \"BokehJS does not appear to have successfully loaded. If loading BokehJS from CDN, this \\n\"+\n",
       "     \"may be due to a slow or bad network connection. Possible fixes:\\n\"+\n",
       "     \"</p>\\n\"+\n",
       "     \"<ul>\\n\"+\n",
       "     \"<li>re-rerun `output_notebook()` to attempt to load from CDN again, or</li>\\n\"+\n",
       "     \"<li>use INLINE resources instead, as so:</li>\\n\"+\n",
       "     \"</ul>\\n\"+\n",
       "     \"<code>\\n\"+\n",
       "     \"from bokeh.resources import INLINE\\n\"+\n",
       "     \"output_notebook(resources=INLINE)\\n\"+\n",
       "     \"</code>\\n\"+\n",
       "     \"</div>\"}};\n",
       "\n",
       "  function display_loaded() {\n",
       "    const el = document.getElementById(\"f53c55ab-4c24-4baa-a2a8-ff5dcca77470\");\n",
       "    if (el != null) {\n",
       "      el.textContent = \"BokehJS is loading...\";\n",
       "    }\n",
       "    if (root.Bokeh !== undefined) {\n",
       "      if (el != null) {\n",
       "        el.textContent = \"BokehJS \" + root.Bokeh.version + \" successfully loaded.\";\n",
       "      }\n",
       "    } else if (Date.now() < root._bokeh_timeout) {\n",
       "      setTimeout(display_loaded, 100)\n",
       "    }\n",
       "  }\n",
       "\n",
       "  function run_callbacks() {\n",
       "    try {\n",
       "      root._bokeh_onload_callbacks.forEach(function(callback) {\n",
       "        if (callback != null)\n",
       "          callback();\n",
       "      });\n",
       "    } finally {\n",
       "      delete root._bokeh_onload_callbacks\n",
       "    }\n",
       "    console.debug(\"Bokeh: all callbacks have finished\");\n",
       "  }\n",
       "\n",
       "  function load_libs(css_urls, js_urls, callback) {\n",
       "    if (css_urls == null) css_urls = [];\n",
       "    if (js_urls == null) js_urls = [];\n",
       "\n",
       "    root._bokeh_onload_callbacks.push(callback);\n",
       "    if (root._bokeh_is_loading > 0) {\n",
       "      console.debug(\"Bokeh: BokehJS is being loaded, scheduling callback at\", now());\n",
       "      return null;\n",
       "    }\n",
       "    if (js_urls == null || js_urls.length === 0) {\n",
       "      run_callbacks();\n",
       "      return null;\n",
       "    }\n",
       "    console.debug(\"Bokeh: BokehJS not loaded, scheduling load and callback at\", now());\n",
       "    root._bokeh_is_loading = css_urls.length + js_urls.length;\n",
       "\n",
       "    function on_load() {\n",
       "      root._bokeh_is_loading--;\n",
       "      if (root._bokeh_is_loading === 0) {\n",
       "        console.debug(\"Bokeh: all BokehJS libraries/stylesheets loaded\");\n",
       "        run_callbacks()\n",
       "      }\n",
       "    }\n",
       "\n",
       "    function on_error(url) {\n",
       "      console.error(\"failed to load \" + url);\n",
       "    }\n",
       "\n",
       "    for (let i = 0; i < css_urls.length; i++) {\n",
       "      const url = css_urls[i];\n",
       "      const element = document.createElement(\"link\");\n",
       "      element.onload = on_load;\n",
       "      element.onerror = on_error.bind(null, url);\n",
       "      element.rel = \"stylesheet\";\n",
       "      element.type = \"text/css\";\n",
       "      element.href = url;\n",
       "      console.debug(\"Bokeh: injecting link tag for BokehJS stylesheet: \", url);\n",
       "      document.body.appendChild(element);\n",
       "    }\n",
       "\n",
       "    for (let i = 0; i < js_urls.length; i++) {\n",
       "      const url = js_urls[i];\n",
       "      const element = document.createElement('script');\n",
       "      element.onload = on_load;\n",
       "      element.onerror = on_error.bind(null, url);\n",
       "      element.async = false;\n",
       "      element.src = url;\n",
       "      console.debug(\"Bokeh: injecting script tag for BokehJS library: \", url);\n",
       "      document.head.appendChild(element);\n",
       "    }\n",
       "  };\n",
       "\n",
       "  function inject_raw_css(css) {\n",
       "    const element = document.createElement(\"style\");\n",
       "    element.appendChild(document.createTextNode(css));\n",
       "    document.body.appendChild(element);\n",
       "  }\n",
       "\n",
       "  const js_urls = [\"https://cdn.bokeh.org/bokeh/release/bokeh-3.3.4.min.js\", \"https://cdn.bokeh.org/bokeh/release/bokeh-gl-3.3.4.min.js\", \"https://cdn.bokeh.org/bokeh/release/bokeh-widgets-3.3.4.min.js\", \"https://cdn.bokeh.org/bokeh/release/bokeh-tables-3.3.4.min.js\", \"https://cdn.bokeh.org/bokeh/release/bokeh-mathjax-3.3.4.min.js\"];\n",
       "  const css_urls = [];\n",
       "\n",
       "  const inline_js = [    function(Bokeh) {\n",
       "      Bokeh.set_log_level(\"info\");\n",
       "    },\n",
       "function(Bokeh) {\n",
       "    }\n",
       "  ];\n",
       "\n",
       "  function run_inline_js() {\n",
       "    if (root.Bokeh !== undefined || force === true) {\n",
       "          for (let i = 0; i < inline_js.length; i++) {\n",
       "      inline_js[i].call(root, root.Bokeh);\n",
       "    }\n",
       "if (force === true) {\n",
       "        display_loaded();\n",
       "      }} else if (Date.now() < root._bokeh_timeout) {\n",
       "      setTimeout(run_inline_js, 100);\n",
       "    } else if (!root._bokeh_failed_load) {\n",
       "      console.log(\"Bokeh: BokehJS failed to load within specified timeout.\");\n",
       "      root._bokeh_failed_load = true;\n",
       "    } else if (force !== true) {\n",
       "      const cell = $(document.getElementById(\"f53c55ab-4c24-4baa-a2a8-ff5dcca77470\")).parents('.cell').data().cell;\n",
       "      cell.output_area.append_execute_result(NB_LOAD_WARNING)\n",
       "    }\n",
       "  }\n",
       "\n",
       "  if (root._bokeh_is_loading === 0) {\n",
       "    console.debug(\"Bokeh: BokehJS loaded, going straight to plotting\");\n",
       "    run_inline_js();\n",
       "  } else {\n",
       "    load_libs(css_urls, js_urls, function() {\n",
       "      console.debug(\"Bokeh: BokehJS plotting callback run at\", now());\n",
       "      run_inline_js();\n",
       "    });\n",
       "  }\n",
       "}(window));"
      ],
      "application/vnd.bokehjs_load.v0+json": "(function(root) {\n  function now() {\n    return new Date();\n  }\n\n  const force = true;\n\n  if (typeof root._bokeh_onload_callbacks === \"undefined\" || force === true) {\n    root._bokeh_onload_callbacks = [];\n    root._bokeh_is_loading = undefined;\n  }\n\n\n  if (typeof (root._bokeh_timeout) === \"undefined\" || force === true) {\n    root._bokeh_timeout = Date.now() + 5000;\n    root._bokeh_failed_load = false;\n  }\n\n  const NB_LOAD_WARNING = {'data': {'text/html':\n     \"<div style='background-color: #fdd'>\\n\"+\n     \"<p>\\n\"+\n     \"BokehJS does not appear to have successfully loaded. If loading BokehJS from CDN, this \\n\"+\n     \"may be due to a slow or bad network connection. Possible fixes:\\n\"+\n     \"</p>\\n\"+\n     \"<ul>\\n\"+\n     \"<li>re-rerun `output_notebook()` to attempt to load from CDN again, or</li>\\n\"+\n     \"<li>use INLINE resources instead, as so:</li>\\n\"+\n     \"</ul>\\n\"+\n     \"<code>\\n\"+\n     \"from bokeh.resources import INLINE\\n\"+\n     \"output_notebook(resources=INLINE)\\n\"+\n     \"</code>\\n\"+\n     \"</div>\"}};\n\n  function display_loaded() {\n    const el = document.getElementById(\"f53c55ab-4c24-4baa-a2a8-ff5dcca77470\");\n    if (el != null) {\n      el.textContent = \"BokehJS is loading...\";\n    }\n    if (root.Bokeh !== undefined) {\n      if (el != null) {\n        el.textContent = \"BokehJS \" + root.Bokeh.version + \" successfully loaded.\";\n      }\n    } else if (Date.now() < root._bokeh_timeout) {\n      setTimeout(display_loaded, 100)\n    }\n  }\n\n  function run_callbacks() {\n    try {\n      root._bokeh_onload_callbacks.forEach(function(callback) {\n        if (callback != null)\n          callback();\n      });\n    } finally {\n      delete root._bokeh_onload_callbacks\n    }\n    console.debug(\"Bokeh: all callbacks have finished\");\n  }\n\n  function load_libs(css_urls, js_urls, callback) {\n    if (css_urls == null) css_urls = [];\n    if (js_urls == null) js_urls = [];\n\n    root._bokeh_onload_callbacks.push(callback);\n    if (root._bokeh_is_loading > 0) {\n      console.debug(\"Bokeh: BokehJS is being loaded, scheduling callback at\", now());\n      return null;\n    }\n    if (js_urls == null || js_urls.length === 0) {\n      run_callbacks();\n      return null;\n    }\n    console.debug(\"Bokeh: BokehJS not loaded, scheduling load and callback at\", now());\n    root._bokeh_is_loading = css_urls.length + js_urls.length;\n\n    function on_load() {\n      root._bokeh_is_loading--;\n      if (root._bokeh_is_loading === 0) {\n        console.debug(\"Bokeh: all BokehJS libraries/stylesheets loaded\");\n        run_callbacks()\n      }\n    }\n\n    function on_error(url) {\n      console.error(\"failed to load \" + url);\n    }\n\n    for (let i = 0; i < css_urls.length; i++) {\n      const url = css_urls[i];\n      const element = document.createElement(\"link\");\n      element.onload = on_load;\n      element.onerror = on_error.bind(null, url);\n      element.rel = \"stylesheet\";\n      element.type = \"text/css\";\n      element.href = url;\n      console.debug(\"Bokeh: injecting link tag for BokehJS stylesheet: \", url);\n      document.body.appendChild(element);\n    }\n\n    for (let i = 0; i < js_urls.length; i++) {\n      const url = js_urls[i];\n      const element = document.createElement('script');\n      element.onload = on_load;\n      element.onerror = on_error.bind(null, url);\n      element.async = false;\n      element.src = url;\n      console.debug(\"Bokeh: injecting script tag for BokehJS library: \", url);\n      document.head.appendChild(element);\n    }\n  };\n\n  function inject_raw_css(css) {\n    const element = document.createElement(\"style\");\n    element.appendChild(document.createTextNode(css));\n    document.body.appendChild(element);\n  }\n\n  const js_urls = [\"https://cdn.bokeh.org/bokeh/release/bokeh-3.3.4.min.js\", \"https://cdn.bokeh.org/bokeh/release/bokeh-gl-3.3.4.min.js\", \"https://cdn.bokeh.org/bokeh/release/bokeh-widgets-3.3.4.min.js\", \"https://cdn.bokeh.org/bokeh/release/bokeh-tables-3.3.4.min.js\", \"https://cdn.bokeh.org/bokeh/release/bokeh-mathjax-3.3.4.min.js\"];\n  const css_urls = [];\n\n  const inline_js = [    function(Bokeh) {\n      Bokeh.set_log_level(\"info\");\n    },\nfunction(Bokeh) {\n    }\n  ];\n\n  function run_inline_js() {\n    if (root.Bokeh !== undefined || force === true) {\n          for (let i = 0; i < inline_js.length; i++) {\n      inline_js[i].call(root, root.Bokeh);\n    }\nif (force === true) {\n        display_loaded();\n      }} else if (Date.now() < root._bokeh_timeout) {\n      setTimeout(run_inline_js, 100);\n    } else if (!root._bokeh_failed_load) {\n      console.log(\"Bokeh: BokehJS failed to load within specified timeout.\");\n      root._bokeh_failed_load = true;\n    } else if (force !== true) {\n      const cell = $(document.getElementById(\"f53c55ab-4c24-4baa-a2a8-ff5dcca77470\")).parents('.cell').data().cell;\n      cell.output_area.append_execute_result(NB_LOAD_WARNING)\n    }\n  }\n\n  if (root._bokeh_is_loading === 0) {\n    console.debug(\"Bokeh: BokehJS loaded, going straight to plotting\");\n    run_inline_js();\n  } else {\n    load_libs(css_urls, js_urls, function() {\n      console.debug(\"Bokeh: BokehJS plotting callback run at\", now());\n      run_inline_js();\n    });\n  }\n}(window));"
     },
     "metadata": {},
     "output_type": "display_data"
    }
   ],
   "source": [
    "# Load some needed Python stuff\n",
    "from plot_fluxnet import fluxplot, var_names, units, sites, var_avail, aggr_units"
   ]
  },
  {
   "cell_type": "markdown",
   "metadata": {
    "deletable": false,
    "editable": false,
    "heading_collapsed": true
   },
   "source": [
    "Now enter the following command: `print(var_names)` in the cell below and press __Shift+Enter__ in the cell to get the names of the available variables."
   ]
  },
  {
   "cell_type": "code",
   "execution_count": null,
   "metadata": {
    "hidden": true
   },
   "outputs": [],
   "source": [
    "print(var_names)"
   ]
  },
  {
   "cell_type": "markdown",
   "metadata": {
    "deletable": false,
    "editable": false,
    "hidden": true
   },
   "source": [
    "If all went well the outcome should look like:\n",
    "\n",
    "`dict_keys(['timestamp', 'hour', 'month', 'year', 'T_a', 'K_in', 'K_out', 'L_in', 'L_out', 'PAR', 'Q*', 'VPD', 'RH', 'precipitation', 'u*', 'u_speed', 'LE', 'H', '[CO2]', 'NEE', 'Reco', 'GPP', 'albedo', 'EF', 'bowen', 'DOY', 'LE_Makkink'])`\n",
    "\n",
    "These are the names that you can use to access the different variables in the dataset. \n",
    "\n",
    "Now also try to find out what are the available sites: type `print(sites)` in the notebook cell above."
   ]
  },
  {
   "cell_type": "markdown",
   "metadata": {
    "deletable": false,
    "editable": false,
    "heading_collapsed": true
   },
   "source": [
    "### Your first plot"
   ]
  },
  {
   "cell_type": "markdown",
   "metadata": {
    "deletable": false,
    "editable": false,
    "hidden": true
   },
   "source": [
    "Now let's make a first plot. Simply enter: fluxplot() in the cell below and press Shift+Enter "
   ]
  },
  {
   "cell_type": "code",
   "execution_count": 3,
   "metadata": {
    "deletable": false,
    "heading_collapsed": true
   },
   "outputs": [
    {
     "name": "stdout",
     "output_type": "stream",
     "text": [
      "dict_keys(['timestamp', 'hour', 'month', 'year', 'T_a', 'K_in', 'K_out', 'L_in', 'L_out', 'PAR', 'Q*', 'VPD', 'RH', 'precipitation', 'u*', 'u_speed', 'LE', 'H', '[CO2]', 'NEE', 'Reco', 'GPP', 'albedo', 'EF', 'bowen', 'DOY', 'LE_Makkink'])\n",
      "PAR [          nan           nan           nan           nan           nan\n",
      "           nan           nan           nan           nan           nan\n",
      "           nan           nan           nan           nan           nan\n",
      "           nan           nan           nan           nan           nan\n",
      "           nan           nan           nan           nan           nan\n",
      "           nan           nan           nan           nan           nan\n",
      "           nan           nan           nan           nan           nan\n",
      "           nan           nan           nan           nan           nan\n",
      "           nan           nan           nan           nan           nan\n",
      "           nan           nan           nan           nan           nan\n",
      "           nan           nan           nan           nan           nan\n",
      "           nan           nan           nan           nan           nan\n",
      "           nan           nan           nan           nan           nan\n",
      "           nan           nan           nan           nan           nan\n",
      "           nan           nan           nan           nan           nan\n",
      "           nan           nan           nan           nan           nan\n",
      "           nan           nan           nan           nan           nan\n",
      "           nan           nan           nan           nan           nan\n",
      "           nan           nan           nan           nan           nan\n",
      "           nan           nan           nan           nan           nan\n",
      "           nan           nan           nan           nan           nan\n",
      "           nan           nan           nan           nan           nan\n",
      "           nan           nan           nan           nan           nan\n",
      "           nan           nan           nan           nan           nan\n",
      "           nan           nan           nan           nan           nan\n",
      "           nan           nan           nan           nan           nan\n",
      "           nan           nan           nan           nan           nan\n",
      "           nan           nan           nan           nan           nan\n",
      "           nan           nan           nan           nan           nan\n",
      "           nan           nan           nan           nan           nan\n",
      "           nan           nan           nan           nan           nan\n",
      "           nan           nan           nan           nan           nan\n",
      "           nan           nan           nan           nan           nan\n",
      "           nan           nan           nan           nan           nan\n",
      "           nan           nan           nan           nan           nan\n",
      "           nan           nan           nan           nan           nan\n",
      "           nan           nan           nan           nan           nan\n",
      "           nan           nan           nan           nan           nan\n",
      "           nan           nan  640.03846154  530.33333333  610.625\n",
      "  639.54166667  641.04166667  631.625       631.08333333  642.77083333\n",
      "  626.125       628.95833333  638.39583333  595.35416667  401.77083333\n",
      "  514.375       399.35416667  510.41666667  326.77083333  593.4375\n",
      "  352.64583333  318.79166667  508.5         485.39583333  176.625\n",
      "  483.875       523.77083333  269.29166667  196.4375      374.625\n",
      "  561.6875      522.25        263.79166667  291.          348.79166667\n",
      "  394.54166667  470.08333333  528.95833333  549.35416667  547.02083333\n",
      "  534.375       290.125       179.89583333  142.4375      552.4375\n",
      "  324.125       415.58695652  438.47222222  159.125       402.29166667\n",
      "  403.29166667  342.75        380.125       413.8125               nan\n",
      "           nan           nan           nan           nan           nan\n",
      "           nan           nan           nan           nan           nan\n",
      "           nan           nan           nan           nan           nan\n",
      "           nan           nan           nan           nan           nan\n",
      "           nan           nan           nan           nan           nan\n",
      "           nan           nan           nan           nan  202.84782609\n",
      "  239.22916667  325.79166667  150.4375      258.33333333  228.02083333\n",
      "  327.66666667  231.08333333  144.          212.54166667  314.45833333\n",
      "  284.08333333  276.          108.64583333  266.41860465  240.22727273\n",
      "  328.52941177  180.60416667  224.875       243.83333333  244.47916667\n",
      "  204.45833333  267.4375      228.54166667  103.25        159.52083333\n",
      "  195.35416667  101.          170.20833333  228.16666667  241.48888889\n",
      "  168.21212121  151.52272727  118.39583333  127.4375      180.41666667\n",
      "   54.58333333   74.45833333  171.60416667  166.54166667   45.75\n",
      "  132.77083333  105.04166667   67.83333333  160.02083333   94.3125\n",
      "  165.70833333   21.3125      119.           33.87234043   98.15217391\n",
      "   63.11904762  161.64583333  133.89583333  124.9375       17.4375\n",
      "   86.625        47.41304348   77.10416667   62.77083333   32.66666667\n",
      "   57.60416667  118.16666667  159.16666667   24.20833333   30.70833333\n",
      "  106.70833333   44.23404255           nan           nan           nan\n",
      "           nan           nan           nan           nan           nan\n",
      "           nan           nan           nan           nan           nan\n",
      "           nan           nan           nan           nan           nan\n",
      "           nan           nan           nan           nan           nan\n",
      "           nan  298.88                 nan   36.97826087   12.58333333\n",
      "  161.35        145.81578947           nan  229.5483871   135.20588235\n",
      "           nan  117.1                  nan           nan           nan\n",
      "           nan           nan  102.15384615  134.61538462  211.65384615\n",
      "  126.06896552  133.75        315.125        67.37209302   72.62162162\n",
      "   44.02702703  175.625        42.58333333  267.27586207           nan\n",
      "           nan           nan  131.0212766    67.97916667  223.64583333\n",
      "  127.5         133.47916667  255.125       211.20833333  257.97916667\n",
      "  254.02083333  214.0625      131.83333333  158.20833333  192.39583333\n",
      "  108.10416667  182.54761905  268.91489362  262.82608696  128.45833333\n",
      "  284.1875      213.5625      175.02083333  266.81818182  125.27083333\n",
      "  145.4375      241.9375      197.02272727  244.92682927  375.97058823\n",
      "           nan           nan           nan           nan           nan\n",
      "           nan           nan           nan           nan           nan\n",
      "           nan           nan           nan           nan           nan\n",
      "           nan           nan           nan           nan           nan\n",
      "  790.12        831.48                 nan           nan  542.88\n",
      "           nan  864.2         532.48        917.12        937.36\n",
      "  953.76        939.52        917.88        912.72        909.19230769\n",
      "  947.76923077  969.23076923  919.84615385  781.69230769  928.34615385\n",
      "  926.66666667  926.55555556  940.18518519  958.48148148  952.18518519\n",
      "  960.22222222  985.55555556  976.62962963  711.71428571  341.11111111\n",
      "  893.          974.53571429  953.75        923.25        982.03571429\n",
      "  900.57142857  329.44444444  387.71428571  204.11111111  683.88888889\n",
      "  844.39285714 1073.96428571 1063.17857143  714.25        937.82758621\n",
      "  661.          642.4137931   499.65517241  559.71428571  788.10344828\n",
      "  588.20689655  384.68965517  517.06666667  409.48275862  510.\n",
      "  832.13793103  676.31034483  541.96666667  849.24137931  955.93103448\n",
      " 1016.7         809.63333333  716.67741935  874.4         842.\n",
      "  580.3        1024.93333333  962.93548387 1028.32258065  979.\n",
      "  989.7         610.06666667  202.73333333 1048.5        1054.66666667\n",
      "  352.93333333  772.93103448 1051.4         949.51612903  954.375\n",
      "  888.25        506.4        1019.125       703.90322581  554.93548387\n",
      "  884.67741935  900.4375      442.84375     791.96774194  777.84375\n",
      "  855.40625     748.10344828  234.5         728.62068965  641.5\n",
      "  689.94117647  583.93103448  446.9         538.75862069  549.20689655\n",
      "  265.51724138  597.96774194  905.9         476.          908.51612903\n",
      "  591.62068965  635.41935484  876.35483871  917.25806452  911.35135135\n",
      "  440.19047619  665.03448276  738.53333333  860.9         525.20689655\n",
      "  907.96666667  907.67857143  502.63333333  809.89655172  759.96774194\n",
      "  552.67741935  895.16666667  991.93333333  607.53333333  996.13793103\n",
      "  931.8         454.72413793  425.5         688.          946.2\n",
      "  849.60714286  933.4137931   947.72413793 1016.10344828 1043.20689655\n",
      " 1028.34482759  779.42307692  228.51851852  402.71428571  797.96551724\n",
      "  992.35714286 1052.14814815  613.03571429  610.89285714  960.10344828\n",
      "  697.55172414  948.89655172  747.82142857  819.60714286  637.25\n",
      "  647.82142857  795.07142857  977.07407407  906.64285714  937.53571429\n",
      "  929.67857143  865.          472.62962963  859.23076923  194.03703704\n",
      "  522.34615385  703.81481481  956.51851852  733.03225806   90.11111111\n",
      "  749.11111111  703.47222222  526.83333333  503.10416667  308.60416667\n",
      "  508.33333333  507.35416667  503.58333333  479.52083333  470.6875\n",
      "   83.89583333  329.72916667  363.89583333  467.35416667  443.625\n",
      "  449.20833333  451.125       433.60416667  293.54166667  256.91666667\n",
      "  255.5625      387.9375      399.22916667  327.9375      393.125\n",
      "  351.58333333  383.375       373.6875      387.04166667  387.25\n",
      "  377.375       380.625       380.75        357.97916667  130.8125\n",
      "  230.52083333  344.91666667  180.77083333   64.97916667   89.04166667\n",
      "  162.85416667  219.89583333  289.1875       77.35416667  250.58333333\n",
      "  197.21951219  251.77272727   88.02083333  180.14583333  200.58333333\n",
      "  116.125       201.72916667  185.08333333  276.33333333  273.79166667\n",
      "  267.70833333  259.14583333  247.6875      248.60416667  230.95833333\n",
      "  229.33333333  184.625       174.45833333   59.02083333  124.20833333\n",
      "   39.97916667  196.02083333  138.64583333   83.875       115.91666667\n",
      "   39.14583333   61.66666667  154.1875       81.375       152.14583333\n",
      "  165.83333333  121.45833333   32.27083333  132.04166667  113.58333333\n",
      "   71.8125      110.0625      171.27083333   99.97916667  147.04166667\n",
      "  104.60416667  118.375        91.27083333   40.10416667   96.0625\n",
      "   30.27083333   93.125       154.08333333  132.27083333   89.79166667\n",
      "  147.60416667  129.16666667   93.875        93.97916667   29.6875\n",
      "   40.14583333  128.          114.45833333  109.47916667  121.8125\n",
      "   17.39583333   51.5625       47.02083333  106.53191489   60.77083333\n",
      "   75.1875       55.04166667  101.34042553   88.66666667   95.91666667\n",
      "   92.875        84.8125       97.54166667  143.41666667   41.375\n",
      "   28.47916667  129.9375       65.60416667   74.97916667   99.20833333\n",
      "  100.91666667  117.22916667  132.125       160.625       153.79166667\n",
      "  156.83333333  102.25        110.04166667  105.4375      134.5\n",
      "   90.72916667  105.85416667  170.1875       38.625        85.69565217\n",
      "  181.35416667  178.02083333  180.02083333  183.58333333  181.3125\n",
      "  102.04166667  120.          179.1875      193.02083333  199.47916667\n",
      "  175.64583333  197.39583333  202.8125       54.16666667  131.70833333\n",
      "  222.0625      207.          220.22916667  120.41666667  227.27083333\n",
      "  245.47916667  243.54166667  249.625       216.3125      264.35416667\n",
      "  269.33333333  269.91666667  139.6875      281.3125      255.41666667\n",
      "  210.9375      219.66666667   49.95833333  158.27083333  274.95833333\n",
      "  140.10416667  104.45833333  243.22222222   72.89583333  148.72916667\n",
      "  209.72916667  217.08333333  268.125       106.5         282.04347826\n",
      "  365.14583333   76.9375      100.95833333  257.08333333  306.70833333\n",
      "  247.5         256.          405.77083333  201.97916667  350.97916667\n",
      "  372.47916667  404.8125      394.91666667  408.375       431.83333333\n",
      "  433.5         442.1875      443.125       396.89583333  394.66666667\n",
      "  447.58333333  463.85416667  295.27083333  192.75        136.3125\n",
      "  402.29166667  393.41666667  159.64583333  217.83333333  441.9375\n",
      "  337.16666667  249.45833333  377.20833333  275.29166667  209.25\n",
      "  350.20833333  223.35416667  298.04166667  434.45833333  382.04166667\n",
      "  260.5625      225.66666667  333.97916667  397.          449.89583333\n",
      "  280.91666667  513.1875      462.3125      412.77083333  273.875\n",
      "  372.27083333  114.29166667  421.64583333  463.95833333  318.97916667\n",
      "  284.5         306.25        173.16666667  218.25        262.10416667\n",
      "  490.625       262.27083333  657.9375      582.9375      649.27083333\n",
      "  535.95833333  512.875       502.29166667  613.125       640.8125\n",
      "  397.08333333  590.33333333  662.375       690.77083333  621.27083333\n",
      "  592.35416667  613.97916667  478.33333333  637.45833333  439.89583333\n",
      "  453.35416667  433.77083333  330.02083333  551.54166667  478.83333333\n",
      "  370.04166667  522.04166667  348.52083333  556.64583333  691.04166667\n",
      "  556.29166667  540.47916667  308.16666667  571.35416667  554.21276596\n",
      "  724.3125               nan           nan           nan           nan\n",
      "           nan           nan  570.20833333  703.45833333  695.27083333\n",
      "  717.95833333  705.29166667  410.9375      497.52083333  665.39583333\n",
      "  677.10416667  186.72916667  427.06382979  347.29166667  496.375\n",
      "  615.25        576.13333333  368.5266575   589.57603208  521.87512708\n",
      "  497.49974583  652.50115208  682.65660208  295.149125    489.71925208\n",
      "  245.70173125  268.44536875  511.06421489  652.55513958  217.99482708\n",
      "  572.07291458  565.24432917  383.24691667  513.81410425  529.22665208\n",
      "  582.92864375  591.12097083  611.10006808  640.06402083  636.0758625\n",
      "  438.17998125  416.57705319  401.89822708  472.17168125  391.16736042\n",
      "  541.92819792  268.80571875  372.16766042  464.8776625   411.70867021\n",
      "  468.10339167  367.49858958  609.96507708  622.75001667  621.36862917\n",
      "  593.70988125  508.15908125  542.99768958  505.676475    291.52535208\n",
      "  531.04646042  564.49936667  295.97408333  543.52388958  540.01781875\n",
      "  538.45039167  537.80199167  447.09977292  465.55832917  250.53659375\n",
      "  274.16535625  235.79331875  342.56014054           nan  529.79377917\n",
      "  525.11636042  518.25347292  473.44098333  392.202075    266.28523542\n",
      "  290.78661667  441.60411194  111.95156092  395.81184705  482.12693835\n",
      "  241.61321004  252.93388155  460.44388983  209.53225399  147.15451245\n",
      "  134.88892698  330.44600855  341.62352232  285.09442301  289.74024505\n",
      "  366.18806038  434.60464583  431.6066875   424.16389583  407.87845833\n",
      "  352.12325     264.55060417  269.49689583  299.00166667  300.9040625 ]\n"
     ]
    },
    {
     "data": {
      "text/html": [
       "\n",
       "  <div id=\"ef326511-7be3-4b2d-b4ba-abb05b570d10\" data-root-id=\"p1048\" style=\"display: contents;\"></div>\n"
      ]
     },
     "metadata": {},
     "output_type": "display_data"
    },
    {
     "data": {
      "application/javascript": [
       "(function(root) {\n",
       "  function embed_document(root) {\n",
       "  const docs_json = {\"476d0a11-8e8d-43b2-b0ac-1e4f7816b6a1\":{\"version\":\"3.3.4\",\"title\":\"Bokeh Application\",\"roots\":[{\"type\":\"object\",\"name\":\"Figure\",\"id\":\"p1048\",\"attributes\":{\"width\":900,\"height\":500,\"x_range\":{\"type\":\"object\",\"name\":\"Range1d\",\"id\":\"p1058\",\"attributes\":{\"start\":{\"type\":\"number\",\"value\":\"nan\"},\"end\":{\"type\":\"number\",\"value\":\"nan\"}}},\"y_range\":{\"type\":\"object\",\"name\":\"Range1d\",\"id\":\"p1059\",\"attributes\":{\"start\":{\"type\":\"number\",\"value\":\"nan\"},\"end\":{\"type\":\"number\",\"value\":\"nan\"}}},\"x_scale\":{\"type\":\"object\",\"name\":\"LinearScale\",\"id\":\"p1060\"},\"y_scale\":{\"type\":\"object\",\"name\":\"LinearScale\",\"id\":\"p1061\"},\"title\":{\"type\":\"object\",\"name\":\"Title\",\"id\":\"p1051\",\"attributes\":{\"text\":\"LeBray (averaging: day)\"}},\"renderers\":[{\"type\":\"object\",\"name\":\"GlyphRenderer\",\"id\":\"p1090\",\"attributes\":{\"data_source\":{\"type\":\"object\",\"name\":\"ColumnDataSource\",\"id\":\"p1081\",\"attributes\":{\"selected\":{\"type\":\"object\",\"name\":\"Selection\",\"id\":\"p1082\",\"attributes\":{\"indices\":[],\"line_indices\":[]}},\"selection_policy\":{\"type\":\"object\",\"name\":\"UnionRenderers\",\"id\":\"p1083\"},\"data\":{\"type\":\"map\",\"entries\":[[\"x_values\",{\"type\":\"ndarray\",\"array\":{\"type\":\"bytes\",\"data\":\"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\"},\"shape\":[4749],\"dtype\":\"float64\",\"order\":\"little\"}],[\"y_values\",{\"type\":\"ndarray\",\"array\":{\"type\":\"bytes\",\"data\":\"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\"},\"shape\":[4749],\"dtype\":\"float64\",\"order\":\"little\"}]]}}},\"view\":{\"type\":\"object\",\"name\":\"CDSView\",\"id\":\"p1091\",\"attributes\":{\"filter\":{\"type\":\"object\",\"name\":\"AllIndices\",\"id\":\"p1092\"}}},\"glyph\":{\"type\":\"object\",\"name\":\"Scatter\",\"id\":\"p1087\",\"attributes\":{\"x\":{\"type\":\"field\",\"field\":\"x_values\"},\"y\":{\"type\":\"field\",\"field\":\"y_values\"},\"line_color\":{\"type\":\"value\",\"value\":null},\"fill_color\":{\"type\":\"value\",\"value\":\"black\"}}},\"nonselection_glyph\":{\"type\":\"object\",\"name\":\"Scatter\",\"id\":\"p1088\",\"attributes\":{\"x\":{\"type\":\"field\",\"field\":\"x_values\"},\"y\":{\"type\":\"field\",\"field\":\"y_values\"},\"line_color\":{\"type\":\"value\",\"value\":null},\"line_alpha\":{\"type\":\"value\",\"value\":0.1},\"fill_color\":{\"type\":\"value\",\"value\":\"black\"},\"fill_alpha\":{\"type\":\"value\",\"value\":0.1},\"hatch_alpha\":{\"type\":\"value\",\"value\":0.1}}},\"muted_glyph\":{\"type\":\"object\",\"name\":\"Scatter\",\"id\":\"p1089\",\"attributes\":{\"x\":{\"type\":\"field\",\"field\":\"x_values\"},\"y\":{\"type\":\"field\",\"field\":\"y_values\"},\"line_color\":{\"type\":\"value\",\"value\":null},\"line_alpha\":{\"type\":\"value\",\"value\":0.2},\"fill_color\":{\"type\":\"value\",\"value\":\"black\"},\"fill_alpha\":{\"type\":\"value\",\"value\":0.2},\"hatch_alpha\":{\"type\":\"value\",\"value\":0.2}}}}}],\"toolbar\":{\"type\":\"object\",\"name\":\"Toolbar\",\"id\":\"p1057\",\"attributes\":{\"tools\":[{\"type\":\"object\",\"name\":\"BoxZoomTool\",\"id\":\"p1072\",\"attributes\":{\"overlay\":{\"type\":\"object\",\"name\":\"BoxAnnotation\",\"id\":\"p1073\",\"attributes\":{\"syncable\":false,\"level\":\"overlay\",\"visible\":false,\"left\":{\"type\":\"number\",\"value\":\"nan\"},\"right\":{\"type\":\"number\",\"value\":\"nan\"},\"top\":{\"type\":\"number\",\"value\":\"nan\"},\"bottom\":{\"type\":\"number\",\"value\":\"nan\"},\"left_units\":\"canvas\",\"right_units\":\"canvas\",\"top_units\":\"canvas\",\"bottom_units\":\"canvas\",\"line_color\":\"black\",\"line_alpha\":1.0,\"line_width\":2,\"line_dash\":[4,4],\"fill_color\":\"lightgrey\",\"fill_alpha\":0.5}}}},{\"type\":\"object\",\"name\":\"SaveTool\",\"id\":\"p1078\"},{\"type\":\"object\",\"name\":\"PanTool\",\"id\":\"p1079\"},{\"type\":\"object\",\"name\":\"ResetTool\",\"id\":\"p1080\"}],\"active_drag\":null}},\"toolbar_location\":\"below\",\"toolbar_sticky\":false,\"left\":[{\"type\":\"object\",\"name\":\"LinearAxis\",\"id\":\"p1067\",\"attributes\":{\"ticker\":{\"type\":\"object\",\"name\":\"BasicTicker\",\"id\":\"p1068\",\"attributes\":{\"mantissas\":[1,2,5]}},\"formatter\":{\"type\":\"object\",\"name\":\"BasicTickFormatter\",\"id\":\"p1069\"},\"axis_label\":\"PAR (\\u00b5molPhoton m-2 s-1)\",\"major_label_policy\":{\"type\":\"object\",\"name\":\"AllLabels\",\"id\":\"p1070\"}}}],\"below\":[{\"type\":\"object\",\"name\":\"LinearAxis\",\"id\":\"p1062\",\"attributes\":{\"ticker\":{\"type\":\"object\",\"name\":\"BasicTicker\",\"id\":\"p1063\",\"attributes\":{\"mantissas\":[1,2,5]}},\"formatter\":{\"type\":\"object\",\"name\":\"BasicTickFormatter\",\"id\":\"p1064\"},\"axis_label\":\"PAR (\\u00b5molPhoton m-2 s-1)\",\"major_label_policy\":{\"type\":\"object\",\"name\":\"AllLabels\",\"id\":\"p1065\"}}}],\"center\":[{\"type\":\"object\",\"name\":\"Grid\",\"id\":\"p1066\",\"attributes\":{\"axis\":{\"id\":\"p1062\"}}},{\"type\":\"object\",\"name\":\"Grid\",\"id\":\"p1071\",\"attributes\":{\"dimension\":1,\"axis\":{\"id\":\"p1067\"}}}]}}]}};\n",
       "  const render_items = [{\"docid\":\"476d0a11-8e8d-43b2-b0ac-1e4f7816b6a1\",\"roots\":{\"p1048\":\"ef326511-7be3-4b2d-b4ba-abb05b570d10\"},\"root_ids\":[\"p1048\"]}];\n",
       "  root.Bokeh.embed.embed_items_notebook(docs_json, render_items);\n",
       "  }\n",
       "  if (root.Bokeh !== undefined) {\n",
       "    embed_document(root);\n",
       "  } else {\n",
       "    let attempts = 0;\n",
       "    const timer = setInterval(function(root) {\n",
       "      if (root.Bokeh !== undefined) {\n",
       "        clearInterval(timer);\n",
       "        embed_document(root);\n",
       "      } else {\n",
       "        attempts++;\n",
       "        if (attempts > 100) {\n",
       "          clearInterval(timer);\n",
       "          console.log(\"Bokeh: ERROR: Unable to run BokehJS code because BokehJS library is missing\");\n",
       "        }\n",
       "      }\n",
       "    }, 10, root)\n",
       "  }\n",
       "})(window);"
      ],
      "application/vnd.bokehjs_exec.v0+json": ""
     },
     "metadata": {
      "application/vnd.bokehjs_exec.v0+json": {
       "id": "p1048"
      }
     },
     "output_type": "display_data"
    }
   ],
   "source": [
    "print(var_names)\n",
    "fluxplot(x_var='PAR',y_var='PAR',averaging=\"day\",site=\"LeBray\")"
   ]
  },
  {
   "cell_type": "markdown",
   "metadata": {
    "deletable": false,
    "editable": false,
    "heading_collapsed": true
   },
   "source": [
    "What you see in the figure above is the timeseries of daily mean temperature for the Loobos. \n",
    "\n",
    "The plots can be refined by a range of following arguments that can be passed to `fluxplot`, listed below.\n",
    "\n",
    "#### What to plot\n",
    "  * `site='site name'`: name of site to plot data from  (example `fluxplot(site='Loobos')`)\n",
    "  * `x_var='var name'`: name of variable to plot on x-axis (example `fluxplot(x_var='K_in')`)\n",
    "  * `y_var='var name'`: name of variable to plot on y-axis (example `fluxplot(y_var='GPP')`)\n",
    "  * `averaging='averaging period'`: averaging period of data (example `fluxplot(averaging='30min')`) (can be `'30min'`, `'day'`, `'month'`)\n",
    "  \n",
    "#### How to plot - relation between x and y variables (fitted line(s))\n",
    "  * `plot_lines=True/False`: plot one or more lines that sketch the relation between the x and y variable; \n",
    "  if `color_by` == True (see below) -> group data by the variable defined by `color_by` and for each group, fit a line  (example `fluxplot(x_var=\"K_in\", y_var=\"GPP\", color_by=\"T_a\", plot_lines=True)`); this results in multiple lines.\n",
    "  if `color_by` has not been set: just plot one line.\n",
    "  * `n_lines=n`: if `plot_lines` == True and `color_by` == True -> number of lines fitted to xy-scatter plot, where the `color_by` variable is used to group the data per fit line (example `fluxplot(x_var=\"K_in\", y_var=\"GPP\", color_by=\"T_a\", plot_lines=True, n_lines=5)`)\n",
    "  * `plot_quant=True/False`: if `plot_lines` == True -> show a band around the plotted line(s), ranging from a given `quantile` to `1 - quantile` \n",
    "  * `quantile=q`: if `plot_lines` == True and `plot_quant` == True -> the quantile that defines the width of the band; q should be between 0 and 0.5; e.g. a value of 0.1 means that the range between 10% and 90% is shaded \n",
    "\n",
    "#### How to plot - relation to a 3rd variable (`color_by`)\n",
    "  * `color_by='var name'`: name of variable to color dots with (example `fluxplot(color_by='air temperature')`)\n",
    "  * `colormap = (\"plasma\", \"viridis\", \"turbo\")`: if `color_by` == True -> select the colormap to be used when you color the points. Options are `plasma` (blue - purple - yellow), `viridis` (purple - green - yellow), `turbo` (red - green - blue)\n",
    "  \n",
    "#### How to plot data - dots/lines, axis limits\n",
    "  * `connect_points=True/False`: connect the points in a scatter plot, mainly relevant when making a time series (example `fluxplot(connect_points=True)`)\n",
    "  * `x_min = value`: set the minimum value for the x-axis (similarly: `x_max`, `y_min`, `y_max`) (example: `fluxplot(y_min = 0.0, y_max = 10.0)`)\n",
    "  * `export_data=True/False`: the the function returns a Pandas dataframe that you can further use for computation, plotting or inspection.\n",
    "\n",
    "Apart from looking at the contents, you can do more with the graph (using the small icons below the graph)\n",
    "  * Zoom (magnifying glass): click in the graph, keep you mouse button down, drag a square and release your mouse).\n",
    "  * Pan (arrows): drag the plot around.\n",
    "  * Save the graph (3rd icon, a floppy disk, quite old-fashioned ;)\n",
    "  * Reset your zoom/pan actions (button with the two round arrows)\n",
    "  \n",
    "To get all information about the plotting command, you can ask for help: `help(fluxplot)`"
   ]
  },
  {
   "cell_type": "markdown",
   "metadata": {
    "deletable": false,
    "editable": false,
    "hidden": true
   },
   "source": [
    "### Intro to the exercises"
   ]
  },
  {
   "cell_type": "markdown",
   "metadata": {
    "deletable": false,
    "editable": false,
    "heading_collapsed": true
   },
   "source": [
    "This practical comes with an **answer sheet**:\n",
    "  * Download it **[here](./Fluxnet-analysis-answer-sheet.docx)**.\n",
    "  * Save it to your computer and use it to gather your answers.\n",
    "  * Submit it through Brightspace at the end of the practical.\n",
    "  \n",
    "When answering the questions, please fill out the answer sheet. Where you find it helpful, you could include a graph that supports your argument."
   ]
  },
  {
   "cell_type": "markdown",
   "metadata": {
    "deletable": false,
    "editable": false,
    "heading_collapsed": true
   },
   "source": [
    "## Part I - Characterization of the climate at the sites"
   ]
  },
  {
   "cell_type": "markdown",
   "metadata": {
    "deletable": false,
    "editable": false,
    "hidden": true
   },
   "source": [
    "### Question 1: Yearly cycle"
   ]
  },
  {
   "cell_type": "markdown",
   "metadata": {
    "deletable": false,
    "editable": false,
    "hidden": true
   },
   "source": [
    "First we will explore the general conditions at the sites. Consider the following variables \n",
    "  * Air temperature\n",
    "  * Relative humidity (RH)\n",
    "  * Vapour pressure deficit (VPD)\n",
    "  * Wind speed\n",
    "  * Precipitation\n",
    "  * CO2 concentration ([CO2])\n",
    "  \n",
    "__Question__: Choose three variables for which you describe the typical yearly cycle. Focus on the variation of the variable between summer and winter: magnitude of yearly variation, when do maxima and minima occur. Furthermore, explore to what extent the characteristics of that yearly cycle differe between the three sites. In this way you get a feel for how the climatology of sites can vary. \n",
    "\n",
    "Hints:\n",
    "  * Make sure that you choose a logical averaging period: `30min`, `day` or `month`. This may vary between variables: some variables are well-defined for every day, whereas for instance rainfall is not meaningful when you consider daily values.\n",
    "  * Consider which time variable to put on the x-axis. E.g. `timestamp` will give you a continues time axis, whereas `DOY` or `month` will plot data from the same date at the same horizontal location (shows the variation through the year).\n",
    "\n",
    "Use the notebook cell below to produce your graphs. You can write multiple plot commands in one cell: all plots will be shown, below each other.\n",
    "\n",
    "To get you started: try `fluxplot(site='Loobos', x_var='DOY', y_var='[CO2]', color_by='year')` or `fluxplot(site='Loobos',x_var='DOY',y_var='[CO2]', color_by='year', plot_lines=True, plot_quant=True, quantile=0.1)`"
   ]
  },
  {
   "cell_type": "code",
   "execution_count": null,
   "metadata": {
    "hidden": true,
    "scrolled": true
   },
   "outputs": [],
   "source": []
  },
  {
   "cell_type": "markdown",
   "metadata": {
    "deletable": false,
    "editable": false,
    "heading_collapsed": true,
    "hidden": true
   },
   "source": [
    "### Question 2: Energy balance terms, typical daytime values"
   ]
  },
  {
   "cell_type": "markdown",
   "metadata": {
    "deletable": false,
    "editable": false,
    "hidden": true
   },
   "source": [
    "Next we will explore how the terms of the surface energy balance vary through the year. \n",
    "\n",
    "__Question__: Determine typical values for __daily mean__ (i.e. 24-hour mean) surface energy balance terms $Q^*$, $H$ and $L_vE$. In the answer sheet we ask for typical 'summer' and 'winter' values. For those, focus on the period in the middle of the given season. Note them down in the answer document. Furthermore, once you collected the values, comment on them: \n",
    " * by comparing summer versus winter\n",
    " * comparing the sites\n",
    " * considering the variation around the mean (how large is the variability as compared tho the typical value that you wrote down in the answer sheet)\n",
    "\n",
    "Hints:\n",
    "  * make sure that you choose the correct averaging period for the given variable\n",
    "  * consider which time variable you would like to put on the x-axis (considering that you want to study the different between summer and winter)\n",
    "\n",
    "Use the notebook cell below to produce your graphs (you can enter multiple plot commands in one cell)."
   ]
  },
  {
   "cell_type": "code",
   "execution_count": null,
   "metadata": {
    "hidden": true
   },
   "outputs": [],
   "source": []
  },
  {
   "cell_type": "markdown",
   "metadata": {
    "deletable": false,
    "editable": false,
    "heading_collapsed": true
   },
   "source": [
    "## Part II - Evapotranspiration"
   ]
  },
  {
   "cell_type": "markdown",
   "metadata": {
    "deletable": false,
    "editable": false,
    "hidden": true
   },
   "source": [
    "### Question 3: Partitioning between $H$ and $L_v E$"
   ]
  },
  {
   "cell_type": "markdown",
   "metadata": {
    "deletable": false,
    "editable": false,
    "hidden": true
   },
   "source": [
    "When considering the surface energy balance, one important aspect is the partitioning of available energy between sensible and latent heat flux. There are various ways to quantify that: \n",
    "  * using the evaporative fraction ($L_v E/(Q^*-G)$)\n",
    "  * using the Bowen ratio ($H/L_v E$)\n",
    "  \n",
    "Both variables are available in the data (as `EF` and `bowen`). \n",
    "\n",
    "__Question__: Describe the partitioning for each surface type and how it varies through the year.\n",
    "\n",
    "Rather than plotting the time series of `EF` or `bowen`, you could also study them by plotting the numerator and denominator of these ratios on the y-axis and x-axis respectively. The slope of the scatter cloud then is in indication of the ratio you consider (e.g.: $H$ on y-axis and $L_v E$ on x-axis: the slope is the Bowen ratio).\n",
    "In that case, you can infer the variation through the yearby colouring the points with the variable `'month'` (and add fit-lines based on that stratification (`plot_lines = True`)\n",
    "\n",
    "Use the notebook cell below to produce your graphs."
   ]
  },
  {
   "cell_type": "code",
   "execution_count": null,
   "metadata": {
    "hidden": true
   },
   "outputs": [],
   "source": []
  },
  {
   "cell_type": "markdown",
   "metadata": {
    "deletable": false,
    "editable": false,
    "hidden": true
   },
   "source": [
    "### Question 4: Crop factors and reference evapotranspiration"
   ]
  },
  {
   "cell_type": "markdown",
   "metadata": {
    "deletable": false,
    "editable": false,
    "hidden": true
   },
   "source": [
    "In practice, estimates of actual evapotranspiration are often based on reference evapotranspiration values in combination with a crop factors. By comparing the actual evapotranspiration to a reference evapotranspiration (here according to Makkink) one could determine the crop factor.\n",
    "\n",
    "__Question__: Compare for each site the actual evapotranspiration to the Makkink reference evapotranspiration (ET_Makkink) and make an estimate of the crop factor that connects the two. Discuss your findings.\n",
    "\n",
    "Hint:\n",
    "\n",
    "* To compare two variables (i.c. actual and reference evapotranspiration), you can use a scatterplot. If both variables have the same magnitude, the slope of the scatter cloud is about 1.\n",
    "* Make a clever choice which of the two you plot on the x-axis and which on the y-axis (such that the slope of the graph equals the crop factor).\n",
    "* The crop factor may vary with  external variables (e.g. temperature, RH, time-of-year, precipitation). Colour your points with external variables of which you think they might affect the crop factor.\n",
    "\n",
    "Use the notebook cell below to produce your graphs."
   ]
  },
  {
   "cell_type": "markdown",
   "metadata": {
    "deletable": false,
    "editable": false,
    "heading_collapsed": true
   },
   "source": [
    "## Part III - Carbon-related fluxes"
   ]
  },
  {
   "cell_type": "markdown",
   "metadata": {
    "deletable": false,
    "editable": false,
    "hidden": true
   },
   "source": [
    "### Question 5: typical yearly cycle of NEE and GPP"
   ]
  },
  {
   "cell_type": "markdown",
   "metadata": {
    "deletable": false,
    "editable": false,
    "hidden": true
   },
   "source": [
    "Here we will consider the carbon-related fluxes. All three sites are vegetated surfaces with vegetation cover through the year.One of the challenges in this type of research is that using the eddy-covariance technique only the the net-ecosystem exchange can be determined (the net-uptake or release of CO2 by the entire ecosystem). \n",
    "\n",
    "However, if we want to understnad how such an ecosystem works we would like to distinguish between the carbon uptake due to photosynthesis (GPP, gross primary production) and soil respiration. In this data set NEE has been decomposed into GPP and respiration (the details of how this was done do not matter now).\n",
    "\n",
    "__Question__: Describe the typical yearly cycle for \n",
    "* NEE (net ecosystem exchange)\n",
    "* GPP (gross primary production, taken positive when CO2 is taken up) \n",
    "* respiration. \n",
    "\n",
    "Consider the variation between summer and winter and compare the magnitude of the fluxes between the three sites. Furthermore, compare for each site the values of GPP, respiration and NEE. Show how NEE is the net effect of GPP (carbon uptake due to photosynthesis) and soil respiration.\n",
    "\n",
    "Hint:\n",
    "  * To focus on the yearly cycle, it is best to combine all years and use 'DOY' for the x-axis.\n",
    "  * Which variables might explain the variation between points for a given DOY? Experiment to find the best explanatory variable.\n",
    "\n",
    "Use the notebook cell below to produce your graphs."
   ]
  },
  {
   "cell_type": "code",
   "execution_count": null,
   "metadata": {
    "hidden": true
   },
   "outputs": [],
   "source": []
  },
  {
   "cell_type": "markdown",
   "metadata": {
    "deletable": false,
    "editable": false,
    "heading_collapsed": true,
    "hidden": true
   },
   "source": [
    "### Question 6: light-response curve (if time permits)"
   ]
  },
  {
   "cell_type": "markdown",
   "metadata": {
    "deletable": false,
    "editable": false,
    "hidden": true
   },
   "source": [
    "Plants perform photosynthesis under the influence of sunlight. One essential characteristic of plants is their light-response curve. This shows the amount of CO2 taken up by the plants per unit amount of intercepted photosynthetically active radiation (or PAR).  The figure below sketches the light response curve on leaf level (from Moene and van Dam (2014), Copyright Cambridge University Press).\n",
    "\n",
    "<img src=\"./light_response_curve.png\" width=\"40%\">\n",
    "\n",
    "Here we cannot determine the light-response curve at leaf level (or even stomatal level), but we can determine it at the level of an entire canopy. Furthermore, we do not have PAR for all sites, so you need to use a variable that comes close.\n",
    "\n",
    "__Question__: Plot for each site the light-response curve (based on __30-minute data__) and determine both the initial light-use efficiency (the slope of the curve at the origin) and the maximum CO2 uptake at maximum light input. \n",
    "\n",
    "Hints:\n",
    " * The data may be a bit messy (in particular to determine the initial slope). Then it helps to focus on the growing season only.\n",
    " * You could focus on the actual growing season e.g. by coloring your points by month or temperature. \n",
    "\n",
    "Use the notebook cell below to produce your graphs."
   ]
  },
  {
   "cell_type": "code",
   "execution_count": null,
   "metadata": {
    "hidden": true
   },
   "outputs": [],
   "source": []
  },
  {
   "cell_type": "markdown",
   "metadata": {
    "deletable": false,
    "editable": false,
    "heading_collapsed": true,
    "hidden": true
   },
   "source": [
    "### Question 7: water-use efficiency (if time permits)"
   ]
  },
  {
   "cell_type": "markdown",
   "metadata": {
    "deletable": false,
    "editable": false,
    "hidden": true
   },
   "source": [
    "While performing photosynthesis, plants also lose water through transpiration (sse figure below, from Moene and van Dam (2014), Copyright Cambridge University Press).  \n",
    "\n",
    "<img src=\"./pathways_CO2_H2O.png\" width=\"40%\">\n",
    "\n",
    "From the observed fluxes we cannot determine which part of the moisture flux is transpiration and which part is soil evaporation or evaporation from interception. So lets us for simplicity assume that all measured evapotranspiration is transpiration. A key variable when comparing assimilation and transpiration is the water-use efficiency: the amount of carbon dioxide take up by the plants per amount water lost by transpiration (here we express that amount of water as an energy flux).\n",
    "\n",
    "\n",
    "__Question__: Plot for each site the relation between transpiration and carbon uptake and determine the WUE both for low fluxes  (where the WUE tends to be largest) and around the maximum flux amounts (where assimilation tends to level off whereas transpiration continues). Compare the sites.\n",
    "\n",
    "Hints:\n",
    "\n",
    "  * The data may be a bit messy (in particular to determine the initial slope). Then it helps to focus on the growing season only.\n",
    "  * You could focus on the actual growing season e.g. by coloring your points by month or temperature.\n",
    "\n",
    "\n",
    "Use the notebook cell below to produce your graphs."
   ]
  },
  {
   "cell_type": "code",
   "execution_count": null,
   "metadata": {
    "hidden": true
   },
   "outputs": [],
   "source": []
  },
  {
   "cell_type": "markdown",
   "metadata": {
    "deletable": false,
    "editable": false,
    "heading_collapsed": true
   },
   "source": [
    "## Wrap-up"
   ]
  },
  {
   "cell_type": "markdown",
   "metadata": {
    "deletable": false,
    "editable": false,
    "hidden": true
   },
   "source": [
    "You have now completed the exercise. Complete your answer document and submit it on Brightspace.\n",
    "\n",
    "Your notebook will remain on CoCalc.com. However, if you want to easily reference it later on your own computer, you can download it as follows.\n",
    "\n",
    "### 1. Go to the file menu\n",
    "<img src=\"./notebook_file_menu.png\" width=\"60%\">\n",
    "\n",
    "### 2. Select 'Download as'\n",
    "<img src=\"./notebook_download_as.png\" width=\"20%\">\n",
    "\n",
    "### 2. Select the file type you want\n",
    "  * HTML: you can view the contents of your notebook but you cannot edit it\n",
    "  * (PDF: this does not work at the moment, unfortunately)\n",
    "  * Notebook (\\*.ipynb): you can continue to use the notebook. For this you need to instal Python and [Jupyter](https://jupyter.org/install) on your computer. The easiest way to do that is to use [Miniconda](https://docs.conda.io/en/latest/miniconda.html)\n",
    "  \n",
    "<img src=\"./notebook_download_as.png\" width=\"20%\">\n",
    "\n"
   ]
  }
 ],
 "metadata": {
  "kernelspec": {
   "display_name": "Python 3 (system-wide)",
   "language": "python",
   "name": "python3"
  },
  "language_info": {
   "codemirror_mode": {
    "name": "ipython",
    "version": 3
   },
   "file_extension": ".py",
   "mimetype": "text/x-python",
   "name": "python",
   "nbconvert_exporter": "python",
   "pygments_lexer": "ipython3",
   "version": "3.10.12"
  },
  "toc": {
   "base_numbering": 1,
   "nav_menu": {
    "height": "337px",
    "width": "233.6px"
   },
   "number_sections": true,
   "sideBar": true,
   "skip_h1_title": true,
   "title_cell": "Table of Contents",
   "title_sidebar": "Contents",
   "toc_cell": false,
   "toc_position": {},
   "toc_section_display": true,
   "toc_window_display": true
  },
  "toc-autonumbering": true,
  "toc-showtags": false
 },
 "nbformat": 4,
 "nbformat_minor": 4
}
