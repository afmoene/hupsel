{
 "cells": [
  {
   "cell_type": "markdown",
   "metadata": {},
   "source": [
    "# Analysis of observed evapotranspiration Hupsel 2016 (step 1)"
   ]
  },
  {
   "cell_type": "markdown",
   "metadata": {},
   "source": [
    "## Intro\n",
    "The exercise of today is a first step in a series of three. The final objective is to determine the actual evapotranspiration of the Hupsel catchment in the first weeks of May 2021.\n",
    "\n",
    "Since we do not have direct observations of the current surface fluxes (either eddy-covariance, lysimeters or through scintillometry) we split the process in two major steps (left and right in the figure below):\n",
    "a. understand how the ET in Hupsel catchment responds to external forcings, based on historical data from Hupsel and elswhere\n",
    "b. use that process understanding to make the best possible estimate of the ET of the Hupsel catchment in the past weeks.\n",
    "\n",
    "The current land-use in the Hupsel catchment can be simplified as a mixture of grass and bare soil (the maize is just emerging). Today we focus on understanding the response of grass ET to external forcings (step 1). Next week we will study bare soil evaporation (step 2). On the Monday in week 4 we will finish step 3 and 4.\n",
    "\n",
    "The concept of reference evapotranspiration is dealt with extensively in the [book used for Atmosphere Vegetation Soil Interactions](https://www-cambridge-org.ezproxy.library.wur.nl/core/books/transport-in-the-atmospherevegetationsoil-continuum/5944F8B7ADAC6409AD4575642431B2DC) (chapter 7 and 8). A summary of the [most essential concepts](reference_ET_concept.pdf) is also available.\n",
    "\n",
    "Collect your answers in the [answer sheet](Actual_ET_1-answer-sheet.docx)."
   ]
  },
  {
   "cell_type": "markdown",
   "metadata": {},
   "source": [
    "<img src=\"analysis-overview.png\" width=\"80%\">"
   ]
  },
  {
   "cell_type": "markdown",
   "metadata": {},
   "source": [
    "## The method\n",
    "The logic of today's practical is that reference ET is supposed to contain all main meteorological drivers of evapotranspiration. By comparing the reference ET with the observed actual ET (based on eddy-covariance measurements) we can find out if there are additional external factors that need to be taken into account. \n",
    "\n",
    "If all relevant information would be contained in reference ET, the crop factor (ET<sub>act</sub> / ET<sub>ref</sub>) would be constant. If it varies in time, that is an indication that additional factors play a role.\n",
    "\n",
    "In the four steps sketched above we will focus on daily mean data (i.e. data that have been averaged over 24 hours)."
   ]
  },
  {
   "cell_type": "markdown",
   "metadata": {},
   "source": [
    "## The data\n",
    "To understand the response of grass ET to external forcings we will make use of flux observations obtained in May 2014. We choose this year since it had a similarly wet spring as the current year as you can see in the graphs below (the read dot indicates where we are now).\n",
    "We will make use of two datasets:\n",
    "* the standard data obtained routinely by KNMI \n",
    "* the additional flux observations made by the WUR chairgroup MAQ in the context of the Hupsel practical"
   ]
  },
  {
   "cell_type": "markdown",
   "metadata": {},
   "source": [
    "<img src=\"precip_deficit_2014_2021.png\" width=\"80%\">"
   ]
  },
  {
   "cell_type": "markdown",
   "metadata": {},
   "source": [
    "## Initialize Python stuff and read the data\n",
    "Please run the cell below by selecting it and pressing Shift+Enter. Or Press the Run button in the toolbar at the top of the screen (with the right pointing triangle)."
   ]
  },
  {
   "cell_type": "code",
   "execution_count": null,
   "metadata": {},
   "outputs": [],
   "source": [
    "# Load some necessary Python modules\n",
    "import pandas as pd # Pandas is a library for data analysis\n",
    "import numpy as np # Numpy is a library for processing multi-dimensional datasets\n",
    "from hupsel_helper import myplot, myreadfile, check_Lv, check_esat, check_s, check_gamma, check_makkink"
   ]
  },
  {
   "cell_type": "markdown",
   "metadata": {},
   "source": [
    "Now read the data from the Excel file."
   ]
  },
  {
   "cell_type": "code",
   "execution_count": null,
   "metadata": {},
   "outputs": [],
   "source": [
    "# File name\n",
    "fname='Hupsel2014_MeteoData.xlsx'\n",
    "\n",
    "# Get the data\n",
    "df = myreadfile(fname)"
   ]
  },
  {
   "cell_type": "markdown",
   "metadata": {},
   "source": [
    "## Explore the data\n",
    "### Information available in the dataframe\n",
    "Before you start making computations with the data it is wise to first explore the data. \n",
    "\n",
    "To show the names of the available variables, type `df.keys()` in the cell below (and run, or press Shift+Enter). Based on the names you can also make the distinction between the two parts of the dataset:\n",
    "* KNMI data: the first range over variables\n",
    "* MAQ data: variables of which the name ends with `_m`. For the current exercise we will only use `LvE_m`.\n",
    "\n",
    "The dataframe also contains information about the units of the variables: type `df.attrs['units']` in the cell below. You can also access the units of an individual variable as follows: `df.attrs['units']['u_10']` should give `[m/s]`. Fainlly, the dataframe also contains a more complete description of the variables: `df.attrs['description']`.\n",
    "\n",
    "### Inspect the data\n",
    "There are a number of ways to inspect the data:\n",
    "* print the full dataframe in a cell (simply type `df` and run the cell)\n",
    "* print a single variable from the dataframe (type for instance `df['K_in']` to show the values of global radiation)\n",
    "* plot the data with the plot command `myplot`\n",
    "\n",
    "The plot command works as follows:\n",
    "* plot one series as a line: `myplot(df,['Date','K_in'])`. So you need to provide the dataframe that contains all the data `df`) and you need to give the names of the variables to be used as `x` and `y` in the plot. The x-name and y-name are given as a list (enclosed in square brackets).\n",
    "* plot two series as lines: `myplot(df,['Date','K_in'], ['Date','K_out_m'])`. The second series is also given as a list, separated from the first list with comma.\n",
    "* plot a series with something other than a line \n",
    "  * `myplot(df,['Date','K_in','-'])`: plot a line\n",
    "  * `myplot(df,['Date','K_in','o'])`: plot dots\n",
    "* you can also plot series without using a dataframe (assume x, y and z are  arrays): `myplot([x,y],[x,z])`\n",
    "       \n",
    "\n",
    "### <span style='background:lightblue'>Question 1</span>\n",
    "Characterize the weather conditions during the period in which the data were gathered. Do this in ver broad terms (do not study individual days, but rather in terms of e.g. 'in the first 5 days the weather was sunny and dry'.\n",
    "Use some of the commands in the cell below. Use this to get an idea of the conditions during the 3 weeks of observations."
   ]
  },
  {
   "cell_type": "code",
   "execution_count": null,
   "metadata": {
    "scrolled": false
   },
   "outputs": [],
   "source": []
  },
  {
   "cell_type": "markdown",
   "metadata": {
    "scrolled": false
   },
   "source": [
    "## Determine the reference evapotranspiration\n",
    "For reasons of simplicuty and robstness, we will use the Makkink equation to determine the reference ET. The essential equations can be found in the [Formularium of Atmosphere-Vegetation-Soil Interacts](Forumularium_AVSI_2021.pdf). \n",
    "\n",
    "###  Define some functions\n",
    "In ordder to determine the reference ET in mm/day a number of ingredients are needed:\n",
    "* L<sub>v</sub> is needed to convert the latent heat flux (in energy flux units into flux in terms of mm/day.\n",
    "* s is the slope of the saturated vapour pressure as a function of temperature\n",
    "* gamma: the psychrometer constant\n",
    "\n",
    "For each of these ingredients you need to construct a function. below we provide the sceleton for these functions. Note that calculations in Python are quite straightforward: +, -, \\*, / and \\*\\* to indicate addition, subtraction, multiplications, division and exponentiation (... to the power ...). For the exponential (exp) we use `np.exp` (the exponent function from the `numpy` library.\n",
    "\n",
    "### <span style='background:lightblue'>Question 2</span>\n",
    "Complete the function skeletons below and check whether they are correct:\n",
    "* edit the function such that the values of the constants and the structure of the equation (following 'result') is correct\n",
    "* check your function with the appropriate check function. For the function `Lv` that would be `check_Lv`. As an argument you pass your own function. So in the cell below the function definition you type `check_Lv(Lv)` and press Shift+Enter."
   ]
  },
  {
   "cell_type": "code",
   "execution_count": null,
   "metadata": {},
   "outputs": [],
   "source": [
    "# Function to compute latent heat of vapourization\n",
    "# The argument T is assumed to be in Kelvin\n",
    "# This function is complete and functioning as an example\n",
    "# See secton 7.1 of the AVSI formularium or table B.3 in Moene & van Dam (2014)\n",
    "def Lv(T):\n",
    "    # Define constants\n",
    "    c1 = 2501000\n",
    "    c2 = 0.00095\n",
    "    c3 = 273.15\n",
    "    \n",
    "    # Compute the result\n",
    "    result =  c1*(1 - c2*(T - c3))\n",
    "    \n",
    "    return result    "
   ]
  },
  {
   "cell_type": "code",
   "execution_count": null,
   "metadata": {},
   "outputs": [],
   "source": [
    "Lv(df['T_1_5']+273)"
   ]
  },
  {
   "cell_type": "code",
   "execution_count": null,
   "metadata": {},
   "outputs": [],
   "source": [
    "# Function to compute saturated vapour pressure in Pa\n",
    "# The argument T is assumed to be in Kelvin\n",
    "# See secton 7.1 of the AVSI formularium or table B.3 in Moene & van Dam (2014)\n",
    "def esat(T):\n",
    "    # Define constants (chaeck the values, the zeros are certainly wrong)\n",
    "    c1 = 611.2\n",
    "    c2 = 0\n",
    "    c3 = 0\n",
    "    c4 = 0\n",
    "      \n",
    "    # Compute the result (the structure of the equation is correct)\n",
    "    result = c1*np.exp((c2*(T-c3))/(-c4+T))\n",
    "    \n",
    "    return result"
   ]
  },
  {
   "cell_type": "code",
   "execution_count": null,
   "metadata": {},
   "outputs": [],
   "source": [
    "check_esat(esat)"
   ]
  },
  {
   "cell_type": "code",
   "execution_count": null,
   "metadata": {
    "scrolled": false
   },
   "outputs": [],
   "source": [
    "# Function to compute slope of the saturated vapour pressure in Pa/K\n",
    "# The argument T is assumed to be in Kelvin\n",
    "# See secton 7.1 of the AVSI formularium or table B.3 in Moene & van Dam (2014)\n",
    "def s(T):\n",
    "    # Define constants (check the values, the zeros are certainly wrong)\n",
    "    c1 = 0\n",
    "    c2 = 0\n",
    "\n",
    "    # Compute the result (complete the formula)\n",
    "    result = esat(T)*0\n",
    "    \n",
    "    # Compute the result (complete the formula)\n",
    "    result = esat(T)*c1/(-c2+T)**2\n",
    "    return result"
   ]
  },
  {
   "cell_type": "code",
   "execution_count": null,
   "metadata": {},
   "outputs": [],
   "source": [
    "check_s(s)"
   ]
  },
  {
   "cell_type": "code",
   "execution_count": null,
   "metadata": {},
   "outputs": [],
   "source": [
    "# Function to compute the psychrometer constant\n",
    "# The arguments are temperature T (in K), pressure p in Pa, specific humidity q in kg/kg\n",
    "# See secton 7.1 of the AVSI formularium or table B.3 in Moene & van Dam (2014)\n",
    "def gamma(T, p, q):\n",
    "    # Define constants (chaeck the values, the zeros are certainly wrong)\n",
    "    c1 = 65.5\n",
    "    c2 = 0\n",
    "    c3 = 0\n",
    "    c4 = 0\n",
    "    c5 = 0\n",
    "\n",
    "    # Compute the result (complete the formula)\n",
    "    # An alternative to implementing the equation given in the formularium would be to implement the \n",
    "    # definition of gamma as given in equation B.23 in Moene & van Dam (2014)\n",
    "    result = c1*0\n",
    "\n",
    "    return result   "
   ]
  },
  {
   "cell_type": "code",
   "execution_count": null,
   "metadata": {
    "scrolled": false
   },
   "outputs": [],
   "source": [
    "check_gamma(gamma)"
   ]
  },
  {
   "cell_type": "code",
   "execution_count": null,
   "metadata": {},
   "outputs": [],
   "source": [
    "# Function to compute reference evapotranspiration according to Makkink\n",
    "# The arguments are global radiation K_in in W/m2, temperature T (in K), pressure p in Pa, specific humidity q in kg/kg\n",
    "# See secton 7.7 of the AVSI formularium or chapter 7 in Moene & van Dam (2014)\n",
    "# Please note what is the unit of the resulting number !\n",
    "def makkink(K_in, T, p, q):\n",
    "    # First compute s and gamma from the data\n",
    "    gamma_data = gamma(T, p, q)\n",
    "    s_data = s(T)\n",
    "    \n",
    "    # Now construct the Makkink equation (i.e. replace the '0' by the correct equation)\n",
    "    # What is the unit?\n",
    "    result  = 0\n",
    "    \n",
    "    return result"
   ]
  },
  {
   "cell_type": "code",
   "execution_count": null,
   "metadata": {
    "scrolled": false
   },
   "outputs": [],
   "source": [
    "# Not yet implemented\n",
    "check_makkink(makkink)"
   ]
  },
  {
   "cell_type": "markdown",
   "metadata": {},
   "source": [
    "## Determine the reference evapotranspiration\n",
    "Now that you have the basic equations ready, it is time to compute reference evaporanspiration for this data set. For this you can use the `makkink` function that you just constructed above. The data that you need to feed that function are contained in the dataframe `df` that we read from the data file. You can obtain each variable from the dataframe by its name, e.g. `df['K_in']`.\n",
    "So you could get the reference ET as: `LvEref = makkink(df['K_in'], ....)` where it is up to you to fill the dots.\n",
    "\n",
    "Alternatively, you could first make separate variables for K_in, T etc. and use those in the function:\n",
    "\n",
    "`K_in = df['K_in']`\n",
    "\n",
    "`T = df['T_1_5']`\n",
    "\n",
    "....\n",
    "\n",
    "`LvEref = makkink(K_in, T, ....)`\n",
    "\n",
    "### <span style='background:lightblue'>Question 3</span>\n",
    "Compute the reference evapotranspiration in mm/day based on the current data set (check what is the unit of the flux you computed with your `makkink` function)."
   ]
  },
  {
   "cell_type": "code",
   "execution_count": null,
   "metadata": {},
   "outputs": [],
   "source": []
  },
  {
   "cell_type": "markdown",
   "metadata": {},
   "source": [
    "## Determine the actual evapotranspiratoin\n",
    "The actual evapotranspiration has been measured using the eddy-covariance technique. It is available in the data set in the variable named `LvE_m`.\n",
    "\n",
    "### <span style='background:lightblue'>Question 4</span>\n",
    "Compute the actual evapotranspiration in mm/day based on the eddy-covariance fluxes."
   ]
  },
  {
   "cell_type": "code",
   "execution_count": null,
   "metadata": {},
   "outputs": [],
   "source": []
  },
  {
   "cell_type": "markdown",
   "metadata": {},
   "source": [
    "## Compare actual and reference evapotranspiration\n",
    "Now that you have both actual and reference evapotranspiration availble, it is time to compare them. The first step would be to plot both in one graph\n",
    "\n",
    "### <span style='background:lightblue'>Question 5</span>\n",
    "How do actual and reference evapotranspiration compare? Are they identical, is there a fixed offset, or is the difference variable over time. If so, can you related those differences to specific conditions?"
   ]
  },
  {
   "cell_type": "code",
   "execution_count": null,
   "metadata": {},
   "outputs": [],
   "source": []
  },
  {
   "cell_type": "markdown",
   "metadata": {},
   "source": [
    "Part of the variability in the actual evapotranspiration is related to variations in meteorological conditions. Those variations are supposed be captured by the reference evapotranspiration. A straightforward way to see to what extent the reference evapotranspiration captures the variability of the actual evapotranspiration is to compute the crop factor (ET<sub>act</sub> / ET<sub>ref</sub>). \n",
    "\n",
    "### <span style='background:lightblue'>Question 6</span>\n",
    "Compute the crop factor for the current data. What is the overall magnitude the crop factor? Is the crop factor constant over time, and if not, can you explain the variations (or at least bring forward a hypothesis)?"
   ]
  },
  {
   "cell_type": "code",
   "execution_count": null,
   "metadata": {
    "scrolled": true
   },
   "outputs": [],
   "source": []
  },
  {
   "cell_type": "markdown",
   "metadata": {},
   "source": [
    "## Conclusion\n",
    "You have made your first step to come to an estimation of the actual evapotranspiration of the Hupsel catchment in May 2021: you now know how -for a year like this- the grass in the catchment reacts to the external meteorological forcings (expressed in the reference evapotranspiration).\n",
    "\n",
    "## Up to the next exercise\n",
    "Apart from the new insights you obtained, you also developed a number of functions that you need to compute the reference evapotranspiration. For the next exercise we will make those functions available for you."
   ]
  }
 ],
 "metadata": {
  "kernelspec": {
   "display_name": "Python 3",
   "language": "python",
   "name": "python3"
  },
  "language_info": {
   "codemirror_mode": {
    "name": "ipython",
    "version": 3
   },
   "file_extension": ".py",
   "mimetype": "text/x-python",
   "name": "python",
   "nbconvert_exporter": "python",
   "pygments_lexer": "ipython3",
   "version": "3.8.2"
  }
 },
 "nbformat": 4,
 "nbformat_minor": 4
}
